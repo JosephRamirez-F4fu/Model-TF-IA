{
 "cells": [
  {
   "cell_type": "code",
   "execution_count": 2,
   "id": "initial_id",
   "metadata": {
    "collapsed": true,
    "ExecuteTime": {
     "end_time": "2023-11-06T21:22:40.833153Z",
     "start_time": "2023-11-06T21:22:40.826413900Z"
    }
   },
   "outputs": [],
   "source": [
    "import pandas as pd\n",
    "import seaborn as sns\n",
    "import numpy as np\n",
    "import matplotlib.pyplot as plt"
   ]
  },
  {
   "cell_type": "code",
   "execution_count": 4,
   "outputs": [
    {
     "name": "stdout",
     "output_type": "stream",
     "text": [
      "(348568, 15)\n"
     ]
    },
    {
     "data": {
      "text/plain": "        matchId  sideId  baronFirst  baronKills  championFirst  championKills  \\\nid                                                                              \n0             0     100        True           1          False             18   \n1             0     200       False           0           True             35   \n2             1     100        True           1          False             48   \n3             1     200       False           1           True             45   \n4             2     100       False           0           True             26   \n...         ...     ...         ...         ...            ...            ...   \n348563   174282     200       False           0          False             16   \n348564   174283     100       False           0          False              6   \n348565   174283     200       False           0           True             27   \n348566   174284     100       False           0           True             21   \n348567   174284     200        True           1          False             31   \n\n        dragonFirst  dragonKills  inhibitorFirst  inhibitorKills  \\\nid                                                                 \n0             False            0           False               1   \n1              True            4            True               2   \n2              True            2            True               2   \n3             False            2           False               0   \n4             False            0           False               0   \n...             ...          ...             ...             ...   \n348563        False            0           False               0   \n348564        False            0           False               0   \n348565         True            2           False               0   \n348566        False            1           False               0   \n348567         True            3            True               2   \n\n        riftHeraldFirst  riftHeraldKills  towerFirst  towerKills    win  \nid                                                                       \n0                  True                1       False           6  False  \n1                 False                1        True           9   True  \n2                 False                1       False           9   True  \n3                  True                1        True           5  False  \n4                  True                1        True           3  False  \n...                 ...              ...         ...         ...    ...  \n348563            False                0       False           3  False  \n348564            False                0       False           0  False  \n348565             True                1        True           4   True  \n348566            False                0        True           2  False  \n348567             True                2       False          10   True  \n\n[348568 rows x 15 columns]",
      "text/html": "<div>\n<style scoped>\n    .dataframe tbody tr th:only-of-type {\n        vertical-align: middle;\n    }\n\n    .dataframe tbody tr th {\n        vertical-align: top;\n    }\n\n    .dataframe thead th {\n        text-align: right;\n    }\n</style>\n<table border=\"1\" class=\"dataframe\">\n  <thead>\n    <tr style=\"text-align: right;\">\n      <th></th>\n      <th>matchId</th>\n      <th>sideId</th>\n      <th>baronFirst</th>\n      <th>baronKills</th>\n      <th>championFirst</th>\n      <th>championKills</th>\n      <th>dragonFirst</th>\n      <th>dragonKills</th>\n      <th>inhibitorFirst</th>\n      <th>inhibitorKills</th>\n      <th>riftHeraldFirst</th>\n      <th>riftHeraldKills</th>\n      <th>towerFirst</th>\n      <th>towerKills</th>\n      <th>win</th>\n    </tr>\n    <tr>\n      <th>id</th>\n      <th></th>\n      <th></th>\n      <th></th>\n      <th></th>\n      <th></th>\n      <th></th>\n      <th></th>\n      <th></th>\n      <th></th>\n      <th></th>\n      <th></th>\n      <th></th>\n      <th></th>\n      <th></th>\n      <th></th>\n    </tr>\n  </thead>\n  <tbody>\n    <tr>\n      <th>0</th>\n      <td>0</td>\n      <td>100</td>\n      <td>True</td>\n      <td>1</td>\n      <td>False</td>\n      <td>18</td>\n      <td>False</td>\n      <td>0</td>\n      <td>False</td>\n      <td>1</td>\n      <td>True</td>\n      <td>1</td>\n      <td>False</td>\n      <td>6</td>\n      <td>False</td>\n    </tr>\n    <tr>\n      <th>1</th>\n      <td>0</td>\n      <td>200</td>\n      <td>False</td>\n      <td>0</td>\n      <td>True</td>\n      <td>35</td>\n      <td>True</td>\n      <td>4</td>\n      <td>True</td>\n      <td>2</td>\n      <td>False</td>\n      <td>1</td>\n      <td>True</td>\n      <td>9</td>\n      <td>True</td>\n    </tr>\n    <tr>\n      <th>2</th>\n      <td>1</td>\n      <td>100</td>\n      <td>True</td>\n      <td>1</td>\n      <td>False</td>\n      <td>48</td>\n      <td>True</td>\n      <td>2</td>\n      <td>True</td>\n      <td>2</td>\n      <td>False</td>\n      <td>1</td>\n      <td>False</td>\n      <td>9</td>\n      <td>True</td>\n    </tr>\n    <tr>\n      <th>3</th>\n      <td>1</td>\n      <td>200</td>\n      <td>False</td>\n      <td>1</td>\n      <td>True</td>\n      <td>45</td>\n      <td>False</td>\n      <td>2</td>\n      <td>False</td>\n      <td>0</td>\n      <td>True</td>\n      <td>1</td>\n      <td>True</td>\n      <td>5</td>\n      <td>False</td>\n    </tr>\n    <tr>\n      <th>4</th>\n      <td>2</td>\n      <td>100</td>\n      <td>False</td>\n      <td>0</td>\n      <td>True</td>\n      <td>26</td>\n      <td>False</td>\n      <td>0</td>\n      <td>False</td>\n      <td>0</td>\n      <td>True</td>\n      <td>1</td>\n      <td>True</td>\n      <td>3</td>\n      <td>False</td>\n    </tr>\n    <tr>\n      <th>...</th>\n      <td>...</td>\n      <td>...</td>\n      <td>...</td>\n      <td>...</td>\n      <td>...</td>\n      <td>...</td>\n      <td>...</td>\n      <td>...</td>\n      <td>...</td>\n      <td>...</td>\n      <td>...</td>\n      <td>...</td>\n      <td>...</td>\n      <td>...</td>\n      <td>...</td>\n    </tr>\n    <tr>\n      <th>348563</th>\n      <td>174282</td>\n      <td>200</td>\n      <td>False</td>\n      <td>0</td>\n      <td>False</td>\n      <td>16</td>\n      <td>False</td>\n      <td>0</td>\n      <td>False</td>\n      <td>0</td>\n      <td>False</td>\n      <td>0</td>\n      <td>False</td>\n      <td>3</td>\n      <td>False</td>\n    </tr>\n    <tr>\n      <th>348564</th>\n      <td>174283</td>\n      <td>100</td>\n      <td>False</td>\n      <td>0</td>\n      <td>False</td>\n      <td>6</td>\n      <td>False</td>\n      <td>0</td>\n      <td>False</td>\n      <td>0</td>\n      <td>False</td>\n      <td>0</td>\n      <td>False</td>\n      <td>0</td>\n      <td>False</td>\n    </tr>\n    <tr>\n      <th>348565</th>\n      <td>174283</td>\n      <td>200</td>\n      <td>False</td>\n      <td>0</td>\n      <td>True</td>\n      <td>27</td>\n      <td>True</td>\n      <td>2</td>\n      <td>False</td>\n      <td>0</td>\n      <td>True</td>\n      <td>1</td>\n      <td>True</td>\n      <td>4</td>\n      <td>True</td>\n    </tr>\n    <tr>\n      <th>348566</th>\n      <td>174284</td>\n      <td>100</td>\n      <td>False</td>\n      <td>0</td>\n      <td>True</td>\n      <td>21</td>\n      <td>False</td>\n      <td>1</td>\n      <td>False</td>\n      <td>0</td>\n      <td>False</td>\n      <td>0</td>\n      <td>True</td>\n      <td>2</td>\n      <td>False</td>\n    </tr>\n    <tr>\n      <th>348567</th>\n      <td>174284</td>\n      <td>200</td>\n      <td>True</td>\n      <td>1</td>\n      <td>False</td>\n      <td>31</td>\n      <td>True</td>\n      <td>3</td>\n      <td>True</td>\n      <td>2</td>\n      <td>True</td>\n      <td>2</td>\n      <td>False</td>\n      <td>10</td>\n      <td>True</td>\n    </tr>\n  </tbody>\n</table>\n<p>348568 rows × 15 columns</p>\n</div>"
     },
     "execution_count": 4,
     "metadata": {},
     "output_type": "execute_result"
    }
   ],
   "source": [
    "team_df = pd.read_csv('raw_data/team.csv')\n",
    "team_df.set_index('id', inplace=True)\n",
    "print(team_df.shape)\n",
    "team_df"
   ],
   "metadata": {
    "collapsed": false,
    "ExecuteTime": {
     "end_time": "2023-11-06T21:23:17.635227300Z",
     "start_time": "2023-11-06T21:23:17.210845900Z"
    }
   },
   "id": "d84a36278d4047c5"
  },
  {
   "cell_type": "code",
   "execution_count": 5,
   "outputs": [
    {
     "name": "stdout",
     "output_type": "stream",
     "text": [
      "(174100, 5)\n"
     ]
    },
    {
     "data": {
      "text/plain": "    gameVersion  gameDurationCluster  afkEarlySurrender  tierId  divisionId\nid                                                                         \n0         13.19                    1              False       4           4\n1         13.19                    2              False       4           4\n2         13.13                    1              False       4           4\n3         13.13                    2              False       4           4\n4         13.19                    1              False       4           4",
      "text/html": "<div>\n<style scoped>\n    .dataframe tbody tr th:only-of-type {\n        vertical-align: middle;\n    }\n\n    .dataframe tbody tr th {\n        vertical-align: top;\n    }\n\n    .dataframe thead th {\n        text-align: right;\n    }\n</style>\n<table border=\"1\" class=\"dataframe\">\n  <thead>\n    <tr style=\"text-align: right;\">\n      <th></th>\n      <th>gameVersion</th>\n      <th>gameDurationCluster</th>\n      <th>afkEarlySurrender</th>\n      <th>tierId</th>\n      <th>divisionId</th>\n    </tr>\n    <tr>\n      <th>id</th>\n      <th></th>\n      <th></th>\n      <th></th>\n      <th></th>\n      <th></th>\n    </tr>\n  </thead>\n  <tbody>\n    <tr>\n      <th>0</th>\n      <td>13.19</td>\n      <td>1</td>\n      <td>False</td>\n      <td>4</td>\n      <td>4</td>\n    </tr>\n    <tr>\n      <th>1</th>\n      <td>13.19</td>\n      <td>2</td>\n      <td>False</td>\n      <td>4</td>\n      <td>4</td>\n    </tr>\n    <tr>\n      <th>2</th>\n      <td>13.13</td>\n      <td>1</td>\n      <td>False</td>\n      <td>4</td>\n      <td>4</td>\n    </tr>\n    <tr>\n      <th>3</th>\n      <td>13.13</td>\n      <td>2</td>\n      <td>False</td>\n      <td>4</td>\n      <td>4</td>\n    </tr>\n    <tr>\n      <th>4</th>\n      <td>13.19</td>\n      <td>1</td>\n      <td>False</td>\n      <td>4</td>\n      <td>4</td>\n    </tr>\n  </tbody>\n</table>\n</div>"
     },
     "execution_count": 5,
     "metadata": {},
     "output_type": "execute_result"
    }
   ],
   "source": [
    "match_df = pd.read_csv('clean_data/match.csv')\n",
    "match_df.set_index('id', inplace=True)\n",
    "print(match_df.shape)\n",
    "match_df.head()"
   ],
   "metadata": {
    "collapsed": false,
    "ExecuteTime": {
     "end_time": "2023-11-06T21:23:19.989065400Z",
     "start_time": "2023-11-06T21:23:19.898373800Z"
    }
   },
   "id": "be595f3d7436e545"
  },
  {
   "cell_type": "code",
   "execution_count": 6,
   "outputs": [
    {
     "data": {
      "text/plain": "(348200, 15)"
     },
     "execution_count": 6,
     "metadata": {},
     "output_type": "execute_result"
    }
   ],
   "source": [
    "team_df = team_df[team_df['matchId'].isin(match_df.index.tolist())]\n",
    "team_df.shape"
   ],
   "metadata": {
    "collapsed": false,
    "ExecuteTime": {
     "end_time": "2023-11-06T21:23:34.318745300Z",
     "start_time": "2023-11-06T21:23:34.233638600Z"
    }
   },
   "id": "5d51245b68846a28"
  },
  {
   "cell_type": "code",
   "execution_count": 7,
   "outputs": [],
   "source": [
    "team_df.to_csv('clean_data/team.csv', index=True)"
   ],
   "metadata": {
    "collapsed": false,
    "ExecuteTime": {
     "end_time": "2023-11-06T21:24:45.565360400Z",
     "start_time": "2023-11-06T21:24:44.582129600Z"
    }
   },
   "id": "27c27d3482e2180"
  }
 ],
 "metadata": {
  "kernelspec": {
   "display_name": "Python 3",
   "language": "python",
   "name": "python3"
  },
  "language_info": {
   "codemirror_mode": {
    "name": "ipython",
    "version": 2
   },
   "file_extension": ".py",
   "mimetype": "text/x-python",
   "name": "python",
   "nbconvert_exporter": "python",
   "pygments_lexer": "ipython2",
   "version": "2.7.6"
  }
 },
 "nbformat": 4,
 "nbformat_minor": 5
}
