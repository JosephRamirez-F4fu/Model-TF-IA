{
 "cells": [
  {
   "cell_type": "code",
   "execution_count": 1,
   "outputs": [],
   "source": [
    "import pandas as pd"
   ],
   "metadata": {
    "collapsed": false,
    "ExecuteTime": {
     "end_time": "2023-11-07T05:38:54.743542400Z",
     "start_time": "2023-11-07T05:38:54.500995900Z"
    }
   },
   "id": "e6a4c6ab1fcbbd6a"
  },
  {
   "cell_type": "markdown",
   "source": [
    "# READ DATA"
   ],
   "metadata": {
    "collapsed": false
   },
   "id": "eb3a08896dc8a44c"
  },
  {
   "cell_type": "markdown",
   "source": [
    "champion index "
   ],
   "metadata": {
    "collapsed": false
   },
   "id": "13c41ce5cc4c1372"
  },
  {
   "cell_type": "code",
   "execution_count": 2,
   "outputs": [],
   "source": [
    "champion = pd.read_csv('data/clean/champion.csv',sep=',')"
   ],
   "metadata": {
    "collapsed": false,
    "ExecuteTime": {
     "end_time": "2023-11-07T05:38:54.983544800Z",
     "start_time": "2023-11-07T05:38:54.743542400Z"
    }
   },
   "id": "46e231f2714ebdb1"
  },
  {
   "cell_type": "code",
   "execution_count": 3,
   "outputs": [
    {
     "data": {
      "text/plain": "   championId championName\n0          23   Tryndamere\n1         203      Kindred\n2          90     Malzahar\n3         145        Kaisa\n4          12      Alistar",
      "text/html": "<div>\n<style scoped>\n    .dataframe tbody tr th:only-of-type {\n        vertical-align: middle;\n    }\n\n    .dataframe tbody tr th {\n        vertical-align: top;\n    }\n\n    .dataframe thead th {\n        text-align: right;\n    }\n</style>\n<table border=\"1\" class=\"dataframe\">\n  <thead>\n    <tr style=\"text-align: right;\">\n      <th></th>\n      <th>championId</th>\n      <th>championName</th>\n    </tr>\n  </thead>\n  <tbody>\n    <tr>\n      <th>0</th>\n      <td>23</td>\n      <td>Tryndamere</td>\n    </tr>\n    <tr>\n      <th>1</th>\n      <td>203</td>\n      <td>Kindred</td>\n    </tr>\n    <tr>\n      <th>2</th>\n      <td>90</td>\n      <td>Malzahar</td>\n    </tr>\n    <tr>\n      <th>3</th>\n      <td>145</td>\n      <td>Kaisa</td>\n    </tr>\n    <tr>\n      <th>4</th>\n      <td>12</td>\n      <td>Alistar</td>\n    </tr>\n  </tbody>\n</table>\n</div>"
     },
     "execution_count": 3,
     "metadata": {},
     "output_type": "execute_result"
    }
   ],
   "source": [
    "champion.head()"
   ],
   "metadata": {
    "collapsed": false,
    "ExecuteTime": {
     "end_time": "2023-11-07T05:38:54.999556500Z",
     "start_time": "2023-11-07T05:38:54.983544800Z"
    }
   },
   "id": "2d1b611754f37a67"
  },
  {
   "cell_type": "code",
   "execution_count": 4,
   "outputs": [],
   "source": [
    "match = pd.read_csv('data/clean/match.csv',sep=',')"
   ],
   "metadata": {
    "collapsed": false,
    "ExecuteTime": {
     "end_time": "2023-11-07T05:38:55.094390300Z",
     "start_time": "2023-11-07T05:38:54.999556500Z"
    }
   },
   "id": "db7c42fb83db454a"
  },
  {
   "cell_type": "code",
   "execution_count": 5,
   "outputs": [
    {
     "data": {
      "text/plain": "   id  gameVersion  gameDurationCluster  afkEarlySurrender  tierId  divisionId\n0   0        13.19                    1              False       4           4\n1   1        13.19                    2              False       4           4\n2   2        13.13                    1              False       4           4\n3   3        13.13                    2              False       4           4\n4   4        13.19                    1              False       4           4",
      "text/html": "<div>\n<style scoped>\n    .dataframe tbody tr th:only-of-type {\n        vertical-align: middle;\n    }\n\n    .dataframe tbody tr th {\n        vertical-align: top;\n    }\n\n    .dataframe thead th {\n        text-align: right;\n    }\n</style>\n<table border=\"1\" class=\"dataframe\">\n  <thead>\n    <tr style=\"text-align: right;\">\n      <th></th>\n      <th>id</th>\n      <th>gameVersion</th>\n      <th>gameDurationCluster</th>\n      <th>afkEarlySurrender</th>\n      <th>tierId</th>\n      <th>divisionId</th>\n    </tr>\n  </thead>\n  <tbody>\n    <tr>\n      <th>0</th>\n      <td>0</td>\n      <td>13.19</td>\n      <td>1</td>\n      <td>False</td>\n      <td>4</td>\n      <td>4</td>\n    </tr>\n    <tr>\n      <th>1</th>\n      <td>1</td>\n      <td>13.19</td>\n      <td>2</td>\n      <td>False</td>\n      <td>4</td>\n      <td>4</td>\n    </tr>\n    <tr>\n      <th>2</th>\n      <td>2</td>\n      <td>13.13</td>\n      <td>1</td>\n      <td>False</td>\n      <td>4</td>\n      <td>4</td>\n    </tr>\n    <tr>\n      <th>3</th>\n      <td>3</td>\n      <td>13.13</td>\n      <td>2</td>\n      <td>False</td>\n      <td>4</td>\n      <td>4</td>\n    </tr>\n    <tr>\n      <th>4</th>\n      <td>4</td>\n      <td>13.19</td>\n      <td>1</td>\n      <td>False</td>\n      <td>4</td>\n      <td>4</td>\n    </tr>\n  </tbody>\n</table>\n</div>"
     },
     "execution_count": 5,
     "metadata": {},
     "output_type": "execute_result"
    }
   ],
   "source": [
    "match.head()"
   ],
   "metadata": {
    "collapsed": false,
    "ExecuteTime": {
     "end_time": "2023-11-07T05:38:55.094390300Z",
     "start_time": "2023-11-07T05:38:55.062991600Z"
    }
   },
   "id": "1256d0a10d3a65e7"
  },
  {
   "cell_type": "markdown",
   "source": [],
   "metadata": {
    "collapsed": false
   },
   "id": "d7a4793510c785d3"
  },
  {
   "cell_type": "code",
   "execution_count": 6,
   "outputs": [],
   "source": [
    "participant = pd.read_csv('data/clean/participant.csv',sep=',')"
   ],
   "metadata": {
    "collapsed": false,
    "ExecuteTime": {
     "end_time": "2023-11-07T05:39:02.157208600Z",
     "start_time": "2023-11-07T05:38:55.078500Z"
    }
   },
   "id": "e5e8fba732e9df8a"
  },
  {
   "cell_type": "code",
   "execution_count": 7,
   "outputs": [
    {
     "data": {
      "text/plain": "   id  matchId  teamId  turn  gameEndedInEarlySurrender  gameEndedInSurrender  \\\n0   0        0       0     1                      False                 False   \n1   1        0       0     2                      False                 False   \n2   2        0       0     3                      False                 False   \n3   3        0       0     4                      False                 False   \n4   4        0       0     5                      False                 False   \n\n     lane     role  championId  champExperience  ...  neutralMinionsKilled  \\\n0  JUNGLE     NONE          23            13182  ...                     4   \n1  JUNGLE     NONE         203            12374  ...                   145   \n2  MIDDLE     SOLO          90            13929  ...                     4   \n3  BOTTOM    CARRY         145             9258  ...                     8   \n4  BOTTOM  SUPPORT          12             8200  ...                     0   \n\n   totalMinionsKilled  visionScore  visionWardsBoughtInGame  \\\n0                 203           10                        0   \n1                  30           13                        0   \n2                 221           16                        0   \n3                 151           15                        0   \n4                  33           45                        9   \n\n   detectorWardsPlaced  wardsKilled  wardsPlaced  objectivePlaystyle  \\\n0                    0            0            7                   0   \n1                    0            4            1                   0   \n2                    0            1            8                   0   \n3                    0            3            7                   2   \n4                    6            3           22                   2   \n\n   healPlaystyle  Position  \n0              4       TOP  \n1              3    JUNGLE  \n2              1    MIDDLE  \n3              1    BOTTOM  \n4              4   UTILITY  \n\n[5 rows x 99 columns]",
      "text/html": "<div>\n<style scoped>\n    .dataframe tbody tr th:only-of-type {\n        vertical-align: middle;\n    }\n\n    .dataframe tbody tr th {\n        vertical-align: top;\n    }\n\n    .dataframe thead th {\n        text-align: right;\n    }\n</style>\n<table border=\"1\" class=\"dataframe\">\n  <thead>\n    <tr style=\"text-align: right;\">\n      <th></th>\n      <th>id</th>\n      <th>matchId</th>\n      <th>teamId</th>\n      <th>turn</th>\n      <th>gameEndedInEarlySurrender</th>\n      <th>gameEndedInSurrender</th>\n      <th>lane</th>\n      <th>role</th>\n      <th>championId</th>\n      <th>champExperience</th>\n      <th>...</th>\n      <th>neutralMinionsKilled</th>\n      <th>totalMinionsKilled</th>\n      <th>visionScore</th>\n      <th>visionWardsBoughtInGame</th>\n      <th>detectorWardsPlaced</th>\n      <th>wardsKilled</th>\n      <th>wardsPlaced</th>\n      <th>objectivePlaystyle</th>\n      <th>healPlaystyle</th>\n      <th>Position</th>\n    </tr>\n  </thead>\n  <tbody>\n    <tr>\n      <th>0</th>\n      <td>0</td>\n      <td>0</td>\n      <td>0</td>\n      <td>1</td>\n      <td>False</td>\n      <td>False</td>\n      <td>JUNGLE</td>\n      <td>NONE</td>\n      <td>23</td>\n      <td>13182</td>\n      <td>...</td>\n      <td>4</td>\n      <td>203</td>\n      <td>10</td>\n      <td>0</td>\n      <td>0</td>\n      <td>0</td>\n      <td>7</td>\n      <td>0</td>\n      <td>4</td>\n      <td>TOP</td>\n    </tr>\n    <tr>\n      <th>1</th>\n      <td>1</td>\n      <td>0</td>\n      <td>0</td>\n      <td>2</td>\n      <td>False</td>\n      <td>False</td>\n      <td>JUNGLE</td>\n      <td>NONE</td>\n      <td>203</td>\n      <td>12374</td>\n      <td>...</td>\n      <td>145</td>\n      <td>30</td>\n      <td>13</td>\n      <td>0</td>\n      <td>0</td>\n      <td>4</td>\n      <td>1</td>\n      <td>0</td>\n      <td>3</td>\n      <td>JUNGLE</td>\n    </tr>\n    <tr>\n      <th>2</th>\n      <td>2</td>\n      <td>0</td>\n      <td>0</td>\n      <td>3</td>\n      <td>False</td>\n      <td>False</td>\n      <td>MIDDLE</td>\n      <td>SOLO</td>\n      <td>90</td>\n      <td>13929</td>\n      <td>...</td>\n      <td>4</td>\n      <td>221</td>\n      <td>16</td>\n      <td>0</td>\n      <td>0</td>\n      <td>1</td>\n      <td>8</td>\n      <td>0</td>\n      <td>1</td>\n      <td>MIDDLE</td>\n    </tr>\n    <tr>\n      <th>3</th>\n      <td>3</td>\n      <td>0</td>\n      <td>0</td>\n      <td>4</td>\n      <td>False</td>\n      <td>False</td>\n      <td>BOTTOM</td>\n      <td>CARRY</td>\n      <td>145</td>\n      <td>9258</td>\n      <td>...</td>\n      <td>8</td>\n      <td>151</td>\n      <td>15</td>\n      <td>0</td>\n      <td>0</td>\n      <td>3</td>\n      <td>7</td>\n      <td>2</td>\n      <td>1</td>\n      <td>BOTTOM</td>\n    </tr>\n    <tr>\n      <th>4</th>\n      <td>4</td>\n      <td>0</td>\n      <td>0</td>\n      <td>5</td>\n      <td>False</td>\n      <td>False</td>\n      <td>BOTTOM</td>\n      <td>SUPPORT</td>\n      <td>12</td>\n      <td>8200</td>\n      <td>...</td>\n      <td>0</td>\n      <td>33</td>\n      <td>45</td>\n      <td>9</td>\n      <td>6</td>\n      <td>3</td>\n      <td>22</td>\n      <td>2</td>\n      <td>4</td>\n      <td>UTILITY</td>\n    </tr>\n  </tbody>\n</table>\n<p>5 rows × 99 columns</p>\n</div>"
     },
     "execution_count": 7,
     "metadata": {},
     "output_type": "execute_result"
    }
   ],
   "source": [
    "participant.head()"
   ],
   "metadata": {
    "collapsed": false,
    "ExecuteTime": {
     "end_time": "2023-11-07T05:39:02.173300400Z",
     "start_time": "2023-11-07T05:39:02.160052200Z"
    }
   },
   "id": "c76bc232104c7034"
  },
  {
   "cell_type": "code",
   "execution_count": 8,
   "outputs": [],
   "source": [
    "team = pd.read_csv('data/clean/team.csv',sep=',')"
   ],
   "metadata": {
    "collapsed": false,
    "ExecuteTime": {
     "end_time": "2023-11-07T05:39:02.386395800Z",
     "start_time": "2023-11-07T05:39:02.173300400Z"
    }
   },
   "id": "c1ed8c68a374f2db"
  },
  {
   "cell_type": "code",
   "execution_count": 9,
   "outputs": [
    {
     "data": {
      "text/plain": "   id  matchId  sideId  baronFirst  baronKills  championFirst  championKills  \\\n0   0        0     100        True           1          False             18   \n1   1        0     200       False           0           True             35   \n2   2        1     100        True           1          False             48   \n3   3        1     200       False           1           True             45   \n4   4        2     100       False           0           True             26   \n\n   dragonFirst  dragonKills  inhibitorFirst  inhibitorKills  riftHeraldFirst  \\\n0        False            0           False               1             True   \n1         True            4            True               2            False   \n2         True            2            True               2            False   \n3        False            2           False               0             True   \n4        False            0           False               0             True   \n\n   riftHeraldKills  towerFirst  towerKills    win  \n0                1       False           6  False  \n1                1        True           9   True  \n2                1       False           9   True  \n3                1        True           5  False  \n4                1        True           3  False  ",
      "text/html": "<div>\n<style scoped>\n    .dataframe tbody tr th:only-of-type {\n        vertical-align: middle;\n    }\n\n    .dataframe tbody tr th {\n        vertical-align: top;\n    }\n\n    .dataframe thead th {\n        text-align: right;\n    }\n</style>\n<table border=\"1\" class=\"dataframe\">\n  <thead>\n    <tr style=\"text-align: right;\">\n      <th></th>\n      <th>id</th>\n      <th>matchId</th>\n      <th>sideId</th>\n      <th>baronFirst</th>\n      <th>baronKills</th>\n      <th>championFirst</th>\n      <th>championKills</th>\n      <th>dragonFirst</th>\n      <th>dragonKills</th>\n      <th>inhibitorFirst</th>\n      <th>inhibitorKills</th>\n      <th>riftHeraldFirst</th>\n      <th>riftHeraldKills</th>\n      <th>towerFirst</th>\n      <th>towerKills</th>\n      <th>win</th>\n    </tr>\n  </thead>\n  <tbody>\n    <tr>\n      <th>0</th>\n      <td>0</td>\n      <td>0</td>\n      <td>100</td>\n      <td>True</td>\n      <td>1</td>\n      <td>False</td>\n      <td>18</td>\n      <td>False</td>\n      <td>0</td>\n      <td>False</td>\n      <td>1</td>\n      <td>True</td>\n      <td>1</td>\n      <td>False</td>\n      <td>6</td>\n      <td>False</td>\n    </tr>\n    <tr>\n      <th>1</th>\n      <td>1</td>\n      <td>0</td>\n      <td>200</td>\n      <td>False</td>\n      <td>0</td>\n      <td>True</td>\n      <td>35</td>\n      <td>True</td>\n      <td>4</td>\n      <td>True</td>\n      <td>2</td>\n      <td>False</td>\n      <td>1</td>\n      <td>True</td>\n      <td>9</td>\n      <td>True</td>\n    </tr>\n    <tr>\n      <th>2</th>\n      <td>2</td>\n      <td>1</td>\n      <td>100</td>\n      <td>True</td>\n      <td>1</td>\n      <td>False</td>\n      <td>48</td>\n      <td>True</td>\n      <td>2</td>\n      <td>True</td>\n      <td>2</td>\n      <td>False</td>\n      <td>1</td>\n      <td>False</td>\n      <td>9</td>\n      <td>True</td>\n    </tr>\n    <tr>\n      <th>3</th>\n      <td>3</td>\n      <td>1</td>\n      <td>200</td>\n      <td>False</td>\n      <td>1</td>\n      <td>True</td>\n      <td>45</td>\n      <td>False</td>\n      <td>2</td>\n      <td>False</td>\n      <td>0</td>\n      <td>True</td>\n      <td>1</td>\n      <td>True</td>\n      <td>5</td>\n      <td>False</td>\n    </tr>\n    <tr>\n      <th>4</th>\n      <td>4</td>\n      <td>2</td>\n      <td>100</td>\n      <td>False</td>\n      <td>0</td>\n      <td>True</td>\n      <td>26</td>\n      <td>False</td>\n      <td>0</td>\n      <td>False</td>\n      <td>0</td>\n      <td>True</td>\n      <td>1</td>\n      <td>True</td>\n      <td>3</td>\n      <td>False</td>\n    </tr>\n  </tbody>\n</table>\n</div>"
     },
     "execution_count": 9,
     "metadata": {},
     "output_type": "execute_result"
    }
   ],
   "source": [
    "team.head()"
   ],
   "metadata": {
    "collapsed": false,
    "ExecuteTime": {
     "end_time": "2023-11-07T05:39:02.401906Z",
     "start_time": "2023-11-07T05:39:02.386395800Z"
    }
   },
   "id": "4406797f5a1f38aa"
  },
  {
   "cell_type": "markdown",
   "source": [
    "# model of prediction of victory"
   ],
   "metadata": {
    "collapsed": false
   },
   "id": "8d40497217232f38"
  },
  {
   "cell_type": "markdown",
   "source": [
    "## transform data for train"
   ],
   "metadata": {
    "collapsed": false
   },
   "id": "c0ecfa2271331feb"
  },
  {
   "cell_type": "code",
   "execution_count": 10,
   "outputs": [],
   "source": [
    "team['sideId'].value_counts()\n",
    "team['sideId']=team['sideId'].replace({\n",
    "    100:0,\n",
    "    200:1\n",
    "})"
   ],
   "metadata": {
    "collapsed": false,
    "ExecuteTime": {
     "end_time": "2023-11-07T05:39:02.433267800Z",
     "start_time": "2023-11-07T05:39:02.401906Z"
    }
   },
   "id": "feac84973bf4c2f3"
  },
  {
   "cell_type": "markdown",
   "source": [
    "cambiaremos sideId por un valor mas diferenciador ya que significa que equipo pertence cada integrante"
   ],
   "metadata": {
    "collapsed": false
   },
   "id": "a1c7d5fd4557fc58"
  },
  {
   "cell_type": "code",
   "execution_count": 32,
   "outputs": [],
   "source": [
    "participant_train  = participant[['id','teamId','championBan','championId','champExperience','Position']].head(10000)"
   ],
   "metadata": {
    "collapsed": false,
    "ExecuteTime": {
     "end_time": "2023-11-07T06:05:39.820546800Z",
     "start_time": "2023-11-07T06:05:39.785411300Z"
    }
   },
   "id": "2c8ce8647e4729da"
  },
  {
   "cell_type": "code",
   "execution_count": 33,
   "outputs": [
    {
     "data": {
      "text/plain": "['id', 'teamId', 'championBan', 'championId', 'champLevel', 'Position']"
     },
     "execution_count": 33,
     "metadata": {},
     "output_type": "execute_result"
    }
   ],
   "source": [
    "participant_train.columns.tolist()"
   ],
   "metadata": {
    "collapsed": false,
    "ExecuteTime": {
     "end_time": "2023-11-07T06:05:41.229671500Z",
     "start_time": "2023-11-07T06:05:41.213847500Z"
    }
   },
   "id": "da601aeca211e93c"
  },
  {
   "cell_type": "code",
   "execution_count": 34,
   "outputs": [
    {
     "data": {
      "text/plain": "        id  teamId  championBan  championId  champLevel Position\n0        0       0           -1          23          15      TOP\n1        1       0           30         203          14   JUNGLE\n2        2       0          107          90          15   MIDDLE\n3        3       0           24         145          12   BOTTOM\n4        4       0          119          12          11  UTILITY\n...    ...     ...          ...         ...         ...      ...\n9995  9995    1999           36           1          12      TOP\n9996  9996    1999          119         120          14   JUNGLE\n9997  9997    1999           59          34          11   MIDDLE\n9998  9998    1999          895         429           9   BOTTOM\n9999  9999    1999           38          50          12  UTILITY\n\n[10000 rows x 6 columns]",
      "text/html": "<div>\n<style scoped>\n    .dataframe tbody tr th:only-of-type {\n        vertical-align: middle;\n    }\n\n    .dataframe tbody tr th {\n        vertical-align: top;\n    }\n\n    .dataframe thead th {\n        text-align: right;\n    }\n</style>\n<table border=\"1\" class=\"dataframe\">\n  <thead>\n    <tr style=\"text-align: right;\">\n      <th></th>\n      <th>id</th>\n      <th>teamId</th>\n      <th>championBan</th>\n      <th>championId</th>\n      <th>champLevel</th>\n      <th>Position</th>\n    </tr>\n  </thead>\n  <tbody>\n    <tr>\n      <th>0</th>\n      <td>0</td>\n      <td>0</td>\n      <td>-1</td>\n      <td>23</td>\n      <td>15</td>\n      <td>TOP</td>\n    </tr>\n    <tr>\n      <th>1</th>\n      <td>1</td>\n      <td>0</td>\n      <td>30</td>\n      <td>203</td>\n      <td>14</td>\n      <td>JUNGLE</td>\n    </tr>\n    <tr>\n      <th>2</th>\n      <td>2</td>\n      <td>0</td>\n      <td>107</td>\n      <td>90</td>\n      <td>15</td>\n      <td>MIDDLE</td>\n    </tr>\n    <tr>\n      <th>3</th>\n      <td>3</td>\n      <td>0</td>\n      <td>24</td>\n      <td>145</td>\n      <td>12</td>\n      <td>BOTTOM</td>\n    </tr>\n    <tr>\n      <th>4</th>\n      <td>4</td>\n      <td>0</td>\n      <td>119</td>\n      <td>12</td>\n      <td>11</td>\n      <td>UTILITY</td>\n    </tr>\n    <tr>\n      <th>...</th>\n      <td>...</td>\n      <td>...</td>\n      <td>...</td>\n      <td>...</td>\n      <td>...</td>\n      <td>...</td>\n    </tr>\n    <tr>\n      <th>9995</th>\n      <td>9995</td>\n      <td>1999</td>\n      <td>36</td>\n      <td>1</td>\n      <td>12</td>\n      <td>TOP</td>\n    </tr>\n    <tr>\n      <th>9996</th>\n      <td>9996</td>\n      <td>1999</td>\n      <td>119</td>\n      <td>120</td>\n      <td>14</td>\n      <td>JUNGLE</td>\n    </tr>\n    <tr>\n      <th>9997</th>\n      <td>9997</td>\n      <td>1999</td>\n      <td>59</td>\n      <td>34</td>\n      <td>11</td>\n      <td>MIDDLE</td>\n    </tr>\n    <tr>\n      <th>9998</th>\n      <td>9998</td>\n      <td>1999</td>\n      <td>895</td>\n      <td>429</td>\n      <td>9</td>\n      <td>BOTTOM</td>\n    </tr>\n    <tr>\n      <th>9999</th>\n      <td>9999</td>\n      <td>1999</td>\n      <td>38</td>\n      <td>50</td>\n      <td>12</td>\n      <td>UTILITY</td>\n    </tr>\n  </tbody>\n</table>\n<p>10000 rows × 6 columns</p>\n</div>"
     },
     "execution_count": 34,
     "metadata": {},
     "output_type": "execute_result"
    }
   ],
   "source": [
    "participant_train"
   ],
   "metadata": {
    "collapsed": false,
    "ExecuteTime": {
     "end_time": "2023-11-07T06:05:43.768552400Z",
     "start_time": "2023-11-07T06:05:43.752947600Z"
    }
   },
   "id": "a06408a52634a192"
  },
  {
   "cell_type": "code",
   "execution_count": 35,
   "outputs": [
    {
     "data": {
      "text/plain": "2000"
     },
     "execution_count": 35,
     "metadata": {},
     "output_type": "execute_result"
    }
   ],
   "source": [
    "\n",
    "team_num = participant_train['teamId'].unique()\n",
    "len(team_num)\n",
    "\n",
    "    "
   ],
   "metadata": {
    "collapsed": false,
    "ExecuteTime": {
     "end_time": "2023-11-07T06:05:48.626933500Z",
     "start_time": "2023-11-07T06:05:48.611189100Z"
    }
   },
   "id": "1a2a04fa0846a4"
  },
  {
   "cell_type": "markdown",
   "source": [],
   "metadata": {
    "collapsed": false
   },
   "id": "c707f0c1bd06acc9"
  },
  {
   "cell_type": "code",
   "execution_count": 36,
   "outputs": [
    {
     "data": {
      "text/plain": "       championId champLevel championBan Position championId champLevel  \\\nteamId                                                                    \n0              23         15          -1      TOP        203         14   \n1             122         12         200      TOP        104         15   \n2             777         17         360      TOP         56         16   \n3             166         18          53      TOP        233         16   \n4              98         10         555      TOP         28         11   \n...           ...        ...         ...      ...        ...        ...   \n1995           34         15          53   MIDDLE         11         14   \n1996          887         13         119      TOP        233         12   \n1997           86         15         360      TOP         33         13   \n1998          164         14         107      TOP         76         12   \n1999            1         12          36      TOP        120         14   \n\n       championBan Position championId champLevel championBan Position  \\\nteamId                                                                   \n0               30   JUNGLE         90         15         107   MIDDLE   \n1               91   JUNGLE         34         14          30   MIDDLE   \n2              221   JUNGLE        268         17         238   MIDDLE   \n3                8   JUNGLE        134         17          24   MIDDLE   \n4              107   JUNGLE        238         13          -1   MIDDLE   \n...            ...      ...        ...        ...         ...      ...   \n1995            51   JUNGLE         92         15          64      TOP   \n1996            -1   JUNGLE         84         13         238   MIDDLE   \n1997           555   JUNGLE        517         15         876   MIDDLE   \n1998            36   JUNGLE        103         12          -1   MIDDLE   \n1999           119   JUNGLE         34         11          59   MIDDLE   \n\n       championId champLevel championBan Position championId champLevel  \\\nteamId                                                                    \n0             145         12          24   BOTTOM         12         11   \n1              29         14         157   BOTTOM        412         12   \n2              29         16         107   BOTTOM        555         14   \n3             145         17         200   BOTTOM        143         14   \n4              21         11         203   BOTTOM         26          9   \n...           ...        ...         ...      ...        ...        ...   \n1995          222         12         238   BOTTOM        888         12   \n1996           81         12          24   BOTTOM        235         10   \n1997          115         13         164   BOTTOM         43         11   \n1998           81         11          24   BOTTOM        111         10   \n1999          429          9         895   BOTTOM         50         12   \n\n       championBan Position  \nteamId                       \n0              119  UTILITY  \n1              233  UTILITY  \n2               54  UTILITY  \n3              107  UTILITY  \n4              421  UTILITY  \n...            ...      ...  \n1995           360  UTILITY  \n1996           101  UTILITY  \n1997           238  UTILITY  \n1998            -1  UTILITY  \n1999            38  UTILITY  \n\n[2000 rows x 20 columns]",
      "text/html": "<div>\n<style scoped>\n    .dataframe tbody tr th:only-of-type {\n        vertical-align: middle;\n    }\n\n    .dataframe tbody tr th {\n        vertical-align: top;\n    }\n\n    .dataframe thead th {\n        text-align: right;\n    }\n</style>\n<table border=\"1\" class=\"dataframe\">\n  <thead>\n    <tr style=\"text-align: right;\">\n      <th></th>\n      <th>championId</th>\n      <th>champLevel</th>\n      <th>championBan</th>\n      <th>Position</th>\n      <th>championId</th>\n      <th>champLevel</th>\n      <th>championBan</th>\n      <th>Position</th>\n      <th>championId</th>\n      <th>champLevel</th>\n      <th>championBan</th>\n      <th>Position</th>\n      <th>championId</th>\n      <th>champLevel</th>\n      <th>championBan</th>\n      <th>Position</th>\n      <th>championId</th>\n      <th>champLevel</th>\n      <th>championBan</th>\n      <th>Position</th>\n    </tr>\n    <tr>\n      <th>teamId</th>\n      <th></th>\n      <th></th>\n      <th></th>\n      <th></th>\n      <th></th>\n      <th></th>\n      <th></th>\n      <th></th>\n      <th></th>\n      <th></th>\n      <th></th>\n      <th></th>\n      <th></th>\n      <th></th>\n      <th></th>\n      <th></th>\n      <th></th>\n      <th></th>\n      <th></th>\n      <th></th>\n    </tr>\n  </thead>\n  <tbody>\n    <tr>\n      <th>0</th>\n      <td>23</td>\n      <td>15</td>\n      <td>-1</td>\n      <td>TOP</td>\n      <td>203</td>\n      <td>14</td>\n      <td>30</td>\n      <td>JUNGLE</td>\n      <td>90</td>\n      <td>15</td>\n      <td>107</td>\n      <td>MIDDLE</td>\n      <td>145</td>\n      <td>12</td>\n      <td>24</td>\n      <td>BOTTOM</td>\n      <td>12</td>\n      <td>11</td>\n      <td>119</td>\n      <td>UTILITY</td>\n    </tr>\n    <tr>\n      <th>1</th>\n      <td>122</td>\n      <td>12</td>\n      <td>200</td>\n      <td>TOP</td>\n      <td>104</td>\n      <td>15</td>\n      <td>91</td>\n      <td>JUNGLE</td>\n      <td>34</td>\n      <td>14</td>\n      <td>30</td>\n      <td>MIDDLE</td>\n      <td>29</td>\n      <td>14</td>\n      <td>157</td>\n      <td>BOTTOM</td>\n      <td>412</td>\n      <td>12</td>\n      <td>233</td>\n      <td>UTILITY</td>\n    </tr>\n    <tr>\n      <th>2</th>\n      <td>777</td>\n      <td>17</td>\n      <td>360</td>\n      <td>TOP</td>\n      <td>56</td>\n      <td>16</td>\n      <td>221</td>\n      <td>JUNGLE</td>\n      <td>268</td>\n      <td>17</td>\n      <td>238</td>\n      <td>MIDDLE</td>\n      <td>29</td>\n      <td>16</td>\n      <td>107</td>\n      <td>BOTTOM</td>\n      <td>555</td>\n      <td>14</td>\n      <td>54</td>\n      <td>UTILITY</td>\n    </tr>\n    <tr>\n      <th>3</th>\n      <td>166</td>\n      <td>18</td>\n      <td>53</td>\n      <td>TOP</td>\n      <td>233</td>\n      <td>16</td>\n      <td>8</td>\n      <td>JUNGLE</td>\n      <td>134</td>\n      <td>17</td>\n      <td>24</td>\n      <td>MIDDLE</td>\n      <td>145</td>\n      <td>17</td>\n      <td>200</td>\n      <td>BOTTOM</td>\n      <td>143</td>\n      <td>14</td>\n      <td>107</td>\n      <td>UTILITY</td>\n    </tr>\n    <tr>\n      <th>4</th>\n      <td>98</td>\n      <td>10</td>\n      <td>555</td>\n      <td>TOP</td>\n      <td>28</td>\n      <td>11</td>\n      <td>107</td>\n      <td>JUNGLE</td>\n      <td>238</td>\n      <td>13</td>\n      <td>-1</td>\n      <td>MIDDLE</td>\n      <td>21</td>\n      <td>11</td>\n      <td>203</td>\n      <td>BOTTOM</td>\n      <td>26</td>\n      <td>9</td>\n      <td>421</td>\n      <td>UTILITY</td>\n    </tr>\n    <tr>\n      <th>...</th>\n      <td>...</td>\n      <td>...</td>\n      <td>...</td>\n      <td>...</td>\n      <td>...</td>\n      <td>...</td>\n      <td>...</td>\n      <td>...</td>\n      <td>...</td>\n      <td>...</td>\n      <td>...</td>\n      <td>...</td>\n      <td>...</td>\n      <td>...</td>\n      <td>...</td>\n      <td>...</td>\n      <td>...</td>\n      <td>...</td>\n      <td>...</td>\n      <td>...</td>\n    </tr>\n    <tr>\n      <th>1995</th>\n      <td>34</td>\n      <td>15</td>\n      <td>53</td>\n      <td>MIDDLE</td>\n      <td>11</td>\n      <td>14</td>\n      <td>51</td>\n      <td>JUNGLE</td>\n      <td>92</td>\n      <td>15</td>\n      <td>64</td>\n      <td>TOP</td>\n      <td>222</td>\n      <td>12</td>\n      <td>238</td>\n      <td>BOTTOM</td>\n      <td>888</td>\n      <td>12</td>\n      <td>360</td>\n      <td>UTILITY</td>\n    </tr>\n    <tr>\n      <th>1996</th>\n      <td>887</td>\n      <td>13</td>\n      <td>119</td>\n      <td>TOP</td>\n      <td>233</td>\n      <td>12</td>\n      <td>-1</td>\n      <td>JUNGLE</td>\n      <td>84</td>\n      <td>13</td>\n      <td>238</td>\n      <td>MIDDLE</td>\n      <td>81</td>\n      <td>12</td>\n      <td>24</td>\n      <td>BOTTOM</td>\n      <td>235</td>\n      <td>10</td>\n      <td>101</td>\n      <td>UTILITY</td>\n    </tr>\n    <tr>\n      <th>1997</th>\n      <td>86</td>\n      <td>15</td>\n      <td>360</td>\n      <td>TOP</td>\n      <td>33</td>\n      <td>13</td>\n      <td>555</td>\n      <td>JUNGLE</td>\n      <td>517</td>\n      <td>15</td>\n      <td>876</td>\n      <td>MIDDLE</td>\n      <td>115</td>\n      <td>13</td>\n      <td>164</td>\n      <td>BOTTOM</td>\n      <td>43</td>\n      <td>11</td>\n      <td>238</td>\n      <td>UTILITY</td>\n    </tr>\n    <tr>\n      <th>1998</th>\n      <td>164</td>\n      <td>14</td>\n      <td>107</td>\n      <td>TOP</td>\n      <td>76</td>\n      <td>12</td>\n      <td>36</td>\n      <td>JUNGLE</td>\n      <td>103</td>\n      <td>12</td>\n      <td>-1</td>\n      <td>MIDDLE</td>\n      <td>81</td>\n      <td>11</td>\n      <td>24</td>\n      <td>BOTTOM</td>\n      <td>111</td>\n      <td>10</td>\n      <td>-1</td>\n      <td>UTILITY</td>\n    </tr>\n    <tr>\n      <th>1999</th>\n      <td>1</td>\n      <td>12</td>\n      <td>36</td>\n      <td>TOP</td>\n      <td>120</td>\n      <td>14</td>\n      <td>119</td>\n      <td>JUNGLE</td>\n      <td>34</td>\n      <td>11</td>\n      <td>59</td>\n      <td>MIDDLE</td>\n      <td>429</td>\n      <td>9</td>\n      <td>895</td>\n      <td>BOTTOM</td>\n      <td>50</td>\n      <td>12</td>\n      <td>38</td>\n      <td>UTILITY</td>\n    </tr>\n  </tbody>\n</table>\n<p>2000 rows × 20 columns</p>\n</div>"
     },
     "execution_count": 36,
     "metadata": {},
     "output_type": "execute_result"
    }
   ],
   "source": [
    "teams_dfs = pd.DataFrame()\n",
    "#participant_train.set_index('id', inplace=True)\n",
    "for i in range(len(team_num)):\n",
    "    team_df = participant_train[participant_train['teamId'] == i][['championId','champExperience','championBan','Position']]\n",
    "    df = pd.DataFrame()\n",
    "    for j in range(len(team_df)):\n",
    "        df = pd.concat([df,team_df.iloc[j]])\n",
    "    df = df.T\n",
    "    df['teamId'] = i\n",
    "    teams_dfs = pd.concat([teams_dfs,df])\n",
    "    \n",
    "teams_dfs.set_index('teamId', inplace=True)\n",
    "\n",
    "teams_dfs\n",
    "\n"
   ],
   "metadata": {
    "collapsed": false,
    "ExecuteTime": {
     "end_time": "2023-11-07T06:06:14.938993500Z",
     "start_time": "2023-11-07T06:06:10.845831Z"
    }
   },
   "id": "30236308fd0b06c8"
  },
  {
   "cell_type": "code",
   "execution_count": 37,
   "outputs": [],
   "source": [
    "columns = ['championId_1','champLevel_1','championBan_1','Position_1','championId_2','champLevel_2','championBan_2','Position_2','championId_3','champLevel_3','championBan_3','Position_3','championId_4','champLevel_4','championBan_4','Position_4','championId_5','champLevel_5','championBan_5','Position_5']"
   ],
   "metadata": {
    "collapsed": false,
    "ExecuteTime": {
     "end_time": "2023-11-07T06:07:06.720346Z",
     "start_time": "2023-11-07T06:07:06.694323200Z"
    }
   },
   "id": "9cb1c800a1654227"
  },
  {
   "cell_type": "code",
   "execution_count": 38,
   "outputs": [],
   "source": [
    "teams_dfs.columns = columns"
   ],
   "metadata": {
    "collapsed": false,
    "ExecuteTime": {
     "end_time": "2023-11-07T06:07:07.593392Z",
     "start_time": "2023-11-07T06:07:07.576442700Z"
    }
   },
   "id": "f01f60a9ae2a8dcc"
  },
  {
   "cell_type": "code",
   "execution_count": 39,
   "outputs": [
    {
     "data": {
      "text/plain": "       championId_1 champLevel_1 championBan_1 Position_1 championId_2  \\\nteamId                                                                   \n0                23           15            -1        TOP          203   \n1               122           12           200        TOP          104   \n2               777           17           360        TOP           56   \n3               166           18            53        TOP          233   \n4                98           10           555        TOP           28   \n...             ...          ...           ...        ...          ...   \n1995             34           15            53     MIDDLE           11   \n1996            887           13           119        TOP          233   \n1997             86           15           360        TOP           33   \n1998            164           14           107        TOP           76   \n1999              1           12            36        TOP          120   \n\n       champLevel_2 championBan_2 Position_2 championId_3 champLevel_3  \\\nteamId                                                                   \n0                14            30     JUNGLE           90           15   \n1                15            91     JUNGLE           34           14   \n2                16           221     JUNGLE          268           17   \n3                16             8     JUNGLE          134           17   \n4                11           107     JUNGLE          238           13   \n...             ...           ...        ...          ...          ...   \n1995             14            51     JUNGLE           92           15   \n1996             12            -1     JUNGLE           84           13   \n1997             13           555     JUNGLE          517           15   \n1998             12            36     JUNGLE          103           12   \n1999             14           119     JUNGLE           34           11   \n\n       championBan_3 Position_3 championId_4 champLevel_4 championBan_4  \\\nteamId                                                                    \n0                107     MIDDLE          145           12            24   \n1                 30     MIDDLE           29           14           157   \n2                238     MIDDLE           29           16           107   \n3                 24     MIDDLE          145           17           200   \n4                 -1     MIDDLE           21           11           203   \n...              ...        ...          ...          ...           ...   \n1995              64        TOP          222           12           238   \n1996             238     MIDDLE           81           12            24   \n1997             876     MIDDLE          115           13           164   \n1998              -1     MIDDLE           81           11            24   \n1999              59     MIDDLE          429            9           895   \n\n       Position_4 championId_5 champLevel_5 championBan_5 Position_5  \nteamId                                                                \n0          BOTTOM           12           11           119    UTILITY  \n1          BOTTOM          412           12           233    UTILITY  \n2          BOTTOM          555           14            54    UTILITY  \n3          BOTTOM          143           14           107    UTILITY  \n4          BOTTOM           26            9           421    UTILITY  \n...           ...          ...          ...           ...        ...  \n1995       BOTTOM          888           12           360    UTILITY  \n1996       BOTTOM          235           10           101    UTILITY  \n1997       BOTTOM           43           11           238    UTILITY  \n1998       BOTTOM          111           10            -1    UTILITY  \n1999       BOTTOM           50           12            38    UTILITY  \n\n[2000 rows x 20 columns]",
      "text/html": "<div>\n<style scoped>\n    .dataframe tbody tr th:only-of-type {\n        vertical-align: middle;\n    }\n\n    .dataframe tbody tr th {\n        vertical-align: top;\n    }\n\n    .dataframe thead th {\n        text-align: right;\n    }\n</style>\n<table border=\"1\" class=\"dataframe\">\n  <thead>\n    <tr style=\"text-align: right;\">\n      <th></th>\n      <th>championId_1</th>\n      <th>champLevel_1</th>\n      <th>championBan_1</th>\n      <th>Position_1</th>\n      <th>championId_2</th>\n      <th>champLevel_2</th>\n      <th>championBan_2</th>\n      <th>Position_2</th>\n      <th>championId_3</th>\n      <th>champLevel_3</th>\n      <th>championBan_3</th>\n      <th>Position_3</th>\n      <th>championId_4</th>\n      <th>champLevel_4</th>\n      <th>championBan_4</th>\n      <th>Position_4</th>\n      <th>championId_5</th>\n      <th>champLevel_5</th>\n      <th>championBan_5</th>\n      <th>Position_5</th>\n    </tr>\n    <tr>\n      <th>teamId</th>\n      <th></th>\n      <th></th>\n      <th></th>\n      <th></th>\n      <th></th>\n      <th></th>\n      <th></th>\n      <th></th>\n      <th></th>\n      <th></th>\n      <th></th>\n      <th></th>\n      <th></th>\n      <th></th>\n      <th></th>\n      <th></th>\n      <th></th>\n      <th></th>\n      <th></th>\n      <th></th>\n    </tr>\n  </thead>\n  <tbody>\n    <tr>\n      <th>0</th>\n      <td>23</td>\n      <td>15</td>\n      <td>-1</td>\n      <td>TOP</td>\n      <td>203</td>\n      <td>14</td>\n      <td>30</td>\n      <td>JUNGLE</td>\n      <td>90</td>\n      <td>15</td>\n      <td>107</td>\n      <td>MIDDLE</td>\n      <td>145</td>\n      <td>12</td>\n      <td>24</td>\n      <td>BOTTOM</td>\n      <td>12</td>\n      <td>11</td>\n      <td>119</td>\n      <td>UTILITY</td>\n    </tr>\n    <tr>\n      <th>1</th>\n      <td>122</td>\n      <td>12</td>\n      <td>200</td>\n      <td>TOP</td>\n      <td>104</td>\n      <td>15</td>\n      <td>91</td>\n      <td>JUNGLE</td>\n      <td>34</td>\n      <td>14</td>\n      <td>30</td>\n      <td>MIDDLE</td>\n      <td>29</td>\n      <td>14</td>\n      <td>157</td>\n      <td>BOTTOM</td>\n      <td>412</td>\n      <td>12</td>\n      <td>233</td>\n      <td>UTILITY</td>\n    </tr>\n    <tr>\n      <th>2</th>\n      <td>777</td>\n      <td>17</td>\n      <td>360</td>\n      <td>TOP</td>\n      <td>56</td>\n      <td>16</td>\n      <td>221</td>\n      <td>JUNGLE</td>\n      <td>268</td>\n      <td>17</td>\n      <td>238</td>\n      <td>MIDDLE</td>\n      <td>29</td>\n      <td>16</td>\n      <td>107</td>\n      <td>BOTTOM</td>\n      <td>555</td>\n      <td>14</td>\n      <td>54</td>\n      <td>UTILITY</td>\n    </tr>\n    <tr>\n      <th>3</th>\n      <td>166</td>\n      <td>18</td>\n      <td>53</td>\n      <td>TOP</td>\n      <td>233</td>\n      <td>16</td>\n      <td>8</td>\n      <td>JUNGLE</td>\n      <td>134</td>\n      <td>17</td>\n      <td>24</td>\n      <td>MIDDLE</td>\n      <td>145</td>\n      <td>17</td>\n      <td>200</td>\n      <td>BOTTOM</td>\n      <td>143</td>\n      <td>14</td>\n      <td>107</td>\n      <td>UTILITY</td>\n    </tr>\n    <tr>\n      <th>4</th>\n      <td>98</td>\n      <td>10</td>\n      <td>555</td>\n      <td>TOP</td>\n      <td>28</td>\n      <td>11</td>\n      <td>107</td>\n      <td>JUNGLE</td>\n      <td>238</td>\n      <td>13</td>\n      <td>-1</td>\n      <td>MIDDLE</td>\n      <td>21</td>\n      <td>11</td>\n      <td>203</td>\n      <td>BOTTOM</td>\n      <td>26</td>\n      <td>9</td>\n      <td>421</td>\n      <td>UTILITY</td>\n    </tr>\n    <tr>\n      <th>...</th>\n      <td>...</td>\n      <td>...</td>\n      <td>...</td>\n      <td>...</td>\n      <td>...</td>\n      <td>...</td>\n      <td>...</td>\n      <td>...</td>\n      <td>...</td>\n      <td>...</td>\n      <td>...</td>\n      <td>...</td>\n      <td>...</td>\n      <td>...</td>\n      <td>...</td>\n      <td>...</td>\n      <td>...</td>\n      <td>...</td>\n      <td>...</td>\n      <td>...</td>\n    </tr>\n    <tr>\n      <th>1995</th>\n      <td>34</td>\n      <td>15</td>\n      <td>53</td>\n      <td>MIDDLE</td>\n      <td>11</td>\n      <td>14</td>\n      <td>51</td>\n      <td>JUNGLE</td>\n      <td>92</td>\n      <td>15</td>\n      <td>64</td>\n      <td>TOP</td>\n      <td>222</td>\n      <td>12</td>\n      <td>238</td>\n      <td>BOTTOM</td>\n      <td>888</td>\n      <td>12</td>\n      <td>360</td>\n      <td>UTILITY</td>\n    </tr>\n    <tr>\n      <th>1996</th>\n      <td>887</td>\n      <td>13</td>\n      <td>119</td>\n      <td>TOP</td>\n      <td>233</td>\n      <td>12</td>\n      <td>-1</td>\n      <td>JUNGLE</td>\n      <td>84</td>\n      <td>13</td>\n      <td>238</td>\n      <td>MIDDLE</td>\n      <td>81</td>\n      <td>12</td>\n      <td>24</td>\n      <td>BOTTOM</td>\n      <td>235</td>\n      <td>10</td>\n      <td>101</td>\n      <td>UTILITY</td>\n    </tr>\n    <tr>\n      <th>1997</th>\n      <td>86</td>\n      <td>15</td>\n      <td>360</td>\n      <td>TOP</td>\n      <td>33</td>\n      <td>13</td>\n      <td>555</td>\n      <td>JUNGLE</td>\n      <td>517</td>\n      <td>15</td>\n      <td>876</td>\n      <td>MIDDLE</td>\n      <td>115</td>\n      <td>13</td>\n      <td>164</td>\n      <td>BOTTOM</td>\n      <td>43</td>\n      <td>11</td>\n      <td>238</td>\n      <td>UTILITY</td>\n    </tr>\n    <tr>\n      <th>1998</th>\n      <td>164</td>\n      <td>14</td>\n      <td>107</td>\n      <td>TOP</td>\n      <td>76</td>\n      <td>12</td>\n      <td>36</td>\n      <td>JUNGLE</td>\n      <td>103</td>\n      <td>12</td>\n      <td>-1</td>\n      <td>MIDDLE</td>\n      <td>81</td>\n      <td>11</td>\n      <td>24</td>\n      <td>BOTTOM</td>\n      <td>111</td>\n      <td>10</td>\n      <td>-1</td>\n      <td>UTILITY</td>\n    </tr>\n    <tr>\n      <th>1999</th>\n      <td>1</td>\n      <td>12</td>\n      <td>36</td>\n      <td>TOP</td>\n      <td>120</td>\n      <td>14</td>\n      <td>119</td>\n      <td>JUNGLE</td>\n      <td>34</td>\n      <td>11</td>\n      <td>59</td>\n      <td>MIDDLE</td>\n      <td>429</td>\n      <td>9</td>\n      <td>895</td>\n      <td>BOTTOM</td>\n      <td>50</td>\n      <td>12</td>\n      <td>38</td>\n      <td>UTILITY</td>\n    </tr>\n  </tbody>\n</table>\n<p>2000 rows × 20 columns</p>\n</div>"
     },
     "execution_count": 39,
     "metadata": {},
     "output_type": "execute_result"
    }
   ],
   "source": [
    "teams_dfs"
   ],
   "metadata": {
    "collapsed": false,
    "ExecuteTime": {
     "end_time": "2023-11-07T06:07:09.048710600Z",
     "start_time": "2023-11-07T06:07:09.032829600Z"
    }
   },
   "id": "c7706a9089b71301"
  },
  {
   "cell_type": "code",
   "execution_count": 44,
   "outputs": [],
   "source": [
    "teams_dfs_merge_team=teams_dfs.merge(team, left_index=True, right_index=True)"
   ],
   "metadata": {
    "collapsed": false,
    "ExecuteTime": {
     "end_time": "2023-11-07T06:13:08.865199600Z",
     "start_time": "2023-11-07T06:13:08.851754800Z"
    }
   },
   "id": "c2e97d82beada62a"
  },
  {
   "cell_type": "code",
   "execution_count": 45,
   "outputs": [
    {
     "data": {
      "text/plain": "     championId_1 champLevel_1 championBan_1 Position_1 championId_2  \\\n0              23           15            -1        TOP          203   \n1             122           12           200        TOP          104   \n2             777           17           360        TOP           56   \n3             166           18            53        TOP          233   \n4              98           10           555        TOP           28   \n...           ...          ...           ...        ...          ...   \n1995           34           15            53     MIDDLE           11   \n1996          887           13           119        TOP          233   \n1997           86           15           360        TOP           33   \n1998          164           14           107        TOP           76   \n1999            1           12            36        TOP          120   \n\n     champLevel_2 championBan_2 Position_2 championId_3 champLevel_3  ...  \\\n0              14            30     JUNGLE           90           15  ...   \n1              15            91     JUNGLE           34           14  ...   \n2              16           221     JUNGLE          268           17  ...   \n3              16             8     JUNGLE          134           17  ...   \n4              11           107     JUNGLE          238           13  ...   \n...           ...           ...        ...          ...          ...  ...   \n1995           14            51     JUNGLE           92           15  ...   \n1996           12            -1     JUNGLE           84           13  ...   \n1997           13           555     JUNGLE          517           15  ...   \n1998           12            36     JUNGLE          103           12  ...   \n1999           14           119     JUNGLE           34           11  ...   \n\n     championKills dragonFirst dragonKills inhibitorFirst inhibitorKills  \\\n0               18       False           0          False              1   \n1               35        True           4           True              2   \n2               48        True           2           True              2   \n3               45       False           2          False              0   \n4               26       False           0          False              0   \n...            ...         ...         ...            ...            ...   \n1995            29       False           2           True              1   \n1996            10       False           1          False              0   \n1997            28        True           2           True              1   \n1998            21       False           2           True              2   \n1999            27        True           1          False              0   \n\n     riftHeraldFirst riftHeraldKills towerFirst towerKills    win  \n0               True               1      False          6  False  \n1              False               1       True          9   True  \n2              False               1      False          9   True  \n3               True               1       True          5  False  \n4               True               1       True          3  False  \n...              ...             ...        ...        ...    ...  \n1995            True               2       True          9   True  \n1996           False               0      False          0  False  \n1997            True               2       True          9   True  \n1998            True               2       True          9   True  \n1999           False               0      False          1  False  \n\n[2000 rows x 36 columns]",
      "text/html": "<div>\n<style scoped>\n    .dataframe tbody tr th:only-of-type {\n        vertical-align: middle;\n    }\n\n    .dataframe tbody tr th {\n        vertical-align: top;\n    }\n\n    .dataframe thead th {\n        text-align: right;\n    }\n</style>\n<table border=\"1\" class=\"dataframe\">\n  <thead>\n    <tr style=\"text-align: right;\">\n      <th></th>\n      <th>championId_1</th>\n      <th>champLevel_1</th>\n      <th>championBan_1</th>\n      <th>Position_1</th>\n      <th>championId_2</th>\n      <th>champLevel_2</th>\n      <th>championBan_2</th>\n      <th>Position_2</th>\n      <th>championId_3</th>\n      <th>champLevel_3</th>\n      <th>...</th>\n      <th>championKills</th>\n      <th>dragonFirst</th>\n      <th>dragonKills</th>\n      <th>inhibitorFirst</th>\n      <th>inhibitorKills</th>\n      <th>riftHeraldFirst</th>\n      <th>riftHeraldKills</th>\n      <th>towerFirst</th>\n      <th>towerKills</th>\n      <th>win</th>\n    </tr>\n  </thead>\n  <tbody>\n    <tr>\n      <th>0</th>\n      <td>23</td>\n      <td>15</td>\n      <td>-1</td>\n      <td>TOP</td>\n      <td>203</td>\n      <td>14</td>\n      <td>30</td>\n      <td>JUNGLE</td>\n      <td>90</td>\n      <td>15</td>\n      <td>...</td>\n      <td>18</td>\n      <td>False</td>\n      <td>0</td>\n      <td>False</td>\n      <td>1</td>\n      <td>True</td>\n      <td>1</td>\n      <td>False</td>\n      <td>6</td>\n      <td>False</td>\n    </tr>\n    <tr>\n      <th>1</th>\n      <td>122</td>\n      <td>12</td>\n      <td>200</td>\n      <td>TOP</td>\n      <td>104</td>\n      <td>15</td>\n      <td>91</td>\n      <td>JUNGLE</td>\n      <td>34</td>\n      <td>14</td>\n      <td>...</td>\n      <td>35</td>\n      <td>True</td>\n      <td>4</td>\n      <td>True</td>\n      <td>2</td>\n      <td>False</td>\n      <td>1</td>\n      <td>True</td>\n      <td>9</td>\n      <td>True</td>\n    </tr>\n    <tr>\n      <th>2</th>\n      <td>777</td>\n      <td>17</td>\n      <td>360</td>\n      <td>TOP</td>\n      <td>56</td>\n      <td>16</td>\n      <td>221</td>\n      <td>JUNGLE</td>\n      <td>268</td>\n      <td>17</td>\n      <td>...</td>\n      <td>48</td>\n      <td>True</td>\n      <td>2</td>\n      <td>True</td>\n      <td>2</td>\n      <td>False</td>\n      <td>1</td>\n      <td>False</td>\n      <td>9</td>\n      <td>True</td>\n    </tr>\n    <tr>\n      <th>3</th>\n      <td>166</td>\n      <td>18</td>\n      <td>53</td>\n      <td>TOP</td>\n      <td>233</td>\n      <td>16</td>\n      <td>8</td>\n      <td>JUNGLE</td>\n      <td>134</td>\n      <td>17</td>\n      <td>...</td>\n      <td>45</td>\n      <td>False</td>\n      <td>2</td>\n      <td>False</td>\n      <td>0</td>\n      <td>True</td>\n      <td>1</td>\n      <td>True</td>\n      <td>5</td>\n      <td>False</td>\n    </tr>\n    <tr>\n      <th>4</th>\n      <td>98</td>\n      <td>10</td>\n      <td>555</td>\n      <td>TOP</td>\n      <td>28</td>\n      <td>11</td>\n      <td>107</td>\n      <td>JUNGLE</td>\n      <td>238</td>\n      <td>13</td>\n      <td>...</td>\n      <td>26</td>\n      <td>False</td>\n      <td>0</td>\n      <td>False</td>\n      <td>0</td>\n      <td>True</td>\n      <td>1</td>\n      <td>True</td>\n      <td>3</td>\n      <td>False</td>\n    </tr>\n    <tr>\n      <th>...</th>\n      <td>...</td>\n      <td>...</td>\n      <td>...</td>\n      <td>...</td>\n      <td>...</td>\n      <td>...</td>\n      <td>...</td>\n      <td>...</td>\n      <td>...</td>\n      <td>...</td>\n      <td>...</td>\n      <td>...</td>\n      <td>...</td>\n      <td>...</td>\n      <td>...</td>\n      <td>...</td>\n      <td>...</td>\n      <td>...</td>\n      <td>...</td>\n      <td>...</td>\n      <td>...</td>\n    </tr>\n    <tr>\n      <th>1995</th>\n      <td>34</td>\n      <td>15</td>\n      <td>53</td>\n      <td>MIDDLE</td>\n      <td>11</td>\n      <td>14</td>\n      <td>51</td>\n      <td>JUNGLE</td>\n      <td>92</td>\n      <td>15</td>\n      <td>...</td>\n      <td>29</td>\n      <td>False</td>\n      <td>2</td>\n      <td>True</td>\n      <td>1</td>\n      <td>True</td>\n      <td>2</td>\n      <td>True</td>\n      <td>9</td>\n      <td>True</td>\n    </tr>\n    <tr>\n      <th>1996</th>\n      <td>887</td>\n      <td>13</td>\n      <td>119</td>\n      <td>TOP</td>\n      <td>233</td>\n      <td>12</td>\n      <td>-1</td>\n      <td>JUNGLE</td>\n      <td>84</td>\n      <td>13</td>\n      <td>...</td>\n      <td>10</td>\n      <td>False</td>\n      <td>1</td>\n      <td>False</td>\n      <td>0</td>\n      <td>False</td>\n      <td>0</td>\n      <td>False</td>\n      <td>0</td>\n      <td>False</td>\n    </tr>\n    <tr>\n      <th>1997</th>\n      <td>86</td>\n      <td>15</td>\n      <td>360</td>\n      <td>TOP</td>\n      <td>33</td>\n      <td>13</td>\n      <td>555</td>\n      <td>JUNGLE</td>\n      <td>517</td>\n      <td>15</td>\n      <td>...</td>\n      <td>28</td>\n      <td>True</td>\n      <td>2</td>\n      <td>True</td>\n      <td>1</td>\n      <td>True</td>\n      <td>2</td>\n      <td>True</td>\n      <td>9</td>\n      <td>True</td>\n    </tr>\n    <tr>\n      <th>1998</th>\n      <td>164</td>\n      <td>14</td>\n      <td>107</td>\n      <td>TOP</td>\n      <td>76</td>\n      <td>12</td>\n      <td>36</td>\n      <td>JUNGLE</td>\n      <td>103</td>\n      <td>12</td>\n      <td>...</td>\n      <td>21</td>\n      <td>False</td>\n      <td>2</td>\n      <td>True</td>\n      <td>2</td>\n      <td>True</td>\n      <td>2</td>\n      <td>True</td>\n      <td>9</td>\n      <td>True</td>\n    </tr>\n    <tr>\n      <th>1999</th>\n      <td>1</td>\n      <td>12</td>\n      <td>36</td>\n      <td>TOP</td>\n      <td>120</td>\n      <td>14</td>\n      <td>119</td>\n      <td>JUNGLE</td>\n      <td>34</td>\n      <td>11</td>\n      <td>...</td>\n      <td>27</td>\n      <td>True</td>\n      <td>1</td>\n      <td>False</td>\n      <td>0</td>\n      <td>False</td>\n      <td>0</td>\n      <td>False</td>\n      <td>1</td>\n      <td>False</td>\n    </tr>\n  </tbody>\n</table>\n<p>2000 rows × 36 columns</p>\n</div>"
     },
     "execution_count": 45,
     "metadata": {},
     "output_type": "execute_result"
    }
   ],
   "source": [
    "teams_dfs_merge_team"
   ],
   "metadata": {
    "collapsed": false,
    "ExecuteTime": {
     "end_time": "2023-11-07T06:13:11.401180600Z",
     "start_time": "2023-11-07T06:13:11.385668200Z"
    }
   },
   "id": "caf18b94ad621b95"
  },
  {
   "cell_type": "code",
   "execution_count": null,
   "outputs": [],
   "source": [],
   "metadata": {
    "collapsed": false
   },
   "id": "6ab83e931fe65e94"
  }
 ],
 "metadata": {
  "kernelspec": {
   "display_name": "Python 3",
   "language": "python",
   "name": "python3"
  },
  "language_info": {
   "codemirror_mode": {
    "name": "ipython",
    "version": 2
   },
   "file_extension": ".py",
   "mimetype": "text/x-python",
   "name": "python",
   "nbconvert_exporter": "python",
   "pygments_lexer": "ipython2",
   "version": "2.7.6"
  }
 },
 "nbformat": 4,
 "nbformat_minor": 5
}
