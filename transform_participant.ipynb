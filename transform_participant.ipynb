{
 "cells": [
  {
   "cell_type": "code",
   "execution_count": 1,
   "id": "initial_id",
   "metadata": {
    "collapsed": true,
    "ExecuteTime": {
     "end_time": "2023-11-08T01:44:10.553804600Z",
     "start_time": "2023-11-08T01:44:10.253912500Z"
    }
   },
   "outputs": [],
   "source": [
    "import pandas as pd"
   ]
  },
  {
   "cell_type": "code",
   "execution_count": 2,
   "outputs": [],
   "source": [
    "df = pd.read_csv('data/clean/participant.csv',sep=',',index_col=0)"
   ],
   "metadata": {
    "collapsed": false,
    "ExecuteTime": {
     "end_time": "2023-11-08T01:44:18.823945Z",
     "start_time": "2023-11-08T01:44:11.792773300Z"
    }
   },
   "id": "448fa5771b478c8d"
  },
  {
   "cell_type": "code",
   "execution_count": 3,
   "outputs": [
    {
     "data": {
      "text/plain": "    matchId  teamId  turn  gameEndedInEarlySurrender  gameEndedInSurrender  \\\nid                                                                           \n0         0       0     1                      False                 False   \n1         0       0     2                      False                 False   \n2         0       0     3                      False                 False   \n3         0       0     4                      False                 False   \n4         0       0     5                      False                 False   \n\n      lane     role  championId  champExperience  champLevel  ...  \\\nid                                                            ...   \n0   JUNGLE     NONE          23            13182          15  ...   \n1   JUNGLE     NONE         203            12374          14  ...   \n2   MIDDLE     SOLO          90            13929          15  ...   \n3   BOTTOM    CARRY         145             9258          12  ...   \n4   BOTTOM  SUPPORT          12             8200          11  ...   \n\n    neutralMinionsKilled  totalMinionsKilled  visionScore  \\\nid                                                          \n0                      4                 203           10   \n1                    145                  30           13   \n2                      4                 221           16   \n3                      8                 151           15   \n4                      0                  33           45   \n\n    visionWardsBoughtInGame  detectorWardsPlaced  wardsKilled  wardsPlaced  \\\nid                                                                           \n0                         0                    0            0            7   \n1                         0                    0            4            1   \n2                         0                    0            1            8   \n3                         0                    0            3            7   \n4                         9                    6            3           22   \n\n    objectivePlaystyle  healPlaystyle  Position  \nid                                               \n0                    0              4       TOP  \n1                    0              3    JUNGLE  \n2                    0              1    MIDDLE  \n3                    2              1    BOTTOM  \n4                    2              4   UTILITY  \n\n[5 rows x 98 columns]",
      "text/html": "<div>\n<style scoped>\n    .dataframe tbody tr th:only-of-type {\n        vertical-align: middle;\n    }\n\n    .dataframe tbody tr th {\n        vertical-align: top;\n    }\n\n    .dataframe thead th {\n        text-align: right;\n    }\n</style>\n<table border=\"1\" class=\"dataframe\">\n  <thead>\n    <tr style=\"text-align: right;\">\n      <th></th>\n      <th>matchId</th>\n      <th>teamId</th>\n      <th>turn</th>\n      <th>gameEndedInEarlySurrender</th>\n      <th>gameEndedInSurrender</th>\n      <th>lane</th>\n      <th>role</th>\n      <th>championId</th>\n      <th>champExperience</th>\n      <th>champLevel</th>\n      <th>...</th>\n      <th>neutralMinionsKilled</th>\n      <th>totalMinionsKilled</th>\n      <th>visionScore</th>\n      <th>visionWardsBoughtInGame</th>\n      <th>detectorWardsPlaced</th>\n      <th>wardsKilled</th>\n      <th>wardsPlaced</th>\n      <th>objectivePlaystyle</th>\n      <th>healPlaystyle</th>\n      <th>Position</th>\n    </tr>\n    <tr>\n      <th>id</th>\n      <th></th>\n      <th></th>\n      <th></th>\n      <th></th>\n      <th></th>\n      <th></th>\n      <th></th>\n      <th></th>\n      <th></th>\n      <th></th>\n      <th></th>\n      <th></th>\n      <th></th>\n      <th></th>\n      <th></th>\n      <th></th>\n      <th></th>\n      <th></th>\n      <th></th>\n      <th></th>\n      <th></th>\n    </tr>\n  </thead>\n  <tbody>\n    <tr>\n      <th>0</th>\n      <td>0</td>\n      <td>0</td>\n      <td>1</td>\n      <td>False</td>\n      <td>False</td>\n      <td>JUNGLE</td>\n      <td>NONE</td>\n      <td>23</td>\n      <td>13182</td>\n      <td>15</td>\n      <td>...</td>\n      <td>4</td>\n      <td>203</td>\n      <td>10</td>\n      <td>0</td>\n      <td>0</td>\n      <td>0</td>\n      <td>7</td>\n      <td>0</td>\n      <td>4</td>\n      <td>TOP</td>\n    </tr>\n    <tr>\n      <th>1</th>\n      <td>0</td>\n      <td>0</td>\n      <td>2</td>\n      <td>False</td>\n      <td>False</td>\n      <td>JUNGLE</td>\n      <td>NONE</td>\n      <td>203</td>\n      <td>12374</td>\n      <td>14</td>\n      <td>...</td>\n      <td>145</td>\n      <td>30</td>\n      <td>13</td>\n      <td>0</td>\n      <td>0</td>\n      <td>4</td>\n      <td>1</td>\n      <td>0</td>\n      <td>3</td>\n      <td>JUNGLE</td>\n    </tr>\n    <tr>\n      <th>2</th>\n      <td>0</td>\n      <td>0</td>\n      <td>3</td>\n      <td>False</td>\n      <td>False</td>\n      <td>MIDDLE</td>\n      <td>SOLO</td>\n      <td>90</td>\n      <td>13929</td>\n      <td>15</td>\n      <td>...</td>\n      <td>4</td>\n      <td>221</td>\n      <td>16</td>\n      <td>0</td>\n      <td>0</td>\n      <td>1</td>\n      <td>8</td>\n      <td>0</td>\n      <td>1</td>\n      <td>MIDDLE</td>\n    </tr>\n    <tr>\n      <th>3</th>\n      <td>0</td>\n      <td>0</td>\n      <td>4</td>\n      <td>False</td>\n      <td>False</td>\n      <td>BOTTOM</td>\n      <td>CARRY</td>\n      <td>145</td>\n      <td>9258</td>\n      <td>12</td>\n      <td>...</td>\n      <td>8</td>\n      <td>151</td>\n      <td>15</td>\n      <td>0</td>\n      <td>0</td>\n      <td>3</td>\n      <td>7</td>\n      <td>2</td>\n      <td>1</td>\n      <td>BOTTOM</td>\n    </tr>\n    <tr>\n      <th>4</th>\n      <td>0</td>\n      <td>0</td>\n      <td>5</td>\n      <td>False</td>\n      <td>False</td>\n      <td>BOTTOM</td>\n      <td>SUPPORT</td>\n      <td>12</td>\n      <td>8200</td>\n      <td>11</td>\n      <td>...</td>\n      <td>0</td>\n      <td>33</td>\n      <td>45</td>\n      <td>9</td>\n      <td>6</td>\n      <td>3</td>\n      <td>22</td>\n      <td>2</td>\n      <td>4</td>\n      <td>UTILITY</td>\n    </tr>\n  </tbody>\n</table>\n<p>5 rows × 98 columns</p>\n</div>"
     },
     "execution_count": 3,
     "metadata": {},
     "output_type": "execute_result"
    }
   ],
   "source": [
    "df.head()"
   ],
   "metadata": {
    "collapsed": false,
    "ExecuteTime": {
     "end_time": "2023-11-08T01:44:20.176542300Z",
     "start_time": "2023-11-08T01:44:20.147532300Z"
    }
   },
   "id": "aee75aeee4c9d90d"
  },
  {
   "cell_type": "code",
   "execution_count": 5,
   "outputs": [
    {
     "data": {
      "text/plain": "         matchId  teamId  turn  gameEndedInEarlySurrender  \\\nid                                                          \n1296         129     259     7                       True   \n3025         302     605     6                       True   \n3466         346     693     7                       True   \n9406         940    1881     7                       True   \n13631       1363    2726     2                       True   \n...          ...     ...   ...                        ...   \n1729096   172910  345819     7                       True   \n1731836   173184  346367     7                       True   \n1732625   173263  346525     6                       True   \n1738388   173839  347677     9                       True   \n1742447   174245  348489     8                      False   \n\n         gameEndedInSurrender  lane     role  championId  champExperience  \\\nid                                                                          \n1296                    False  NONE  SUPPORT         887                0   \n3025                    False  NONE  SUPPORT          14                0   \n3466                    False  NONE  SUPPORT         233                0   \n9406                    False  NONE  SUPPORT          77                5   \n13631                   False  NONE  SUPPORT          28                0   \n...                       ...   ...      ...         ...              ...   \n1729096                 False  NONE  SUPPORT          48                0   \n1731836                 False  NONE  SUPPORT         122                0   \n1732625                 False  NONE  SUPPORT         157                0   \n1738388                 False  NONE  SUPPORT          81                0   \n1742447                  True  NONE  SUPPORT          91                0   \n\n         champLevel  ...  neutralMinionsKilled  totalMinionsKilled  \\\nid                   ...                                             \n1296              1  ...                     0                   0   \n3025              1  ...                     0                   0   \n3466              1  ...                     0                   0   \n9406              1  ...                     0                   0   \n13631             1  ...                     0                   0   \n...             ...  ...                   ...                 ...   \n1729096           1  ...                     0                   0   \n1731836           1  ...                     0                   0   \n1732625           1  ...                     0                   0   \n1738388           1  ...                     0                   0   \n1742447           1  ...                     0                   0   \n\n         visionScore  visionWardsBoughtInGame  detectorWardsPlaced  \\\nid                                                                   \n1296               0                        0                    0   \n3025               0                        0                    0   \n3466               0                        0                    0   \n9406               1                        0                    0   \n13631              0                        0                    0   \n...              ...                      ...                  ...   \n1729096            0                        0                    0   \n1731836            0                        0                    0   \n1732625            0                        0                    0   \n1738388            0                        0                    0   \n1742447            1                        2                    2   \n\n         wardsKilled  wardsPlaced  objectivePlaystyle  healPlaystyle  Position  \nid                                                                              \n1296               0            0                   2              1   Invalid  \n3025               0            0                   2              1   Invalid  \n3466               0            0                   2              1   Invalid  \n9406               0            1                   2              1   Invalid  \n13631              0            0                   2              1   Invalid  \n...              ...          ...                 ...            ...       ...  \n1729096            0            0                   2              1   Invalid  \n1731836            0            0                   2              1   Invalid  \n1732625            0            0                   2              1   Invalid  \n1738388            0            0                   2              1   Invalid  \n1742447            0            3                   2              1   Invalid  \n\n[713 rows x 98 columns]",
      "text/html": "<div>\n<style scoped>\n    .dataframe tbody tr th:only-of-type {\n        vertical-align: middle;\n    }\n\n    .dataframe tbody tr th {\n        vertical-align: top;\n    }\n\n    .dataframe thead th {\n        text-align: right;\n    }\n</style>\n<table border=\"1\" class=\"dataframe\">\n  <thead>\n    <tr style=\"text-align: right;\">\n      <th></th>\n      <th>matchId</th>\n      <th>teamId</th>\n      <th>turn</th>\n      <th>gameEndedInEarlySurrender</th>\n      <th>gameEndedInSurrender</th>\n      <th>lane</th>\n      <th>role</th>\n      <th>championId</th>\n      <th>champExperience</th>\n      <th>champLevel</th>\n      <th>...</th>\n      <th>neutralMinionsKilled</th>\n      <th>totalMinionsKilled</th>\n      <th>visionScore</th>\n      <th>visionWardsBoughtInGame</th>\n      <th>detectorWardsPlaced</th>\n      <th>wardsKilled</th>\n      <th>wardsPlaced</th>\n      <th>objectivePlaystyle</th>\n      <th>healPlaystyle</th>\n      <th>Position</th>\n    </tr>\n    <tr>\n      <th>id</th>\n      <th></th>\n      <th></th>\n      <th></th>\n      <th></th>\n      <th></th>\n      <th></th>\n      <th></th>\n      <th></th>\n      <th></th>\n      <th></th>\n      <th></th>\n      <th></th>\n      <th></th>\n      <th></th>\n      <th></th>\n      <th></th>\n      <th></th>\n      <th></th>\n      <th></th>\n      <th></th>\n      <th></th>\n    </tr>\n  </thead>\n  <tbody>\n    <tr>\n      <th>1296</th>\n      <td>129</td>\n      <td>259</td>\n      <td>7</td>\n      <td>True</td>\n      <td>False</td>\n      <td>NONE</td>\n      <td>SUPPORT</td>\n      <td>887</td>\n      <td>0</td>\n      <td>1</td>\n      <td>...</td>\n      <td>0</td>\n      <td>0</td>\n      <td>0</td>\n      <td>0</td>\n      <td>0</td>\n      <td>0</td>\n      <td>0</td>\n      <td>2</td>\n      <td>1</td>\n      <td>Invalid</td>\n    </tr>\n    <tr>\n      <th>3025</th>\n      <td>302</td>\n      <td>605</td>\n      <td>6</td>\n      <td>True</td>\n      <td>False</td>\n      <td>NONE</td>\n      <td>SUPPORT</td>\n      <td>14</td>\n      <td>0</td>\n      <td>1</td>\n      <td>...</td>\n      <td>0</td>\n      <td>0</td>\n      <td>0</td>\n      <td>0</td>\n      <td>0</td>\n      <td>0</td>\n      <td>0</td>\n      <td>2</td>\n      <td>1</td>\n      <td>Invalid</td>\n    </tr>\n    <tr>\n      <th>3466</th>\n      <td>346</td>\n      <td>693</td>\n      <td>7</td>\n      <td>True</td>\n      <td>False</td>\n      <td>NONE</td>\n      <td>SUPPORT</td>\n      <td>233</td>\n      <td>0</td>\n      <td>1</td>\n      <td>...</td>\n      <td>0</td>\n      <td>0</td>\n      <td>0</td>\n      <td>0</td>\n      <td>0</td>\n      <td>0</td>\n      <td>0</td>\n      <td>2</td>\n      <td>1</td>\n      <td>Invalid</td>\n    </tr>\n    <tr>\n      <th>9406</th>\n      <td>940</td>\n      <td>1881</td>\n      <td>7</td>\n      <td>True</td>\n      <td>False</td>\n      <td>NONE</td>\n      <td>SUPPORT</td>\n      <td>77</td>\n      <td>5</td>\n      <td>1</td>\n      <td>...</td>\n      <td>0</td>\n      <td>0</td>\n      <td>1</td>\n      <td>0</td>\n      <td>0</td>\n      <td>0</td>\n      <td>1</td>\n      <td>2</td>\n      <td>1</td>\n      <td>Invalid</td>\n    </tr>\n    <tr>\n      <th>13631</th>\n      <td>1363</td>\n      <td>2726</td>\n      <td>2</td>\n      <td>True</td>\n      <td>False</td>\n      <td>NONE</td>\n      <td>SUPPORT</td>\n      <td>28</td>\n      <td>0</td>\n      <td>1</td>\n      <td>...</td>\n      <td>0</td>\n      <td>0</td>\n      <td>0</td>\n      <td>0</td>\n      <td>0</td>\n      <td>0</td>\n      <td>0</td>\n      <td>2</td>\n      <td>1</td>\n      <td>Invalid</td>\n    </tr>\n    <tr>\n      <th>...</th>\n      <td>...</td>\n      <td>...</td>\n      <td>...</td>\n      <td>...</td>\n      <td>...</td>\n      <td>...</td>\n      <td>...</td>\n      <td>...</td>\n      <td>...</td>\n      <td>...</td>\n      <td>...</td>\n      <td>...</td>\n      <td>...</td>\n      <td>...</td>\n      <td>...</td>\n      <td>...</td>\n      <td>...</td>\n      <td>...</td>\n      <td>...</td>\n      <td>...</td>\n      <td>...</td>\n    </tr>\n    <tr>\n      <th>1729096</th>\n      <td>172910</td>\n      <td>345819</td>\n      <td>7</td>\n      <td>True</td>\n      <td>False</td>\n      <td>NONE</td>\n      <td>SUPPORT</td>\n      <td>48</td>\n      <td>0</td>\n      <td>1</td>\n      <td>...</td>\n      <td>0</td>\n      <td>0</td>\n      <td>0</td>\n      <td>0</td>\n      <td>0</td>\n      <td>0</td>\n      <td>0</td>\n      <td>2</td>\n      <td>1</td>\n      <td>Invalid</td>\n    </tr>\n    <tr>\n      <th>1731836</th>\n      <td>173184</td>\n      <td>346367</td>\n      <td>7</td>\n      <td>True</td>\n      <td>False</td>\n      <td>NONE</td>\n      <td>SUPPORT</td>\n      <td>122</td>\n      <td>0</td>\n      <td>1</td>\n      <td>...</td>\n      <td>0</td>\n      <td>0</td>\n      <td>0</td>\n      <td>0</td>\n      <td>0</td>\n      <td>0</td>\n      <td>0</td>\n      <td>2</td>\n      <td>1</td>\n      <td>Invalid</td>\n    </tr>\n    <tr>\n      <th>1732625</th>\n      <td>173263</td>\n      <td>346525</td>\n      <td>6</td>\n      <td>True</td>\n      <td>False</td>\n      <td>NONE</td>\n      <td>SUPPORT</td>\n      <td>157</td>\n      <td>0</td>\n      <td>1</td>\n      <td>...</td>\n      <td>0</td>\n      <td>0</td>\n      <td>0</td>\n      <td>0</td>\n      <td>0</td>\n      <td>0</td>\n      <td>0</td>\n      <td>2</td>\n      <td>1</td>\n      <td>Invalid</td>\n    </tr>\n    <tr>\n      <th>1738388</th>\n      <td>173839</td>\n      <td>347677</td>\n      <td>9</td>\n      <td>True</td>\n      <td>False</td>\n      <td>NONE</td>\n      <td>SUPPORT</td>\n      <td>81</td>\n      <td>0</td>\n      <td>1</td>\n      <td>...</td>\n      <td>0</td>\n      <td>0</td>\n      <td>0</td>\n      <td>0</td>\n      <td>0</td>\n      <td>0</td>\n      <td>0</td>\n      <td>2</td>\n      <td>1</td>\n      <td>Invalid</td>\n    </tr>\n    <tr>\n      <th>1742447</th>\n      <td>174245</td>\n      <td>348489</td>\n      <td>8</td>\n      <td>False</td>\n      <td>True</td>\n      <td>NONE</td>\n      <td>SUPPORT</td>\n      <td>91</td>\n      <td>0</td>\n      <td>1</td>\n      <td>...</td>\n      <td>0</td>\n      <td>0</td>\n      <td>1</td>\n      <td>2</td>\n      <td>2</td>\n      <td>0</td>\n      <td>3</td>\n      <td>2</td>\n      <td>1</td>\n      <td>Invalid</td>\n    </tr>\n  </tbody>\n</table>\n<p>713 rows × 98 columns</p>\n</div>"
     },
     "execution_count": 5,
     "metadata": {},
     "output_type": "execute_result"
    }
   ],
   "source": [
    "df[df['Position'] == 'Invalid']"
   ],
   "metadata": {
    "collapsed": false,
    "ExecuteTime": {
     "end_time": "2023-11-08T01:45:02.133899900Z",
     "start_time": "2023-11-08T01:45:02.091072700Z"
    }
   },
   "id": "d5689ece88d90ea4"
  },
  {
   "cell_type": "code",
   "execution_count": 6,
   "outputs": [],
   "source": [
    "# del participant with Position Invalid with his team with same teamId\n",
    "df.drop(df[df['Position'] == 'Invalid']['matchId'].index,inplace=True)"
   ],
   "metadata": {
    "collapsed": false,
    "ExecuteTime": {
     "end_time": "2023-11-08T01:45:20.573594700Z",
     "start_time": "2023-11-08T01:45:20.136490300Z"
    }
   },
   "id": "cb64ac2375fc5d3"
  },
  {
   "cell_type": "markdown",
   "source": [
    "select columns for model"
   ],
   "metadata": {
    "collapsed": false
   },
   "id": "75f8f6ed1db25994"
  },
  {
   "cell_type": "code",
   "execution_count": 7,
   "outputs": [],
   "source": [
    "df = df[['matchId','teamId','championId','Position','turn','gameEndedInSurrender','champExperience','championBan','kills'\n",
    "         ,'assists','deaths']]"
   ],
   "metadata": {
    "collapsed": false,
    "ExecuteTime": {
     "end_time": "2023-11-08T01:45:23.095027500Z",
     "start_time": "2023-11-08T01:45:22.981220700Z"
    }
   },
   "id": "5ef9b05d55c815b2"
  },
  {
   "cell_type": "code",
   "execution_count": 8,
   "outputs": [
    {
     "data": {
      "text/plain": "    matchId  teamId  championId Position  turn  gameEndedInSurrender  \\\nid                                                                     \n0         0       0          23      TOP     1                 False   \n1         0       0         203   JUNGLE     2                 False   \n2         0       0          90   MIDDLE     3                 False   \n3         0       0         145   BOTTOM     4                 False   \n4         0       0          12  UTILITY     5                 False   \n\n    champExperience  championBan  kills  assists  deaths  \nid                                                        \n0             13182           -1      9        2       2  \n1             12374           30      6        3      10  \n2             13929          107      1        3       6  \n3              9258           24      0        4       8  \n4              8200          119      2        9       9  ",
      "text/html": "<div>\n<style scoped>\n    .dataframe tbody tr th:only-of-type {\n        vertical-align: middle;\n    }\n\n    .dataframe tbody tr th {\n        vertical-align: top;\n    }\n\n    .dataframe thead th {\n        text-align: right;\n    }\n</style>\n<table border=\"1\" class=\"dataframe\">\n  <thead>\n    <tr style=\"text-align: right;\">\n      <th></th>\n      <th>matchId</th>\n      <th>teamId</th>\n      <th>championId</th>\n      <th>Position</th>\n      <th>turn</th>\n      <th>gameEndedInSurrender</th>\n      <th>champExperience</th>\n      <th>championBan</th>\n      <th>kills</th>\n      <th>assists</th>\n      <th>deaths</th>\n    </tr>\n    <tr>\n      <th>id</th>\n      <th></th>\n      <th></th>\n      <th></th>\n      <th></th>\n      <th></th>\n      <th></th>\n      <th></th>\n      <th></th>\n      <th></th>\n      <th></th>\n      <th></th>\n    </tr>\n  </thead>\n  <tbody>\n    <tr>\n      <th>0</th>\n      <td>0</td>\n      <td>0</td>\n      <td>23</td>\n      <td>TOP</td>\n      <td>1</td>\n      <td>False</td>\n      <td>13182</td>\n      <td>-1</td>\n      <td>9</td>\n      <td>2</td>\n      <td>2</td>\n    </tr>\n    <tr>\n      <th>1</th>\n      <td>0</td>\n      <td>0</td>\n      <td>203</td>\n      <td>JUNGLE</td>\n      <td>2</td>\n      <td>False</td>\n      <td>12374</td>\n      <td>30</td>\n      <td>6</td>\n      <td>3</td>\n      <td>10</td>\n    </tr>\n    <tr>\n      <th>2</th>\n      <td>0</td>\n      <td>0</td>\n      <td>90</td>\n      <td>MIDDLE</td>\n      <td>3</td>\n      <td>False</td>\n      <td>13929</td>\n      <td>107</td>\n      <td>1</td>\n      <td>3</td>\n      <td>6</td>\n    </tr>\n    <tr>\n      <th>3</th>\n      <td>0</td>\n      <td>0</td>\n      <td>145</td>\n      <td>BOTTOM</td>\n      <td>4</td>\n      <td>False</td>\n      <td>9258</td>\n      <td>24</td>\n      <td>0</td>\n      <td>4</td>\n      <td>8</td>\n    </tr>\n    <tr>\n      <th>4</th>\n      <td>0</td>\n      <td>0</td>\n      <td>12</td>\n      <td>UTILITY</td>\n      <td>5</td>\n      <td>False</td>\n      <td>8200</td>\n      <td>119</td>\n      <td>2</td>\n      <td>9</td>\n      <td>9</td>\n    </tr>\n  </tbody>\n</table>\n</div>"
     },
     "execution_count": 8,
     "metadata": {},
     "output_type": "execute_result"
    }
   ],
   "source": [
    "df.head()"
   ],
   "metadata": {
    "collapsed": false,
    "ExecuteTime": {
     "end_time": "2023-11-08T01:45:24.660452700Z",
     "start_time": "2023-11-08T01:45:24.639944100Z"
    }
   },
   "id": "74abccb4cb6384fe"
  },
  {
   "cell_type": "code",
   "execution_count": 9,
   "outputs": [],
   "source": [
    "to_dummies = df[['Position','championBan','championId']]\n",
    "to_dummies.loc[:, 'Position'] = to_dummies['Position'].astype('category')\n",
    "to_dummies.loc[:, 'championBan'] = to_dummies['championBan'].astype('category')\n",
    "to_dummies.loc[:, 'championId'] = to_dummies['championId'].astype('category')"
   ],
   "metadata": {
    "collapsed": false,
    "ExecuteTime": {
     "end_time": "2023-11-08T01:45:48.296079200Z",
     "start_time": "2023-11-08T01:45:48.180883500Z"
    }
   },
   "id": "386c882b6c8b9acd"
  },
  {
   "cell_type": "code",
   "execution_count": 10,
   "outputs": [
    {
     "data": {
      "text/plain": "         Position_BOTTOM  Position_JUNGLE  Position_MIDDLE  Position_TOP  \\\nid                                                                         \n0                  False            False            False          True   \n1                  False             True            False         False   \n2                  False            False             True         False   \n3                   True            False            False         False   \n4                  False            False            False         False   \n...                  ...              ...              ...           ...   \n1742835            False            False            False          True   \n1742836            False             True            False         False   \n1742837            False            False             True         False   \n1742838             True            False            False         False   \n1742839            False            False            False         False   \n\n         Position_UTILITY  championBan_-1  championBan_1  championBan_2  \\\nid                                                                        \n0                   False            True          False          False   \n1                   False           False          False          False   \n2                   False           False          False          False   \n3                   False           False          False          False   \n4                    True           False          False          False   \n...                   ...             ...            ...            ...   \n1742835             False           False          False          False   \n1742836             False           False          False          False   \n1742837             False           False          False          False   \n1742838             False           False          False          False   \n1742839              True           False          False          False   \n\n         championBan_3  championBan_4  ...  championId_711  championId_777  \\\nid                                     ...                                   \n0                False          False  ...           False           False   \n1                False          False  ...           False           False   \n2                False          False  ...           False           False   \n3                False          False  ...           False           False   \n4                False          False  ...           False           False   \n...                ...            ...  ...             ...             ...   \n1742835          False          False  ...           False           False   \n1742836          False          False  ...           False           False   \n1742837          False          False  ...           False           False   \n1742838          False          False  ...           False           False   \n1742839          False          False  ...           False           False   \n\n         championId_875  championId_876  championId_887  championId_888  \\\nid                                                                        \n0                 False           False           False           False   \n1                 False           False           False           False   \n2                 False           False           False           False   \n3                 False           False           False           False   \n4                 False           False           False           False   \n...                 ...             ...             ...             ...   \n1742835           False           False           False           False   \n1742836           False           False           False           False   \n1742837           False           False           False           False   \n1742838           False           False           False           False   \n1742839           False           False           False           False   \n\n         championId_895  championId_897  championId_902  championId_950  \nid                                                                       \n0                 False           False           False           False  \n1                 False           False           False           False  \n2                 False           False           False           False  \n3                 False           False           False           False  \n4                 False           False           False           False  \n...                 ...             ...             ...             ...  \n1742835           False           False           False           False  \n1742836           False           False           False           False  \n1742837           False           False           False           False  \n1742838           False           False           False           False  \n1742839           False           False           False           False  \n\n[1740287 rows x 336 columns]",
      "text/html": "<div>\n<style scoped>\n    .dataframe tbody tr th:only-of-type {\n        vertical-align: middle;\n    }\n\n    .dataframe tbody tr th {\n        vertical-align: top;\n    }\n\n    .dataframe thead th {\n        text-align: right;\n    }\n</style>\n<table border=\"1\" class=\"dataframe\">\n  <thead>\n    <tr style=\"text-align: right;\">\n      <th></th>\n      <th>Position_BOTTOM</th>\n      <th>Position_JUNGLE</th>\n      <th>Position_MIDDLE</th>\n      <th>Position_TOP</th>\n      <th>Position_UTILITY</th>\n      <th>championBan_-1</th>\n      <th>championBan_1</th>\n      <th>championBan_2</th>\n      <th>championBan_3</th>\n      <th>championBan_4</th>\n      <th>...</th>\n      <th>championId_711</th>\n      <th>championId_777</th>\n      <th>championId_875</th>\n      <th>championId_876</th>\n      <th>championId_887</th>\n      <th>championId_888</th>\n      <th>championId_895</th>\n      <th>championId_897</th>\n      <th>championId_902</th>\n      <th>championId_950</th>\n    </tr>\n    <tr>\n      <th>id</th>\n      <th></th>\n      <th></th>\n      <th></th>\n      <th></th>\n      <th></th>\n      <th></th>\n      <th></th>\n      <th></th>\n      <th></th>\n      <th></th>\n      <th></th>\n      <th></th>\n      <th></th>\n      <th></th>\n      <th></th>\n      <th></th>\n      <th></th>\n      <th></th>\n      <th></th>\n      <th></th>\n      <th></th>\n    </tr>\n  </thead>\n  <tbody>\n    <tr>\n      <th>0</th>\n      <td>False</td>\n      <td>False</td>\n      <td>False</td>\n      <td>True</td>\n      <td>False</td>\n      <td>True</td>\n      <td>False</td>\n      <td>False</td>\n      <td>False</td>\n      <td>False</td>\n      <td>...</td>\n      <td>False</td>\n      <td>False</td>\n      <td>False</td>\n      <td>False</td>\n      <td>False</td>\n      <td>False</td>\n      <td>False</td>\n      <td>False</td>\n      <td>False</td>\n      <td>False</td>\n    </tr>\n    <tr>\n      <th>1</th>\n      <td>False</td>\n      <td>True</td>\n      <td>False</td>\n      <td>False</td>\n      <td>False</td>\n      <td>False</td>\n      <td>False</td>\n      <td>False</td>\n      <td>False</td>\n      <td>False</td>\n      <td>...</td>\n      <td>False</td>\n      <td>False</td>\n      <td>False</td>\n      <td>False</td>\n      <td>False</td>\n      <td>False</td>\n      <td>False</td>\n      <td>False</td>\n      <td>False</td>\n      <td>False</td>\n    </tr>\n    <tr>\n      <th>2</th>\n      <td>False</td>\n      <td>False</td>\n      <td>True</td>\n      <td>False</td>\n      <td>False</td>\n      <td>False</td>\n      <td>False</td>\n      <td>False</td>\n      <td>False</td>\n      <td>False</td>\n      <td>...</td>\n      <td>False</td>\n      <td>False</td>\n      <td>False</td>\n      <td>False</td>\n      <td>False</td>\n      <td>False</td>\n      <td>False</td>\n      <td>False</td>\n      <td>False</td>\n      <td>False</td>\n    </tr>\n    <tr>\n      <th>3</th>\n      <td>True</td>\n      <td>False</td>\n      <td>False</td>\n      <td>False</td>\n      <td>False</td>\n      <td>False</td>\n      <td>False</td>\n      <td>False</td>\n      <td>False</td>\n      <td>False</td>\n      <td>...</td>\n      <td>False</td>\n      <td>False</td>\n      <td>False</td>\n      <td>False</td>\n      <td>False</td>\n      <td>False</td>\n      <td>False</td>\n      <td>False</td>\n      <td>False</td>\n      <td>False</td>\n    </tr>\n    <tr>\n      <th>4</th>\n      <td>False</td>\n      <td>False</td>\n      <td>False</td>\n      <td>False</td>\n      <td>True</td>\n      <td>False</td>\n      <td>False</td>\n      <td>False</td>\n      <td>False</td>\n      <td>False</td>\n      <td>...</td>\n      <td>False</td>\n      <td>False</td>\n      <td>False</td>\n      <td>False</td>\n      <td>False</td>\n      <td>False</td>\n      <td>False</td>\n      <td>False</td>\n      <td>False</td>\n      <td>False</td>\n    </tr>\n    <tr>\n      <th>...</th>\n      <td>...</td>\n      <td>...</td>\n      <td>...</td>\n      <td>...</td>\n      <td>...</td>\n      <td>...</td>\n      <td>...</td>\n      <td>...</td>\n      <td>...</td>\n      <td>...</td>\n      <td>...</td>\n      <td>...</td>\n      <td>...</td>\n      <td>...</td>\n      <td>...</td>\n      <td>...</td>\n      <td>...</td>\n      <td>...</td>\n      <td>...</td>\n      <td>...</td>\n      <td>...</td>\n    </tr>\n    <tr>\n      <th>1742835</th>\n      <td>False</td>\n      <td>False</td>\n      <td>False</td>\n      <td>True</td>\n      <td>False</td>\n      <td>False</td>\n      <td>False</td>\n      <td>False</td>\n      <td>False</td>\n      <td>False</td>\n      <td>...</td>\n      <td>False</td>\n      <td>False</td>\n      <td>False</td>\n      <td>False</td>\n      <td>False</td>\n      <td>False</td>\n      <td>False</td>\n      <td>False</td>\n      <td>False</td>\n      <td>False</td>\n    </tr>\n    <tr>\n      <th>1742836</th>\n      <td>False</td>\n      <td>True</td>\n      <td>False</td>\n      <td>False</td>\n      <td>False</td>\n      <td>False</td>\n      <td>False</td>\n      <td>False</td>\n      <td>False</td>\n      <td>False</td>\n      <td>...</td>\n      <td>False</td>\n      <td>False</td>\n      <td>False</td>\n      <td>False</td>\n      <td>False</td>\n      <td>False</td>\n      <td>False</td>\n      <td>False</td>\n      <td>False</td>\n      <td>False</td>\n    </tr>\n    <tr>\n      <th>1742837</th>\n      <td>False</td>\n      <td>False</td>\n      <td>True</td>\n      <td>False</td>\n      <td>False</td>\n      <td>False</td>\n      <td>False</td>\n      <td>False</td>\n      <td>False</td>\n      <td>False</td>\n      <td>...</td>\n      <td>False</td>\n      <td>False</td>\n      <td>False</td>\n      <td>False</td>\n      <td>False</td>\n      <td>False</td>\n      <td>False</td>\n      <td>False</td>\n      <td>False</td>\n      <td>False</td>\n    </tr>\n    <tr>\n      <th>1742838</th>\n      <td>True</td>\n      <td>False</td>\n      <td>False</td>\n      <td>False</td>\n      <td>False</td>\n      <td>False</td>\n      <td>False</td>\n      <td>False</td>\n      <td>False</td>\n      <td>False</td>\n      <td>...</td>\n      <td>False</td>\n      <td>False</td>\n      <td>False</td>\n      <td>False</td>\n      <td>False</td>\n      <td>False</td>\n      <td>False</td>\n      <td>False</td>\n      <td>False</td>\n      <td>False</td>\n    </tr>\n    <tr>\n      <th>1742839</th>\n      <td>False</td>\n      <td>False</td>\n      <td>False</td>\n      <td>False</td>\n      <td>True</td>\n      <td>False</td>\n      <td>False</td>\n      <td>False</td>\n      <td>False</td>\n      <td>False</td>\n      <td>...</td>\n      <td>False</td>\n      <td>False</td>\n      <td>False</td>\n      <td>False</td>\n      <td>False</td>\n      <td>False</td>\n      <td>False</td>\n      <td>False</td>\n      <td>False</td>\n      <td>False</td>\n    </tr>\n  </tbody>\n</table>\n<p>1740287 rows × 336 columns</p>\n</div>"
     },
     "execution_count": 10,
     "metadata": {},
     "output_type": "execute_result"
    }
   ],
   "source": [
    "to_dummies = pd.get_dummies(to_dummies)\n",
    "to_dummies"
   ],
   "metadata": {
    "collapsed": false,
    "ExecuteTime": {
     "end_time": "2023-11-08T01:45:50.495876600Z",
     "start_time": "2023-11-08T01:45:49.355845600Z"
    }
   },
   "id": "dc35cd1469037d54"
  },
  {
   "cell_type": "code",
   "execution_count": 11,
   "outputs": [],
   "source": [
    "df = pd.concat([df,to_dummies],axis=1)\n",
    "df.drop(['Position','championBan','championId'],axis=1,inplace=True)"
   ],
   "metadata": {
    "collapsed": false,
    "ExecuteTime": {
     "end_time": "2023-11-08T01:46:11.054560200Z",
     "start_time": "2023-11-08T01:46:10.572884100Z"
    }
   },
   "id": "40727c3f984994f6"
  },
  {
   "cell_type": "code",
   "execution_count": 12,
   "outputs": [
    {
     "data": {
      "text/plain": "    matchId  teamId  turn  gameEndedInSurrender  champExperience  kills  \\\nid                                                                        \n0         0       0     1                 False            13182      9   \n1         0       0     2                 False            12374      6   \n2         0       0     3                 False            13929      1   \n3         0       0     4                 False             9258      0   \n4         0       0     5                 False             8200      2   \n\n    assists  deaths  Position_BOTTOM  Position_JUNGLE  ...  championId_711  \\\nid                                                     ...                   \n0         2       2            False            False  ...           False   \n1         3      10            False             True  ...           False   \n2         3       6            False            False  ...           False   \n3         4       8             True            False  ...           False   \n4         9       9            False            False  ...           False   \n\n    championId_777  championId_875  championId_876  championId_887  \\\nid                                                                   \n0            False           False           False           False   \n1            False           False           False           False   \n2            False           False           False           False   \n3            False           False           False           False   \n4            False           False           False           False   \n\n    championId_888  championId_895  championId_897  championId_902  \\\nid                                                                   \n0            False           False           False           False   \n1            False           False           False           False   \n2            False           False           False           False   \n3            False           False           False           False   \n4            False           False           False           False   \n\n    championId_950  \nid                  \n0            False  \n1            False  \n2            False  \n3            False  \n4            False  \n\n[5 rows x 344 columns]",
      "text/html": "<div>\n<style scoped>\n    .dataframe tbody tr th:only-of-type {\n        vertical-align: middle;\n    }\n\n    .dataframe tbody tr th {\n        vertical-align: top;\n    }\n\n    .dataframe thead th {\n        text-align: right;\n    }\n</style>\n<table border=\"1\" class=\"dataframe\">\n  <thead>\n    <tr style=\"text-align: right;\">\n      <th></th>\n      <th>matchId</th>\n      <th>teamId</th>\n      <th>turn</th>\n      <th>gameEndedInSurrender</th>\n      <th>champExperience</th>\n      <th>kills</th>\n      <th>assists</th>\n      <th>deaths</th>\n      <th>Position_BOTTOM</th>\n      <th>Position_JUNGLE</th>\n      <th>...</th>\n      <th>championId_711</th>\n      <th>championId_777</th>\n      <th>championId_875</th>\n      <th>championId_876</th>\n      <th>championId_887</th>\n      <th>championId_888</th>\n      <th>championId_895</th>\n      <th>championId_897</th>\n      <th>championId_902</th>\n      <th>championId_950</th>\n    </tr>\n    <tr>\n      <th>id</th>\n      <th></th>\n      <th></th>\n      <th></th>\n      <th></th>\n      <th></th>\n      <th></th>\n      <th></th>\n      <th></th>\n      <th></th>\n      <th></th>\n      <th></th>\n      <th></th>\n      <th></th>\n      <th></th>\n      <th></th>\n      <th></th>\n      <th></th>\n      <th></th>\n      <th></th>\n      <th></th>\n      <th></th>\n    </tr>\n  </thead>\n  <tbody>\n    <tr>\n      <th>0</th>\n      <td>0</td>\n      <td>0</td>\n      <td>1</td>\n      <td>False</td>\n      <td>13182</td>\n      <td>9</td>\n      <td>2</td>\n      <td>2</td>\n      <td>False</td>\n      <td>False</td>\n      <td>...</td>\n      <td>False</td>\n      <td>False</td>\n      <td>False</td>\n      <td>False</td>\n      <td>False</td>\n      <td>False</td>\n      <td>False</td>\n      <td>False</td>\n      <td>False</td>\n      <td>False</td>\n    </tr>\n    <tr>\n      <th>1</th>\n      <td>0</td>\n      <td>0</td>\n      <td>2</td>\n      <td>False</td>\n      <td>12374</td>\n      <td>6</td>\n      <td>3</td>\n      <td>10</td>\n      <td>False</td>\n      <td>True</td>\n      <td>...</td>\n      <td>False</td>\n      <td>False</td>\n      <td>False</td>\n      <td>False</td>\n      <td>False</td>\n      <td>False</td>\n      <td>False</td>\n      <td>False</td>\n      <td>False</td>\n      <td>False</td>\n    </tr>\n    <tr>\n      <th>2</th>\n      <td>0</td>\n      <td>0</td>\n      <td>3</td>\n      <td>False</td>\n      <td>13929</td>\n      <td>1</td>\n      <td>3</td>\n      <td>6</td>\n      <td>False</td>\n      <td>False</td>\n      <td>...</td>\n      <td>False</td>\n      <td>False</td>\n      <td>False</td>\n      <td>False</td>\n      <td>False</td>\n      <td>False</td>\n      <td>False</td>\n      <td>False</td>\n      <td>False</td>\n      <td>False</td>\n    </tr>\n    <tr>\n      <th>3</th>\n      <td>0</td>\n      <td>0</td>\n      <td>4</td>\n      <td>False</td>\n      <td>9258</td>\n      <td>0</td>\n      <td>4</td>\n      <td>8</td>\n      <td>True</td>\n      <td>False</td>\n      <td>...</td>\n      <td>False</td>\n      <td>False</td>\n      <td>False</td>\n      <td>False</td>\n      <td>False</td>\n      <td>False</td>\n      <td>False</td>\n      <td>False</td>\n      <td>False</td>\n      <td>False</td>\n    </tr>\n    <tr>\n      <th>4</th>\n      <td>0</td>\n      <td>0</td>\n      <td>5</td>\n      <td>False</td>\n      <td>8200</td>\n      <td>2</td>\n      <td>9</td>\n      <td>9</td>\n      <td>False</td>\n      <td>False</td>\n      <td>...</td>\n      <td>False</td>\n      <td>False</td>\n      <td>False</td>\n      <td>False</td>\n      <td>False</td>\n      <td>False</td>\n      <td>False</td>\n      <td>False</td>\n      <td>False</td>\n      <td>False</td>\n    </tr>\n  </tbody>\n</table>\n<p>5 rows × 344 columns</p>\n</div>"
     },
     "execution_count": 12,
     "metadata": {},
     "output_type": "execute_result"
    }
   ],
   "source": [
    "df.head()"
   ],
   "metadata": {
    "collapsed": false,
    "ExecuteTime": {
     "end_time": "2023-11-08T01:46:12.057287100Z",
     "start_time": "2023-11-08T01:46:12.028944700Z"
    }
   },
   "id": "7659fac9c11889bf"
  },
  {
   "cell_type": "code",
   "execution_count": 13,
   "outputs": [],
   "source": [
    "df.to_csv('data/transform/participant.csv',sep=';')"
   ],
   "metadata": {
    "collapsed": false,
    "ExecuteTime": {
     "end_time": "2023-11-08T01:47:36.046271500Z",
     "start_time": "2023-11-08T01:46:33.867834200Z"
    }
   },
   "id": "5f390424cbb96884"
  }
 ],
 "metadata": {
  "kernelspec": {
   "display_name": "Python 3",
   "language": "python",
   "name": "python3"
  },
  "language_info": {
   "codemirror_mode": {
    "name": "ipython",
    "version": 2
   },
   "file_extension": ".py",
   "mimetype": "text/x-python",
   "name": "python",
   "nbconvert_exporter": "python",
   "pygments_lexer": "ipython2",
   "version": "2.7.6"
  }
 },
 "nbformat": 4,
 "nbformat_minor": 5
}
