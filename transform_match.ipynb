{
 "cells": [
  {
   "cell_type": "code",
   "execution_count": 206,
   "id": "initial_id",
   "metadata": {
    "collapsed": true,
    "ExecuteTime": {
     "end_time": "2023-11-08T03:10:45.845881500Z",
     "start_time": "2023-11-08T03:10:45.790856Z"
    }
   },
   "outputs": [],
   "source": [
    "import pandas\n",
    "import math "
   ]
  },
  {
   "cell_type": "code",
   "execution_count": 207,
   "outputs": [
    {
     "data": {
      "text/plain": "            id  gameVersion  gameDurationCluster  afkEarlySurrender  tierId  \\\n0            0        13.19                    1              False       4   \n1            1        13.19                    2              False       4   \n2            2        13.13                    1              False       4   \n3            3        13.13                    2              False       4   \n4            4        13.19                    1              False       4   \n...        ...          ...                  ...                ...     ...   \n174095  174280        13.14                    1              False       1   \n174096  174281        13.13                    2              False       1   \n174097  174282        13.14                    1              False       1   \n174098  174283        13.13                    4              False       1   \n174099  174284        13.13                    1              False       1   \n\n        divisionId  \n0                4  \n1                4  \n2                4  \n3                4  \n4                4  \n...            ...  \n174095           4  \n174096           4  \n174097           4  \n174098           4  \n174099           4  \n\n[174100 rows x 6 columns]",
      "text/html": "<div>\n<style scoped>\n    .dataframe tbody tr th:only-of-type {\n        vertical-align: middle;\n    }\n\n    .dataframe tbody tr th {\n        vertical-align: top;\n    }\n\n    .dataframe thead th {\n        text-align: right;\n    }\n</style>\n<table border=\"1\" class=\"dataframe\">\n  <thead>\n    <tr style=\"text-align: right;\">\n      <th></th>\n      <th>id</th>\n      <th>gameVersion</th>\n      <th>gameDurationCluster</th>\n      <th>afkEarlySurrender</th>\n      <th>tierId</th>\n      <th>divisionId</th>\n    </tr>\n  </thead>\n  <tbody>\n    <tr>\n      <th>0</th>\n      <td>0</td>\n      <td>13.19</td>\n      <td>1</td>\n      <td>False</td>\n      <td>4</td>\n      <td>4</td>\n    </tr>\n    <tr>\n      <th>1</th>\n      <td>1</td>\n      <td>13.19</td>\n      <td>2</td>\n      <td>False</td>\n      <td>4</td>\n      <td>4</td>\n    </tr>\n    <tr>\n      <th>2</th>\n      <td>2</td>\n      <td>13.13</td>\n      <td>1</td>\n      <td>False</td>\n      <td>4</td>\n      <td>4</td>\n    </tr>\n    <tr>\n      <th>3</th>\n      <td>3</td>\n      <td>13.13</td>\n      <td>2</td>\n      <td>False</td>\n      <td>4</td>\n      <td>4</td>\n    </tr>\n    <tr>\n      <th>4</th>\n      <td>4</td>\n      <td>13.19</td>\n      <td>1</td>\n      <td>False</td>\n      <td>4</td>\n      <td>4</td>\n    </tr>\n    <tr>\n      <th>...</th>\n      <td>...</td>\n      <td>...</td>\n      <td>...</td>\n      <td>...</td>\n      <td>...</td>\n      <td>...</td>\n    </tr>\n    <tr>\n      <th>174095</th>\n      <td>174280</td>\n      <td>13.14</td>\n      <td>1</td>\n      <td>False</td>\n      <td>1</td>\n      <td>4</td>\n    </tr>\n    <tr>\n      <th>174096</th>\n      <td>174281</td>\n      <td>13.13</td>\n      <td>2</td>\n      <td>False</td>\n      <td>1</td>\n      <td>4</td>\n    </tr>\n    <tr>\n      <th>174097</th>\n      <td>174282</td>\n      <td>13.14</td>\n      <td>1</td>\n      <td>False</td>\n      <td>1</td>\n      <td>4</td>\n    </tr>\n    <tr>\n      <th>174098</th>\n      <td>174283</td>\n      <td>13.13</td>\n      <td>4</td>\n      <td>False</td>\n      <td>1</td>\n      <td>4</td>\n    </tr>\n    <tr>\n      <th>174099</th>\n      <td>174284</td>\n      <td>13.13</td>\n      <td>1</td>\n      <td>False</td>\n      <td>1</td>\n      <td>4</td>\n    </tr>\n  </tbody>\n</table>\n<p>174100 rows × 6 columns</p>\n</div>"
     },
     "execution_count": 207,
     "metadata": {},
     "output_type": "execute_result"
    }
   ],
   "source": [
    "match = pandas.read_csv('data/clean/match.csv',sep=',')\n",
    "match"
   ],
   "metadata": {
    "collapsed": false,
    "ExecuteTime": {
     "end_time": "2023-11-08T03:10:45.877897700Z",
     "start_time": "2023-11-08T03:10:45.800377Z"
    }
   },
   "id": "f23a1fbe8e93acff"
  },
  {
   "cell_type": "code",
   "execution_count": 208,
   "outputs": [],
   "source": [
    "match['tierId']=match['tierId'].astype('float64')\n",
    "match['tierId']=match['tierId']-1"
   ],
   "metadata": {
    "collapsed": false,
    "ExecuteTime": {
     "end_time": "2023-11-08T03:10:45.878897200Z",
     "start_time": "2023-11-08T03:10:45.864390400Z"
    }
   },
   "id": "5ea15d4638ef7987"
  },
  {
   "cell_type": "code",
   "execution_count": 209,
   "outputs": [],
   "source": [
    "match['divisionId']=match['divisionId'].astype('float64')\n",
    "match['divisionId']=match['divisionId']-1"
   ],
   "metadata": {
    "collapsed": false,
    "ExecuteTime": {
     "end_time": "2023-11-08T03:10:45.894401800Z",
     "start_time": "2023-11-08T03:10:45.878897200Z"
    }
   },
   "id": "2f6192304ffe9357"
  },
  {
   "cell_type": "code",
   "execution_count": 210,
   "outputs": [],
   "source": [
    "match['level']=match['tierId']+match['divisionId']"
   ],
   "metadata": {
    "collapsed": false,
    "ExecuteTime": {
     "end_time": "2023-11-08T03:10:45.915402800Z",
     "start_time": "2023-11-08T03:10:45.895401900Z"
    }
   },
   "id": "4f4d0abc77584308"
  },
  {
   "cell_type": "code",
   "execution_count": 211,
   "outputs": [
    {
     "data": {
      "text/plain": "level\n3.0    44207\n4.0    34424\n2.0    30906\n5.0    22973\n1.0    18588\n6.0    15630\n0.0     7372\nName: count, dtype: int64"
     },
     "execution_count": 211,
     "metadata": {},
     "output_type": "execute_result"
    }
   ],
   "source": [
    "match['level'].value_counts().sort_values(ascending=False)"
   ],
   "metadata": {
    "collapsed": false,
    "ExecuteTime": {
     "end_time": "2023-11-08T03:10:45.964413500Z",
     "start_time": "2023-11-08T03:10:45.912406300Z"
    }
   },
   "id": "77ae5c817f3cb8f0"
  },
  {
   "cell_type": "code",
   "execution_count": 212,
   "outputs": [],
   "source": [
    "match['level']=match['level'].apply(lambda x: math.log1p(x))\n",
    "match['level']=match['level'].apply(lambda x: round(x,4))"
   ],
   "metadata": {
    "collapsed": false,
    "ExecuteTime": {
     "end_time": "2023-11-08T03:10:46.019358800Z",
     "start_time": "2023-11-08T03:10:45.926907700Z"
    }
   },
   "id": "644897b835c7be78"
  },
  {
   "cell_type": "code",
   "execution_count": 213,
   "outputs": [],
   "source": [
    "#drop tierId and divisionId\n",
    "match=match.drop(['tierId','divisionId'],axis=1)"
   ],
   "metadata": {
    "collapsed": false,
    "ExecuteTime": {
     "end_time": "2023-11-08T03:10:46.034360Z",
     "start_time": "2023-11-08T03:10:46.020360500Z"
    }
   },
   "id": "a3726d953c0063f"
  },
  {
   "cell_type": "code",
   "execution_count": 214,
   "outputs": [],
   "source": [
    "match['afkEarlySurrender'].replace({True:1,False:0},inplace=True)"
   ],
   "metadata": {
    "collapsed": false,
    "ExecuteTime": {
     "end_time": "2023-11-08T03:10:46.065866200Z",
     "start_time": "2023-11-08T03:10:46.035360Z"
    }
   },
   "id": "6826e6b629e9874e"
  },
  {
   "cell_type": "code",
   "execution_count": 215,
   "outputs": [
    {
     "data": {
      "text/plain": "afkEarlySurrender\n1    4225\nName: count, dtype: int64"
     },
     "execution_count": 215,
     "metadata": {},
     "output_type": "execute_result"
    }
   ],
   "source": [
    "match[match['afkEarlySurrender']==1]['afkEarlySurrender'].value_counts()"
   ],
   "metadata": {
    "collapsed": false,
    "ExecuteTime": {
     "end_time": "2023-11-08T03:10:46.082161800Z",
     "start_time": "2023-11-08T03:10:46.066866400Z"
    }
   },
   "id": "cd5624754c9f3417"
  },
  {
   "cell_type": "code",
   "execution_count": 216,
   "outputs": [
    {
     "data": {
      "text/plain": "afkEarlySurrender\n0    169875\nName: count, dtype: int64"
     },
     "execution_count": 216,
     "metadata": {},
     "output_type": "execute_result"
    }
   ],
   "source": [
    "match[match['afkEarlySurrender']==0]['afkEarlySurrender'].value_counts()"
   ],
   "metadata": {
    "collapsed": false,
    "ExecuteTime": {
     "end_time": "2023-11-08T03:10:46.108684600Z",
     "start_time": "2023-11-08T03:10:46.083161200Z"
    }
   },
   "id": "98b6c3248e884213"
  },
  {
   "cell_type": "code",
   "execution_count": 217,
   "outputs": [],
   "source": [
    "match=match[match['afkEarlySurrender']==0]\n",
    "match=match.drop(['afkEarlySurrender'],axis=1)"
   ],
   "metadata": {
    "collapsed": false,
    "ExecuteTime": {
     "end_time": "2023-11-08T03:10:46.114684600Z",
     "start_time": "2023-11-08T03:10:46.098178700Z"
    }
   },
   "id": "eb41383a666510d"
  },
  {
   "cell_type": "code",
   "execution_count": 218,
   "outputs": [
    {
     "data": {
      "text/plain": "gameVersion\n13.20    60325\n13.19    31727\n13.18    21635\n13.17    16873\n13.16    12213\nName: count, dtype: int64"
     },
     "execution_count": 218,
     "metadata": {},
     "output_type": "execute_result"
    }
   ],
   "source": [
    "versions=match['gameVersion'].value_counts().sort_values(ascending=False).head(5)\n",
    "versions"
   ],
   "metadata": {
    "collapsed": false,
    "ExecuteTime": {
     "end_time": "2023-11-08T03:10:46.128280Z",
     "start_time": "2023-11-08T03:10:46.113684500Z"
    }
   },
   "id": "b0ed3e0a9dffc9f7"
  },
  {
   "cell_type": "markdown",
   "source": [
    "tenemos demasiadas versiones asique solo vamos a quedarnos con las 5 mas jugadas"
   ],
   "metadata": {
    "collapsed": false
   },
   "id": "a1dc74fbe15cc933"
  },
  {
   "cell_type": "code",
   "execution_count": 219,
   "outputs": [
    {
     "data": {
      "text/plain": "[13.2, 13.19, 13.18, 13.17, 13.16]"
     },
     "execution_count": 219,
     "metadata": {},
     "output_type": "execute_result"
    }
   ],
   "source": [
    "#get versions\n",
    "versions_ls=versions.index.tolist()\n",
    "versions_ls"
   ],
   "metadata": {
    "collapsed": false,
    "ExecuteTime": {
     "end_time": "2023-11-08T03:10:46.157943500Z",
     "start_time": "2023-11-08T03:10:46.131280500Z"
    }
   },
   "id": "9698f2346e604f5"
  },
  {
   "cell_type": "code",
   "execution_count": 220,
   "outputs": [],
   "source": [
    "match=match[match['gameVersion'].isin(versions_ls)]"
   ],
   "metadata": {
    "collapsed": false,
    "ExecuteTime": {
     "end_time": "2023-11-08T03:10:46.173478200Z",
     "start_time": "2023-11-08T03:10:46.144314200Z"
    }
   },
   "id": "19b82504a888df16"
  },
  {
   "cell_type": "code",
   "execution_count": 221,
   "outputs": [
    {
     "data": {
      "text/plain": "            id  gameVersion  gameDurationCluster   level\n0            0        13.19                    1  1.9459\n1            1        13.19                    2  1.9459\n4            4        13.19                    1  1.9459\n6            6        13.19                    4  1.9459\n8            8        13.19                    1  1.9459\n...        ...          ...                  ...     ...\n174083  174268        13.19                    3  1.3863\n174084  174269        13.17                    1  1.3863\n174087  174272        13.19                    2  1.3863\n174088  174273        13.20                    2  1.3863\n174089  174274        13.16                    1  1.3863\n\n[142773 rows x 4 columns]",
      "text/html": "<div>\n<style scoped>\n    .dataframe tbody tr th:only-of-type {\n        vertical-align: middle;\n    }\n\n    .dataframe tbody tr th {\n        vertical-align: top;\n    }\n\n    .dataframe thead th {\n        text-align: right;\n    }\n</style>\n<table border=\"1\" class=\"dataframe\">\n  <thead>\n    <tr style=\"text-align: right;\">\n      <th></th>\n      <th>id</th>\n      <th>gameVersion</th>\n      <th>gameDurationCluster</th>\n      <th>level</th>\n    </tr>\n  </thead>\n  <tbody>\n    <tr>\n      <th>0</th>\n      <td>0</td>\n      <td>13.19</td>\n      <td>1</td>\n      <td>1.9459</td>\n    </tr>\n    <tr>\n      <th>1</th>\n      <td>1</td>\n      <td>13.19</td>\n      <td>2</td>\n      <td>1.9459</td>\n    </tr>\n    <tr>\n      <th>4</th>\n      <td>4</td>\n      <td>13.19</td>\n      <td>1</td>\n      <td>1.9459</td>\n    </tr>\n    <tr>\n      <th>6</th>\n      <td>6</td>\n      <td>13.19</td>\n      <td>4</td>\n      <td>1.9459</td>\n    </tr>\n    <tr>\n      <th>8</th>\n      <td>8</td>\n      <td>13.19</td>\n      <td>1</td>\n      <td>1.9459</td>\n    </tr>\n    <tr>\n      <th>...</th>\n      <td>...</td>\n      <td>...</td>\n      <td>...</td>\n      <td>...</td>\n    </tr>\n    <tr>\n      <th>174083</th>\n      <td>174268</td>\n      <td>13.19</td>\n      <td>3</td>\n      <td>1.3863</td>\n    </tr>\n    <tr>\n      <th>174084</th>\n      <td>174269</td>\n      <td>13.17</td>\n      <td>1</td>\n      <td>1.3863</td>\n    </tr>\n    <tr>\n      <th>174087</th>\n      <td>174272</td>\n      <td>13.19</td>\n      <td>2</td>\n      <td>1.3863</td>\n    </tr>\n    <tr>\n      <th>174088</th>\n      <td>174273</td>\n      <td>13.20</td>\n      <td>2</td>\n      <td>1.3863</td>\n    </tr>\n    <tr>\n      <th>174089</th>\n      <td>174274</td>\n      <td>13.16</td>\n      <td>1</td>\n      <td>1.3863</td>\n    </tr>\n  </tbody>\n</table>\n<p>142773 rows × 4 columns</p>\n</div>"
     },
     "execution_count": 221,
     "metadata": {},
     "output_type": "execute_result"
    }
   ],
   "source": [
    "match"
   ],
   "metadata": {
    "collapsed": false,
    "ExecuteTime": {
     "end_time": "2023-11-08T03:10:46.178335900Z",
     "start_time": "2023-11-08T03:10:46.159822200Z"
    }
   },
   "id": "a1909548e9452d40"
  },
  {
   "cell_type": "code",
   "execution_count": 222,
   "outputs": [],
   "source": [
    "df_dummies_versions=match[['gameVersion']]\n",
    "df_dummies_versions.loc[:, 'gameVersion']=df_dummies_versions['gameVersion'].astype('category')\n",
    "df_dummies_versions=pandas.get_dummies(df_dummies_versions)"
   ],
   "metadata": {
    "collapsed": false,
    "ExecuteTime": {
     "end_time": "2023-11-08T03:10:46.197854700Z",
     "start_time": "2023-11-08T03:10:46.175336800Z"
    }
   },
   "id": "20f7b79ecd6d60c5"
  },
  {
   "cell_type": "code",
   "execution_count": 223,
   "outputs": [
    {
     "data": {
      "text/plain": "        gameVersion_13.16  gameVersion_13.17  gameVersion_13.18  \\\n0                   False              False              False   \n1                   False              False              False   \n4                   False              False              False   \n6                   False              False              False   \n8                   False              False              False   \n...                   ...                ...                ...   \n174083              False              False              False   \n174084              False               True              False   \n174087              False              False              False   \n174088              False              False              False   \n174089               True              False              False   \n\n        gameVersion_13.19  gameVersion_13.2  \n0                    True             False  \n1                    True             False  \n4                    True             False  \n6                    True             False  \n8                    True             False  \n...                   ...               ...  \n174083               True             False  \n174084              False             False  \n174087               True             False  \n174088              False              True  \n174089              False             False  \n\n[142773 rows x 5 columns]",
      "text/html": "<div>\n<style scoped>\n    .dataframe tbody tr th:only-of-type {\n        vertical-align: middle;\n    }\n\n    .dataframe tbody tr th {\n        vertical-align: top;\n    }\n\n    .dataframe thead th {\n        text-align: right;\n    }\n</style>\n<table border=\"1\" class=\"dataframe\">\n  <thead>\n    <tr style=\"text-align: right;\">\n      <th></th>\n      <th>gameVersion_13.16</th>\n      <th>gameVersion_13.17</th>\n      <th>gameVersion_13.18</th>\n      <th>gameVersion_13.19</th>\n      <th>gameVersion_13.2</th>\n    </tr>\n  </thead>\n  <tbody>\n    <tr>\n      <th>0</th>\n      <td>False</td>\n      <td>False</td>\n      <td>False</td>\n      <td>True</td>\n      <td>False</td>\n    </tr>\n    <tr>\n      <th>1</th>\n      <td>False</td>\n      <td>False</td>\n      <td>False</td>\n      <td>True</td>\n      <td>False</td>\n    </tr>\n    <tr>\n      <th>4</th>\n      <td>False</td>\n      <td>False</td>\n      <td>False</td>\n      <td>True</td>\n      <td>False</td>\n    </tr>\n    <tr>\n      <th>6</th>\n      <td>False</td>\n      <td>False</td>\n      <td>False</td>\n      <td>True</td>\n      <td>False</td>\n    </tr>\n    <tr>\n      <th>8</th>\n      <td>False</td>\n      <td>False</td>\n      <td>False</td>\n      <td>True</td>\n      <td>False</td>\n    </tr>\n    <tr>\n      <th>...</th>\n      <td>...</td>\n      <td>...</td>\n      <td>...</td>\n      <td>...</td>\n      <td>...</td>\n    </tr>\n    <tr>\n      <th>174083</th>\n      <td>False</td>\n      <td>False</td>\n      <td>False</td>\n      <td>True</td>\n      <td>False</td>\n    </tr>\n    <tr>\n      <th>174084</th>\n      <td>False</td>\n      <td>True</td>\n      <td>False</td>\n      <td>False</td>\n      <td>False</td>\n    </tr>\n    <tr>\n      <th>174087</th>\n      <td>False</td>\n      <td>False</td>\n      <td>False</td>\n      <td>True</td>\n      <td>False</td>\n    </tr>\n    <tr>\n      <th>174088</th>\n      <td>False</td>\n      <td>False</td>\n      <td>False</td>\n      <td>False</td>\n      <td>True</td>\n    </tr>\n    <tr>\n      <th>174089</th>\n      <td>True</td>\n      <td>False</td>\n      <td>False</td>\n      <td>False</td>\n      <td>False</td>\n    </tr>\n  </tbody>\n</table>\n<p>142773 rows × 5 columns</p>\n</div>"
     },
     "execution_count": 223,
     "metadata": {},
     "output_type": "execute_result"
    }
   ],
   "source": [
    "df_dummies_versions"
   ],
   "metadata": {
    "collapsed": false,
    "ExecuteTime": {
     "end_time": "2023-11-08T03:10:46.240515100Z",
     "start_time": "2023-11-08T03:10:46.190854300Z"
    }
   },
   "id": "d3b1ef37302a049f"
  },
  {
   "cell_type": "code",
   "execution_count": 224,
   "outputs": [],
   "source": [
    "match=match.drop(['gameVersion'],axis=1)\n",
    "match=pandas.concat([match,df_dummies_versions],axis=1)"
   ],
   "metadata": {
    "collapsed": false,
    "ExecuteTime": {
     "end_time": "2023-11-08T03:10:46.247021800Z",
     "start_time": "2023-11-08T03:10:46.206853900Z"
    }
   },
   "id": "319aa84c40d614a4"
  },
  {
   "cell_type": "code",
   "execution_count": 225,
   "outputs": [
    {
     "data": {
      "text/plain": "            id  gameDurationCluster   level  gameVersion_13.16  \\\n0            0                    1  1.9459              False   \n1            1                    2  1.9459              False   \n4            4                    1  1.9459              False   \n6            6                    4  1.9459              False   \n8            8                    1  1.9459              False   \n...        ...                  ...     ...                ...   \n174083  174268                    3  1.3863              False   \n174084  174269                    1  1.3863              False   \n174087  174272                    2  1.3863              False   \n174088  174273                    2  1.3863              False   \n174089  174274                    1  1.3863               True   \n\n        gameVersion_13.17  gameVersion_13.18  gameVersion_13.19  \\\n0                   False              False               True   \n1                   False              False               True   \n4                   False              False               True   \n6                   False              False               True   \n8                   False              False               True   \n...                   ...                ...                ...   \n174083              False              False               True   \n174084               True              False              False   \n174087              False              False               True   \n174088              False              False              False   \n174089              False              False              False   \n\n        gameVersion_13.2  \n0                  False  \n1                  False  \n4                  False  \n6                  False  \n8                  False  \n...                  ...  \n174083             False  \n174084             False  \n174087             False  \n174088              True  \n174089             False  \n\n[142773 rows x 8 columns]",
      "text/html": "<div>\n<style scoped>\n    .dataframe tbody tr th:only-of-type {\n        vertical-align: middle;\n    }\n\n    .dataframe tbody tr th {\n        vertical-align: top;\n    }\n\n    .dataframe thead th {\n        text-align: right;\n    }\n</style>\n<table border=\"1\" class=\"dataframe\">\n  <thead>\n    <tr style=\"text-align: right;\">\n      <th></th>\n      <th>id</th>\n      <th>gameDurationCluster</th>\n      <th>level</th>\n      <th>gameVersion_13.16</th>\n      <th>gameVersion_13.17</th>\n      <th>gameVersion_13.18</th>\n      <th>gameVersion_13.19</th>\n      <th>gameVersion_13.2</th>\n    </tr>\n  </thead>\n  <tbody>\n    <tr>\n      <th>0</th>\n      <td>0</td>\n      <td>1</td>\n      <td>1.9459</td>\n      <td>False</td>\n      <td>False</td>\n      <td>False</td>\n      <td>True</td>\n      <td>False</td>\n    </tr>\n    <tr>\n      <th>1</th>\n      <td>1</td>\n      <td>2</td>\n      <td>1.9459</td>\n      <td>False</td>\n      <td>False</td>\n      <td>False</td>\n      <td>True</td>\n      <td>False</td>\n    </tr>\n    <tr>\n      <th>4</th>\n      <td>4</td>\n      <td>1</td>\n      <td>1.9459</td>\n      <td>False</td>\n      <td>False</td>\n      <td>False</td>\n      <td>True</td>\n      <td>False</td>\n    </tr>\n    <tr>\n      <th>6</th>\n      <td>6</td>\n      <td>4</td>\n      <td>1.9459</td>\n      <td>False</td>\n      <td>False</td>\n      <td>False</td>\n      <td>True</td>\n      <td>False</td>\n    </tr>\n    <tr>\n      <th>8</th>\n      <td>8</td>\n      <td>1</td>\n      <td>1.9459</td>\n      <td>False</td>\n      <td>False</td>\n      <td>False</td>\n      <td>True</td>\n      <td>False</td>\n    </tr>\n    <tr>\n      <th>...</th>\n      <td>...</td>\n      <td>...</td>\n      <td>...</td>\n      <td>...</td>\n      <td>...</td>\n      <td>...</td>\n      <td>...</td>\n      <td>...</td>\n    </tr>\n    <tr>\n      <th>174083</th>\n      <td>174268</td>\n      <td>3</td>\n      <td>1.3863</td>\n      <td>False</td>\n      <td>False</td>\n      <td>False</td>\n      <td>True</td>\n      <td>False</td>\n    </tr>\n    <tr>\n      <th>174084</th>\n      <td>174269</td>\n      <td>1</td>\n      <td>1.3863</td>\n      <td>False</td>\n      <td>True</td>\n      <td>False</td>\n      <td>False</td>\n      <td>False</td>\n    </tr>\n    <tr>\n      <th>174087</th>\n      <td>174272</td>\n      <td>2</td>\n      <td>1.3863</td>\n      <td>False</td>\n      <td>False</td>\n      <td>False</td>\n      <td>True</td>\n      <td>False</td>\n    </tr>\n    <tr>\n      <th>174088</th>\n      <td>174273</td>\n      <td>2</td>\n      <td>1.3863</td>\n      <td>False</td>\n      <td>False</td>\n      <td>False</td>\n      <td>False</td>\n      <td>True</td>\n    </tr>\n    <tr>\n      <th>174089</th>\n      <td>174274</td>\n      <td>1</td>\n      <td>1.3863</td>\n      <td>True</td>\n      <td>False</td>\n      <td>False</td>\n      <td>False</td>\n      <td>False</td>\n    </tr>\n  </tbody>\n</table>\n<p>142773 rows × 8 columns</p>\n</div>"
     },
     "execution_count": 225,
     "metadata": {},
     "output_type": "execute_result"
    }
   ],
   "source": [
    "match"
   ],
   "metadata": {
    "collapsed": false,
    "ExecuteTime": {
     "end_time": "2023-11-08T03:10:46.248021600Z",
     "start_time": "2023-11-08T03:10:46.221007100Z"
    }
   },
   "id": "576697676525860d"
  },
  {
   "cell_type": "code",
   "execution_count": 226,
   "outputs": [],
   "source": [
    "match.to_csv('data/transform/match.csv',index=False,sep=';')"
   ],
   "metadata": {
    "collapsed": false,
    "ExecuteTime": {
     "end_time": "2023-11-08T03:10:46.424112900Z",
     "start_time": "2023-11-08T03:10:46.237515500Z"
    }
   },
   "id": "cd35978706b1a2e1"
  }
 ],
 "metadata": {
  "kernelspec": {
   "display_name": "Python 3",
   "language": "python",
   "name": "python3"
  },
  "language_info": {
   "codemirror_mode": {
    "name": "ipython",
    "version": 2
   },
   "file_extension": ".py",
   "mimetype": "text/x-python",
   "name": "python",
   "nbconvert_exporter": "python",
   "pygments_lexer": "ipython2",
   "version": "2.7.6"
  }
 },
 "nbformat": 4,
 "nbformat_minor": 5
}
