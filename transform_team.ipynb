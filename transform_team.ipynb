{
 "cells": [
  {
   "cell_type": "code",
   "execution_count": 8,
   "id": "initial_id",
   "metadata": {
    "collapsed": true,
    "ExecuteTime": {
     "end_time": "2023-11-08T01:56:22.397838300Z",
     "start_time": "2023-11-08T01:56:22.380328Z"
    }
   },
   "outputs": [],
   "source": [
    "import pandas as pd"
   ]
  },
  {
   "cell_type": "code",
   "execution_count": 9,
   "outputs": [],
   "source": [
    "df = pd.read_csv('data/clean/team.csv', index_col=0)"
   ],
   "metadata": {
    "collapsed": false,
    "ExecuteTime": {
     "end_time": "2023-11-08T01:56:22.588896Z",
     "start_time": "2023-11-08T01:56:22.385328Z"
    }
   },
   "id": "bd613cb46c6040b7"
  },
  {
   "cell_type": "code",
   "execution_count": 10,
   "outputs": [
    {
     "data": {
      "text/plain": "    matchId  sideId  baronFirst  baronKills  championFirst  championKills  \\\nid                                                                          \n0         0     100        True           1          False             18   \n1         0     200       False           0           True             35   \n2         1     100        True           1          False             48   \n3         1     200       False           1           True             45   \n4         2     100       False           0           True             26   \n\n    dragonFirst  dragonKills  inhibitorFirst  inhibitorKills  riftHeraldFirst  \\\nid                                                                              \n0         False            0           False               1             True   \n1          True            4            True               2            False   \n2          True            2            True               2            False   \n3         False            2           False               0             True   \n4         False            0           False               0             True   \n\n    riftHeraldKills  towerFirst  towerKills    win  \nid                                                  \n0                 1       False           6  False  \n1                 1        True           9   True  \n2                 1       False           9   True  \n3                 1        True           5  False  \n4                 1        True           3  False  ",
      "text/html": "<div>\n<style scoped>\n    .dataframe tbody tr th:only-of-type {\n        vertical-align: middle;\n    }\n\n    .dataframe tbody tr th {\n        vertical-align: top;\n    }\n\n    .dataframe thead th {\n        text-align: right;\n    }\n</style>\n<table border=\"1\" class=\"dataframe\">\n  <thead>\n    <tr style=\"text-align: right;\">\n      <th></th>\n      <th>matchId</th>\n      <th>sideId</th>\n      <th>baronFirst</th>\n      <th>baronKills</th>\n      <th>championFirst</th>\n      <th>championKills</th>\n      <th>dragonFirst</th>\n      <th>dragonKills</th>\n      <th>inhibitorFirst</th>\n      <th>inhibitorKills</th>\n      <th>riftHeraldFirst</th>\n      <th>riftHeraldKills</th>\n      <th>towerFirst</th>\n      <th>towerKills</th>\n      <th>win</th>\n    </tr>\n    <tr>\n      <th>id</th>\n      <th></th>\n      <th></th>\n      <th></th>\n      <th></th>\n      <th></th>\n      <th></th>\n      <th></th>\n      <th></th>\n      <th></th>\n      <th></th>\n      <th></th>\n      <th></th>\n      <th></th>\n      <th></th>\n      <th></th>\n    </tr>\n  </thead>\n  <tbody>\n    <tr>\n      <th>0</th>\n      <td>0</td>\n      <td>100</td>\n      <td>True</td>\n      <td>1</td>\n      <td>False</td>\n      <td>18</td>\n      <td>False</td>\n      <td>0</td>\n      <td>False</td>\n      <td>1</td>\n      <td>True</td>\n      <td>1</td>\n      <td>False</td>\n      <td>6</td>\n      <td>False</td>\n    </tr>\n    <tr>\n      <th>1</th>\n      <td>0</td>\n      <td>200</td>\n      <td>False</td>\n      <td>0</td>\n      <td>True</td>\n      <td>35</td>\n      <td>True</td>\n      <td>4</td>\n      <td>True</td>\n      <td>2</td>\n      <td>False</td>\n      <td>1</td>\n      <td>True</td>\n      <td>9</td>\n      <td>True</td>\n    </tr>\n    <tr>\n      <th>2</th>\n      <td>1</td>\n      <td>100</td>\n      <td>True</td>\n      <td>1</td>\n      <td>False</td>\n      <td>48</td>\n      <td>True</td>\n      <td>2</td>\n      <td>True</td>\n      <td>2</td>\n      <td>False</td>\n      <td>1</td>\n      <td>False</td>\n      <td>9</td>\n      <td>True</td>\n    </tr>\n    <tr>\n      <th>3</th>\n      <td>1</td>\n      <td>200</td>\n      <td>False</td>\n      <td>1</td>\n      <td>True</td>\n      <td>45</td>\n      <td>False</td>\n      <td>2</td>\n      <td>False</td>\n      <td>0</td>\n      <td>True</td>\n      <td>1</td>\n      <td>True</td>\n      <td>5</td>\n      <td>False</td>\n    </tr>\n    <tr>\n      <th>4</th>\n      <td>2</td>\n      <td>100</td>\n      <td>False</td>\n      <td>0</td>\n      <td>True</td>\n      <td>26</td>\n      <td>False</td>\n      <td>0</td>\n      <td>False</td>\n      <td>0</td>\n      <td>True</td>\n      <td>1</td>\n      <td>True</td>\n      <td>3</td>\n      <td>False</td>\n    </tr>\n  </tbody>\n</table>\n</div>"
     },
     "execution_count": 10,
     "metadata": {},
     "output_type": "execute_result"
    }
   ],
   "source": [
    "df.head()"
   ],
   "metadata": {
    "collapsed": false,
    "ExecuteTime": {
     "end_time": "2023-11-08T01:56:22.604099Z",
     "start_time": "2023-11-08T01:56:22.589895700Z"
    }
   },
   "id": "c7cb8ee2f365c131"
  },
  {
   "cell_type": "code",
   "execution_count": 11,
   "outputs": [],
   "source": [
    "df.drop(columns=['baronFirst', 'dragonFirst', 'inhibitorFirst', 'riftHeraldFirst', 'towerFirst','championFirst'], inplace=True)"
   ],
   "metadata": {
    "collapsed": false,
    "ExecuteTime": {
     "end_time": "2023-11-08T01:56:22.622664800Z",
     "start_time": "2023-11-08T01:56:22.604099Z"
    }
   },
   "id": "4a4ed8d90a1030b6"
  },
  {
   "cell_type": "code",
   "execution_count": 12,
   "outputs": [],
   "source": [
    "df['sideId'].replace({100: 0, 200: 1}, inplace=True)"
   ],
   "metadata": {
    "collapsed": false,
    "ExecuteTime": {
     "end_time": "2023-11-08T01:56:22.679195Z",
     "start_time": "2023-11-08T01:56:22.620156900Z"
    }
   },
   "id": "ef417a117123fb3b"
  },
  {
   "cell_type": "code",
   "execution_count": 13,
   "outputs": [
    {
     "data": {
      "text/plain": "        matchId  sideId  baronKills  championKills  dragonKills  \\\nid                                                                \n0             0       0           1             18            0   \n1             0       1           0             35            4   \n2             1       0           1             48            2   \n3             1       1           1             45            2   \n4             2       0           0             26            0   \n...         ...     ...         ...            ...          ...   \n348563   174282       1           0             16            0   \n348564   174283       0           0              6            0   \n348565   174283       1           0             27            2   \n348566   174284       0           0             21            1   \n348567   174284       1           1             31            3   \n\n        inhibitorKills  riftHeraldKills  towerKills    win  \nid                                                          \n0                    1                1           6  False  \n1                    2                1           9   True  \n2                    2                1           9   True  \n3                    0                1           5  False  \n4                    0                1           3  False  \n...                ...              ...         ...    ...  \n348563               0                0           3  False  \n348564               0                0           0  False  \n348565               0                1           4   True  \n348566               0                0           2  False  \n348567               2                2          10   True  \n\n[348200 rows x 9 columns]",
      "text/html": "<div>\n<style scoped>\n    .dataframe tbody tr th:only-of-type {\n        vertical-align: middle;\n    }\n\n    .dataframe tbody tr th {\n        vertical-align: top;\n    }\n\n    .dataframe thead th {\n        text-align: right;\n    }\n</style>\n<table border=\"1\" class=\"dataframe\">\n  <thead>\n    <tr style=\"text-align: right;\">\n      <th></th>\n      <th>matchId</th>\n      <th>sideId</th>\n      <th>baronKills</th>\n      <th>championKills</th>\n      <th>dragonKills</th>\n      <th>inhibitorKills</th>\n      <th>riftHeraldKills</th>\n      <th>towerKills</th>\n      <th>win</th>\n    </tr>\n    <tr>\n      <th>id</th>\n      <th></th>\n      <th></th>\n      <th></th>\n      <th></th>\n      <th></th>\n      <th></th>\n      <th></th>\n      <th></th>\n      <th></th>\n    </tr>\n  </thead>\n  <tbody>\n    <tr>\n      <th>0</th>\n      <td>0</td>\n      <td>0</td>\n      <td>1</td>\n      <td>18</td>\n      <td>0</td>\n      <td>1</td>\n      <td>1</td>\n      <td>6</td>\n      <td>False</td>\n    </tr>\n    <tr>\n      <th>1</th>\n      <td>0</td>\n      <td>1</td>\n      <td>0</td>\n      <td>35</td>\n      <td>4</td>\n      <td>2</td>\n      <td>1</td>\n      <td>9</td>\n      <td>True</td>\n    </tr>\n    <tr>\n      <th>2</th>\n      <td>1</td>\n      <td>0</td>\n      <td>1</td>\n      <td>48</td>\n      <td>2</td>\n      <td>2</td>\n      <td>1</td>\n      <td>9</td>\n      <td>True</td>\n    </tr>\n    <tr>\n      <th>3</th>\n      <td>1</td>\n      <td>1</td>\n      <td>1</td>\n      <td>45</td>\n      <td>2</td>\n      <td>0</td>\n      <td>1</td>\n      <td>5</td>\n      <td>False</td>\n    </tr>\n    <tr>\n      <th>4</th>\n      <td>2</td>\n      <td>0</td>\n      <td>0</td>\n      <td>26</td>\n      <td>0</td>\n      <td>0</td>\n      <td>1</td>\n      <td>3</td>\n      <td>False</td>\n    </tr>\n    <tr>\n      <th>...</th>\n      <td>...</td>\n      <td>...</td>\n      <td>...</td>\n      <td>...</td>\n      <td>...</td>\n      <td>...</td>\n      <td>...</td>\n      <td>...</td>\n      <td>...</td>\n    </tr>\n    <tr>\n      <th>348563</th>\n      <td>174282</td>\n      <td>1</td>\n      <td>0</td>\n      <td>16</td>\n      <td>0</td>\n      <td>0</td>\n      <td>0</td>\n      <td>3</td>\n      <td>False</td>\n    </tr>\n    <tr>\n      <th>348564</th>\n      <td>174283</td>\n      <td>0</td>\n      <td>0</td>\n      <td>6</td>\n      <td>0</td>\n      <td>0</td>\n      <td>0</td>\n      <td>0</td>\n      <td>False</td>\n    </tr>\n    <tr>\n      <th>348565</th>\n      <td>174283</td>\n      <td>1</td>\n      <td>0</td>\n      <td>27</td>\n      <td>2</td>\n      <td>0</td>\n      <td>1</td>\n      <td>4</td>\n      <td>True</td>\n    </tr>\n    <tr>\n      <th>348566</th>\n      <td>174284</td>\n      <td>0</td>\n      <td>0</td>\n      <td>21</td>\n      <td>1</td>\n      <td>0</td>\n      <td>0</td>\n      <td>2</td>\n      <td>False</td>\n    </tr>\n    <tr>\n      <th>348567</th>\n      <td>174284</td>\n      <td>1</td>\n      <td>1</td>\n      <td>31</td>\n      <td>3</td>\n      <td>2</td>\n      <td>2</td>\n      <td>10</td>\n      <td>True</td>\n    </tr>\n  </tbody>\n</table>\n<p>348200 rows × 9 columns</p>\n</div>"
     },
     "execution_count": 13,
     "metadata": {},
     "output_type": "execute_result"
    }
   ],
   "source": [
    "df"
   ],
   "metadata": {
    "collapsed": false,
    "ExecuteTime": {
     "end_time": "2023-11-08T01:56:22.744723900Z",
     "start_time": "2023-11-08T01:56:22.641178300Z"
    }
   },
   "id": "7af820359a9a0423"
  },
  {
   "cell_type": "code",
   "execution_count": 14,
   "outputs": [],
   "source": [
    "df['win'].replace({True: 1, False: 0}, inplace=True)"
   ],
   "metadata": {
    "collapsed": false,
    "ExecuteTime": {
     "end_time": "2023-11-08T01:56:22.745723Z",
     "start_time": "2023-11-08T01:56:22.651691600Z"
    }
   },
   "id": "db21a27270323708"
  },
  {
   "cell_type": "code",
   "execution_count": 16,
   "outputs": [],
   "source": [
    "df.to_csv('data/transform/team.csv',sep=';')"
   ],
   "metadata": {
    "collapsed": false,
    "ExecuteTime": {
     "end_time": "2023-11-08T01:56:50.362042500Z",
     "start_time": "2023-11-08T01:56:49.948114800Z"
    }
   },
   "id": "ea57608d27fcc12d"
  },
  {
   "cell_type": "code",
   "execution_count": null,
   "outputs": [],
   "source": [],
   "metadata": {
    "collapsed": false
   },
   "id": "76224b6b9110f1b3"
  }
 ],
 "metadata": {
  "kernelspec": {
   "display_name": "Python 3",
   "language": "python",
   "name": "python3"
  },
  "language_info": {
   "codemirror_mode": {
    "name": "ipython",
    "version": 2
   },
   "file_extension": ".py",
   "mimetype": "text/x-python",
   "name": "python",
   "nbconvert_exporter": "python",
   "pygments_lexer": "ipython2",
   "version": "2.7.6"
  }
 },
 "nbformat": 4,
 "nbformat_minor": 5
}
