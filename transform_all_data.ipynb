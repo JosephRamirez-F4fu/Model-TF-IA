{
 "cells": [
  {
   "cell_type": "code",
   "execution_count": 10,
   "id": "initial_id",
   "metadata": {
    "collapsed": true,
    "ExecuteTime": {
     "end_time": "2023-11-08T03:21:12.510173500Z",
     "start_time": "2023-11-08T03:21:12.462152600Z"
    }
   },
   "outputs": [],
   "source": [
    "import pandas as pd"
   ]
  },
  {
   "cell_type": "code",
   "execution_count": 11,
   "outputs": [],
   "source": [
    "df_team = pd.read_csv('data/transform/team.csv',sep=';')\n",
    "df_match = pd.read_csv('data/transform/match.csv',sep=';')\n",
    "df_participant = pd.read_csv('data/transform/participant.csv',sep=';')"
   ],
   "metadata": {
    "collapsed": false,
    "ExecuteTime": {
     "end_time": "2023-11-08T03:21:36.917964900Z",
     "start_time": "2023-11-08T03:21:12.469154200Z"
    }
   },
   "id": "1223aa36e8174a3e"
  },
  {
   "cell_type": "code",
   "execution_count": 12,
   "outputs": [],
   "source": [
    "df_team.set_index('id',inplace=True)\n",
    "df_match.set_index('id',inplace=True)\n",
    "df_participant.set_index('id',inplace=True)"
   ],
   "metadata": {
    "collapsed": false,
    "ExecuteTime": {
     "end_time": "2023-11-08T03:21:36.933470200Z",
     "start_time": "2023-11-08T03:21:36.918965200Z"
    }
   },
   "id": "cc4c5a90491a15b1"
  },
  {
   "cell_type": "code",
   "execution_count": 13,
   "outputs": [
    {
     "data": {
      "text/plain": "    matchId  sideId  baronKills  championKills  dragonKills  inhibitorKills  \\\nid                                                                            \n0         0       0           1             18            0               1   \n1         0       1           0             35            4               2   \n2         1       0           1             48            2               2   \n3         1       1           1             45            2               0   \n4         2       0           0             26            0               0   \n\n    riftHeraldKills  towerKills  win  \nid                                    \n0                 1           6    0  \n1                 1           9    1  \n2                 1           9    1  \n3                 1           5    0  \n4                 1           3    0  ",
      "text/html": "<div>\n<style scoped>\n    .dataframe tbody tr th:only-of-type {\n        vertical-align: middle;\n    }\n\n    .dataframe tbody tr th {\n        vertical-align: top;\n    }\n\n    .dataframe thead th {\n        text-align: right;\n    }\n</style>\n<table border=\"1\" class=\"dataframe\">\n  <thead>\n    <tr style=\"text-align: right;\">\n      <th></th>\n      <th>matchId</th>\n      <th>sideId</th>\n      <th>baronKills</th>\n      <th>championKills</th>\n      <th>dragonKills</th>\n      <th>inhibitorKills</th>\n      <th>riftHeraldKills</th>\n      <th>towerKills</th>\n      <th>win</th>\n    </tr>\n    <tr>\n      <th>id</th>\n      <th></th>\n      <th></th>\n      <th></th>\n      <th></th>\n      <th></th>\n      <th></th>\n      <th></th>\n      <th></th>\n      <th></th>\n    </tr>\n  </thead>\n  <tbody>\n    <tr>\n      <th>0</th>\n      <td>0</td>\n      <td>0</td>\n      <td>1</td>\n      <td>18</td>\n      <td>0</td>\n      <td>1</td>\n      <td>1</td>\n      <td>6</td>\n      <td>0</td>\n    </tr>\n    <tr>\n      <th>1</th>\n      <td>0</td>\n      <td>1</td>\n      <td>0</td>\n      <td>35</td>\n      <td>4</td>\n      <td>2</td>\n      <td>1</td>\n      <td>9</td>\n      <td>1</td>\n    </tr>\n    <tr>\n      <th>2</th>\n      <td>1</td>\n      <td>0</td>\n      <td>1</td>\n      <td>48</td>\n      <td>2</td>\n      <td>2</td>\n      <td>1</td>\n      <td>9</td>\n      <td>1</td>\n    </tr>\n    <tr>\n      <th>3</th>\n      <td>1</td>\n      <td>1</td>\n      <td>1</td>\n      <td>45</td>\n      <td>2</td>\n      <td>0</td>\n      <td>1</td>\n      <td>5</td>\n      <td>0</td>\n    </tr>\n    <tr>\n      <th>4</th>\n      <td>2</td>\n      <td>0</td>\n      <td>0</td>\n      <td>26</td>\n      <td>0</td>\n      <td>0</td>\n      <td>1</td>\n      <td>3</td>\n      <td>0</td>\n    </tr>\n  </tbody>\n</table>\n</div>"
     },
     "execution_count": 13,
     "metadata": {},
     "output_type": "execute_result"
    }
   ],
   "source": [
    "df_team.head()"
   ],
   "metadata": {
    "collapsed": false,
    "ExecuteTime": {
     "end_time": "2023-11-08T03:21:36.956503500Z",
     "start_time": "2023-11-08T03:21:36.934470200Z"
    }
   },
   "id": "ccc0fb110de7ad89"
  },
  {
   "cell_type": "code",
   "execution_count": 14,
   "outputs": [
    {
     "data": {
      "text/plain": "    gameDurationCluster   level  gameVersion_13.16  gameVersion_13.17  \\\nid                                                                      \n0                     1  1.9459              False              False   \n1                     2  1.9459              False              False   \n4                     1  1.9459              False              False   \n6                     4  1.9459              False              False   \n8                     1  1.9459              False              False   \n\n    gameVersion_13.18  gameVersion_13.19  gameVersion_13.2  \nid                                                          \n0               False               True             False  \n1               False               True             False  \n4               False               True             False  \n6               False               True             False  \n8               False               True             False  ",
      "text/html": "<div>\n<style scoped>\n    .dataframe tbody tr th:only-of-type {\n        vertical-align: middle;\n    }\n\n    .dataframe tbody tr th {\n        vertical-align: top;\n    }\n\n    .dataframe thead th {\n        text-align: right;\n    }\n</style>\n<table border=\"1\" class=\"dataframe\">\n  <thead>\n    <tr style=\"text-align: right;\">\n      <th></th>\n      <th>gameDurationCluster</th>\n      <th>level</th>\n      <th>gameVersion_13.16</th>\n      <th>gameVersion_13.17</th>\n      <th>gameVersion_13.18</th>\n      <th>gameVersion_13.19</th>\n      <th>gameVersion_13.2</th>\n    </tr>\n    <tr>\n      <th>id</th>\n      <th></th>\n      <th></th>\n      <th></th>\n      <th></th>\n      <th></th>\n      <th></th>\n      <th></th>\n    </tr>\n  </thead>\n  <tbody>\n    <tr>\n      <th>0</th>\n      <td>1</td>\n      <td>1.9459</td>\n      <td>False</td>\n      <td>False</td>\n      <td>False</td>\n      <td>True</td>\n      <td>False</td>\n    </tr>\n    <tr>\n      <th>1</th>\n      <td>2</td>\n      <td>1.9459</td>\n      <td>False</td>\n      <td>False</td>\n      <td>False</td>\n      <td>True</td>\n      <td>False</td>\n    </tr>\n    <tr>\n      <th>4</th>\n      <td>1</td>\n      <td>1.9459</td>\n      <td>False</td>\n      <td>False</td>\n      <td>False</td>\n      <td>True</td>\n      <td>False</td>\n    </tr>\n    <tr>\n      <th>6</th>\n      <td>4</td>\n      <td>1.9459</td>\n      <td>False</td>\n      <td>False</td>\n      <td>False</td>\n      <td>True</td>\n      <td>False</td>\n    </tr>\n    <tr>\n      <th>8</th>\n      <td>1</td>\n      <td>1.9459</td>\n      <td>False</td>\n      <td>False</td>\n      <td>False</td>\n      <td>True</td>\n      <td>False</td>\n    </tr>\n  </tbody>\n</table>\n</div>"
     },
     "execution_count": 14,
     "metadata": {},
     "output_type": "execute_result"
    }
   ],
   "source": [
    "df_match.head()"
   ],
   "metadata": {
    "collapsed": false,
    "ExecuteTime": {
     "end_time": "2023-11-08T03:21:37.021029Z",
     "start_time": "2023-11-08T03:21:36.951503900Z"
    }
   },
   "id": "ed832ad694af80eb"
  },
  {
   "cell_type": "code",
   "execution_count": 15,
   "outputs": [
    {
     "data": {
      "text/plain": "    matchId  sideId  baronKills  championKills  dragonKills  inhibitorKills  \\\nid                                                                            \n0         0       0           1             18            0               1   \n1         0       1           0             35            4               2   \n2         1       0           1             48            2               2   \n3         1       1           1             45            2               0   \n8         4       0           0             17            2               0   \n\n    riftHeraldKills  towerKills  win  gameDurationCluster   level  \\\nid                                                                  \n0                 1           6    0                    1  1.9459   \n1                 1           9    1                    1  1.9459   \n2                 1           9    1                    2  1.9459   \n3                 1           5    0                    2  1.9459   \n8                 0           2    0                    1  1.9459   \n\n    gameVersion_13.16  gameVersion_13.17  gameVersion_13.18  \\\nid                                                            \n0               False              False              False   \n1               False              False              False   \n2               False              False              False   \n3               False              False              False   \n8               False              False              False   \n\n    gameVersion_13.19  gameVersion_13.2  \nid                                       \n0                True             False  \n1                True             False  \n2                True             False  \n3                True             False  \n8                True             False  ",
      "text/html": "<div>\n<style scoped>\n    .dataframe tbody tr th:only-of-type {\n        vertical-align: middle;\n    }\n\n    .dataframe tbody tr th {\n        vertical-align: top;\n    }\n\n    .dataframe thead th {\n        text-align: right;\n    }\n</style>\n<table border=\"1\" class=\"dataframe\">\n  <thead>\n    <tr style=\"text-align: right;\">\n      <th></th>\n      <th>matchId</th>\n      <th>sideId</th>\n      <th>baronKills</th>\n      <th>championKills</th>\n      <th>dragonKills</th>\n      <th>inhibitorKills</th>\n      <th>riftHeraldKills</th>\n      <th>towerKills</th>\n      <th>win</th>\n      <th>gameDurationCluster</th>\n      <th>level</th>\n      <th>gameVersion_13.16</th>\n      <th>gameVersion_13.17</th>\n      <th>gameVersion_13.18</th>\n      <th>gameVersion_13.19</th>\n      <th>gameVersion_13.2</th>\n    </tr>\n    <tr>\n      <th>id</th>\n      <th></th>\n      <th></th>\n      <th></th>\n      <th></th>\n      <th></th>\n      <th></th>\n      <th></th>\n      <th></th>\n      <th></th>\n      <th></th>\n      <th></th>\n      <th></th>\n      <th></th>\n      <th></th>\n      <th></th>\n      <th></th>\n    </tr>\n  </thead>\n  <tbody>\n    <tr>\n      <th>0</th>\n      <td>0</td>\n      <td>0</td>\n      <td>1</td>\n      <td>18</td>\n      <td>0</td>\n      <td>1</td>\n      <td>1</td>\n      <td>6</td>\n      <td>0</td>\n      <td>1</td>\n      <td>1.9459</td>\n      <td>False</td>\n      <td>False</td>\n      <td>False</td>\n      <td>True</td>\n      <td>False</td>\n    </tr>\n    <tr>\n      <th>1</th>\n      <td>0</td>\n      <td>1</td>\n      <td>0</td>\n      <td>35</td>\n      <td>4</td>\n      <td>2</td>\n      <td>1</td>\n      <td>9</td>\n      <td>1</td>\n      <td>1</td>\n      <td>1.9459</td>\n      <td>False</td>\n      <td>False</td>\n      <td>False</td>\n      <td>True</td>\n      <td>False</td>\n    </tr>\n    <tr>\n      <th>2</th>\n      <td>1</td>\n      <td>0</td>\n      <td>1</td>\n      <td>48</td>\n      <td>2</td>\n      <td>2</td>\n      <td>1</td>\n      <td>9</td>\n      <td>1</td>\n      <td>2</td>\n      <td>1.9459</td>\n      <td>False</td>\n      <td>False</td>\n      <td>False</td>\n      <td>True</td>\n      <td>False</td>\n    </tr>\n    <tr>\n      <th>3</th>\n      <td>1</td>\n      <td>1</td>\n      <td>1</td>\n      <td>45</td>\n      <td>2</td>\n      <td>0</td>\n      <td>1</td>\n      <td>5</td>\n      <td>0</td>\n      <td>2</td>\n      <td>1.9459</td>\n      <td>False</td>\n      <td>False</td>\n      <td>False</td>\n      <td>True</td>\n      <td>False</td>\n    </tr>\n    <tr>\n      <th>8</th>\n      <td>4</td>\n      <td>0</td>\n      <td>0</td>\n      <td>17</td>\n      <td>2</td>\n      <td>0</td>\n      <td>0</td>\n      <td>2</td>\n      <td>0</td>\n      <td>1</td>\n      <td>1.9459</td>\n      <td>False</td>\n      <td>False</td>\n      <td>False</td>\n      <td>True</td>\n      <td>False</td>\n    </tr>\n  </tbody>\n</table>\n</div>"
     },
     "execution_count": 15,
     "metadata": {},
     "output_type": "execute_result"
    }
   ],
   "source": [
    "df_merge_team_match=pd.merge(df_team,df_match,how='inner',left_on='matchId',right_index=True)\n",
    "df_merge_team_match.head()"
   ],
   "metadata": {
    "collapsed": false,
    "ExecuteTime": {
     "end_time": "2023-11-08T03:21:37.105575Z",
     "start_time": "2023-11-08T03:21:36.966504300Z"
    }
   },
   "id": "f8fc5cbb718cb6c8"
  },
  {
   "cell_type": "code",
   "execution_count": 16,
   "outputs": [
    {
     "data": {
      "text/plain": "    matchId  teamId  turn  gameEndedInSurrender  champExperience  kills  \\\nid                                                                        \n0         0       0     1                 False            13182      9   \n1         0       0     2                 False            12374      6   \n2         0       0     3                 False            13929      1   \n3         0       0     4                 False             9258      0   \n4         0       0     5                 False             8200      2   \n5         0       1     6                 False             9541      1   \n6         0       1     7                 False            13937     15   \n7         0       1     8                 False            12944      5   \n8         0       1     9                 False            12398     11   \n9         0       1    10                 False             9321      2   \n10        1       2     1                 False            17505      6   \n11        1       2     2                 False            16347      8   \n12        1       2     3                 False            17237      4   \n13        1       2     4                 False            15324     20   \n14        1       2     5                 False            12413     10   \n\n    assists  deaths  Position_BOTTOM  Position_JUNGLE  ...  championId_711  \\\nid                                                     ...                   \n0         2       2            False            False  ...           False   \n1         3      10            False             True  ...           False   \n2         3       6            False            False  ...           False   \n3         4       8             True            False  ...           False   \n4         9       9            False            False  ...           False   \n5         1       7            False            False  ...           False   \n6        10       3            False             True  ...           False   \n7        12       2            False            False  ...           False   \n8         6       3             True            False  ...           False   \n9        26       3            False            False  ...           False   \n10        9       7            False            False  ...           False   \n11       18       9            False             True  ...           False   \n12       11       6            False            False  ...           False   \n13       10      11             True            False  ...           False   \n14       12      12            False            False  ...           False   \n\n    championId_777  championId_875  championId_876  championId_887  \\\nid                                                                   \n0            False           False           False           False   \n1            False           False           False           False   \n2            False           False           False           False   \n3            False           False           False           False   \n4            False           False           False           False   \n5            False           False           False           False   \n6            False           False           False           False   \n7            False           False           False           False   \n8            False           False           False           False   \n9            False           False           False           False   \n10            True           False           False           False   \n11           False           False           False           False   \n12           False           False           False           False   \n13           False           False           False           False   \n14           False           False           False           False   \n\n    championId_888  championId_895  championId_897  championId_902  \\\nid                                                                   \n0            False           False           False           False   \n1            False           False           False           False   \n2            False           False           False           False   \n3            False           False           False           False   \n4            False           False           False           False   \n5            False           False           False           False   \n6            False           False           False           False   \n7            False           False           False           False   \n8            False           False           False           False   \n9            False           False           False           False   \n10           False           False           False           False   \n11           False           False           False           False   \n12           False           False           False           False   \n13           False           False           False           False   \n14           False           False           False           False   \n\n    championId_950  \nid                  \n0            False  \n1            False  \n2            False  \n3            False  \n4            False  \n5            False  \n6            False  \n7            False  \n8            False  \n9            False  \n10           False  \n11           False  \n12           False  \n13           False  \n14           False  \n\n[15 rows x 344 columns]",
      "text/html": "<div>\n<style scoped>\n    .dataframe tbody tr th:only-of-type {\n        vertical-align: middle;\n    }\n\n    .dataframe tbody tr th {\n        vertical-align: top;\n    }\n\n    .dataframe thead th {\n        text-align: right;\n    }\n</style>\n<table border=\"1\" class=\"dataframe\">\n  <thead>\n    <tr style=\"text-align: right;\">\n      <th></th>\n      <th>matchId</th>\n      <th>teamId</th>\n      <th>turn</th>\n      <th>gameEndedInSurrender</th>\n      <th>champExperience</th>\n      <th>kills</th>\n      <th>assists</th>\n      <th>deaths</th>\n      <th>Position_BOTTOM</th>\n      <th>Position_JUNGLE</th>\n      <th>...</th>\n      <th>championId_711</th>\n      <th>championId_777</th>\n      <th>championId_875</th>\n      <th>championId_876</th>\n      <th>championId_887</th>\n      <th>championId_888</th>\n      <th>championId_895</th>\n      <th>championId_897</th>\n      <th>championId_902</th>\n      <th>championId_950</th>\n    </tr>\n    <tr>\n      <th>id</th>\n      <th></th>\n      <th></th>\n      <th></th>\n      <th></th>\n      <th></th>\n      <th></th>\n      <th></th>\n      <th></th>\n      <th></th>\n      <th></th>\n      <th></th>\n      <th></th>\n      <th></th>\n      <th></th>\n      <th></th>\n      <th></th>\n      <th></th>\n      <th></th>\n      <th></th>\n      <th></th>\n      <th></th>\n    </tr>\n  </thead>\n  <tbody>\n    <tr>\n      <th>0</th>\n      <td>0</td>\n      <td>0</td>\n      <td>1</td>\n      <td>False</td>\n      <td>13182</td>\n      <td>9</td>\n      <td>2</td>\n      <td>2</td>\n      <td>False</td>\n      <td>False</td>\n      <td>...</td>\n      <td>False</td>\n      <td>False</td>\n      <td>False</td>\n      <td>False</td>\n      <td>False</td>\n      <td>False</td>\n      <td>False</td>\n      <td>False</td>\n      <td>False</td>\n      <td>False</td>\n    </tr>\n    <tr>\n      <th>1</th>\n      <td>0</td>\n      <td>0</td>\n      <td>2</td>\n      <td>False</td>\n      <td>12374</td>\n      <td>6</td>\n      <td>3</td>\n      <td>10</td>\n      <td>False</td>\n      <td>True</td>\n      <td>...</td>\n      <td>False</td>\n      <td>False</td>\n      <td>False</td>\n      <td>False</td>\n      <td>False</td>\n      <td>False</td>\n      <td>False</td>\n      <td>False</td>\n      <td>False</td>\n      <td>False</td>\n    </tr>\n    <tr>\n      <th>2</th>\n      <td>0</td>\n      <td>0</td>\n      <td>3</td>\n      <td>False</td>\n      <td>13929</td>\n      <td>1</td>\n      <td>3</td>\n      <td>6</td>\n      <td>False</td>\n      <td>False</td>\n      <td>...</td>\n      <td>False</td>\n      <td>False</td>\n      <td>False</td>\n      <td>False</td>\n      <td>False</td>\n      <td>False</td>\n      <td>False</td>\n      <td>False</td>\n      <td>False</td>\n      <td>False</td>\n    </tr>\n    <tr>\n      <th>3</th>\n      <td>0</td>\n      <td>0</td>\n      <td>4</td>\n      <td>False</td>\n      <td>9258</td>\n      <td>0</td>\n      <td>4</td>\n      <td>8</td>\n      <td>True</td>\n      <td>False</td>\n      <td>...</td>\n      <td>False</td>\n      <td>False</td>\n      <td>False</td>\n      <td>False</td>\n      <td>False</td>\n      <td>False</td>\n      <td>False</td>\n      <td>False</td>\n      <td>False</td>\n      <td>False</td>\n    </tr>\n    <tr>\n      <th>4</th>\n      <td>0</td>\n      <td>0</td>\n      <td>5</td>\n      <td>False</td>\n      <td>8200</td>\n      <td>2</td>\n      <td>9</td>\n      <td>9</td>\n      <td>False</td>\n      <td>False</td>\n      <td>...</td>\n      <td>False</td>\n      <td>False</td>\n      <td>False</td>\n      <td>False</td>\n      <td>False</td>\n      <td>False</td>\n      <td>False</td>\n      <td>False</td>\n      <td>False</td>\n      <td>False</td>\n    </tr>\n    <tr>\n      <th>5</th>\n      <td>0</td>\n      <td>1</td>\n      <td>6</td>\n      <td>False</td>\n      <td>9541</td>\n      <td>1</td>\n      <td>1</td>\n      <td>7</td>\n      <td>False</td>\n      <td>False</td>\n      <td>...</td>\n      <td>False</td>\n      <td>False</td>\n      <td>False</td>\n      <td>False</td>\n      <td>False</td>\n      <td>False</td>\n      <td>False</td>\n      <td>False</td>\n      <td>False</td>\n      <td>False</td>\n    </tr>\n    <tr>\n      <th>6</th>\n      <td>0</td>\n      <td>1</td>\n      <td>7</td>\n      <td>False</td>\n      <td>13937</td>\n      <td>15</td>\n      <td>10</td>\n      <td>3</td>\n      <td>False</td>\n      <td>True</td>\n      <td>...</td>\n      <td>False</td>\n      <td>False</td>\n      <td>False</td>\n      <td>False</td>\n      <td>False</td>\n      <td>False</td>\n      <td>False</td>\n      <td>False</td>\n      <td>False</td>\n      <td>False</td>\n    </tr>\n    <tr>\n      <th>7</th>\n      <td>0</td>\n      <td>1</td>\n      <td>8</td>\n      <td>False</td>\n      <td>12944</td>\n      <td>5</td>\n      <td>12</td>\n      <td>2</td>\n      <td>False</td>\n      <td>False</td>\n      <td>...</td>\n      <td>False</td>\n      <td>False</td>\n      <td>False</td>\n      <td>False</td>\n      <td>False</td>\n      <td>False</td>\n      <td>False</td>\n      <td>False</td>\n      <td>False</td>\n      <td>False</td>\n    </tr>\n    <tr>\n      <th>8</th>\n      <td>0</td>\n      <td>1</td>\n      <td>9</td>\n      <td>False</td>\n      <td>12398</td>\n      <td>11</td>\n      <td>6</td>\n      <td>3</td>\n      <td>True</td>\n      <td>False</td>\n      <td>...</td>\n      <td>False</td>\n      <td>False</td>\n      <td>False</td>\n      <td>False</td>\n      <td>False</td>\n      <td>False</td>\n      <td>False</td>\n      <td>False</td>\n      <td>False</td>\n      <td>False</td>\n    </tr>\n    <tr>\n      <th>9</th>\n      <td>0</td>\n      <td>1</td>\n      <td>10</td>\n      <td>False</td>\n      <td>9321</td>\n      <td>2</td>\n      <td>26</td>\n      <td>3</td>\n      <td>False</td>\n      <td>False</td>\n      <td>...</td>\n      <td>False</td>\n      <td>False</td>\n      <td>False</td>\n      <td>False</td>\n      <td>False</td>\n      <td>False</td>\n      <td>False</td>\n      <td>False</td>\n      <td>False</td>\n      <td>False</td>\n    </tr>\n    <tr>\n      <th>10</th>\n      <td>1</td>\n      <td>2</td>\n      <td>1</td>\n      <td>False</td>\n      <td>17505</td>\n      <td>6</td>\n      <td>9</td>\n      <td>7</td>\n      <td>False</td>\n      <td>False</td>\n      <td>...</td>\n      <td>False</td>\n      <td>True</td>\n      <td>False</td>\n      <td>False</td>\n      <td>False</td>\n      <td>False</td>\n      <td>False</td>\n      <td>False</td>\n      <td>False</td>\n      <td>False</td>\n    </tr>\n    <tr>\n      <th>11</th>\n      <td>1</td>\n      <td>2</td>\n      <td>2</td>\n      <td>False</td>\n      <td>16347</td>\n      <td>8</td>\n      <td>18</td>\n      <td>9</td>\n      <td>False</td>\n      <td>True</td>\n      <td>...</td>\n      <td>False</td>\n      <td>False</td>\n      <td>False</td>\n      <td>False</td>\n      <td>False</td>\n      <td>False</td>\n      <td>False</td>\n      <td>False</td>\n      <td>False</td>\n      <td>False</td>\n    </tr>\n    <tr>\n      <th>12</th>\n      <td>1</td>\n      <td>2</td>\n      <td>3</td>\n      <td>False</td>\n      <td>17237</td>\n      <td>4</td>\n      <td>11</td>\n      <td>6</td>\n      <td>False</td>\n      <td>False</td>\n      <td>...</td>\n      <td>False</td>\n      <td>False</td>\n      <td>False</td>\n      <td>False</td>\n      <td>False</td>\n      <td>False</td>\n      <td>False</td>\n      <td>False</td>\n      <td>False</td>\n      <td>False</td>\n    </tr>\n    <tr>\n      <th>13</th>\n      <td>1</td>\n      <td>2</td>\n      <td>4</td>\n      <td>False</td>\n      <td>15324</td>\n      <td>20</td>\n      <td>10</td>\n      <td>11</td>\n      <td>True</td>\n      <td>False</td>\n      <td>...</td>\n      <td>False</td>\n      <td>False</td>\n      <td>False</td>\n      <td>False</td>\n      <td>False</td>\n      <td>False</td>\n      <td>False</td>\n      <td>False</td>\n      <td>False</td>\n      <td>False</td>\n    </tr>\n    <tr>\n      <th>14</th>\n      <td>1</td>\n      <td>2</td>\n      <td>5</td>\n      <td>False</td>\n      <td>12413</td>\n      <td>10</td>\n      <td>12</td>\n      <td>12</td>\n      <td>False</td>\n      <td>False</td>\n      <td>...</td>\n      <td>False</td>\n      <td>False</td>\n      <td>False</td>\n      <td>False</td>\n      <td>False</td>\n      <td>False</td>\n      <td>False</td>\n      <td>False</td>\n      <td>False</td>\n      <td>False</td>\n    </tr>\n  </tbody>\n</table>\n<p>15 rows × 344 columns</p>\n</div>"
     },
     "execution_count": 16,
     "metadata": {},
     "output_type": "execute_result"
    }
   ],
   "source": [
    "df_participant.head(15)"
   ],
   "metadata": {
    "collapsed": false,
    "ExecuteTime": {
     "end_time": "2023-11-08T03:21:37.106575600Z",
     "start_time": "2023-11-08T03:21:37.058544800Z"
    }
   },
   "id": "f045d86bfe81afbe"
  },
  {
   "cell_type": "code",
   "execution_count": 17,
   "outputs": [
    {
     "data": {
      "text/plain": "    matchId_x  sideId  baronKills  championKills  dragonKills  inhibitorKills  \\\nid                                                                              \n0           0       0           1             18            0               1   \n1           0       0           1             18            0               1   \n2           0       0           1             18            0               1   \n3           0       0           1             18            0               1   \n4           0       0           1             18            0               1   \n5           0       1           0             35            4               2   \n6           0       1           0             35            4               2   \n7           0       1           0             35            4               2   \n8           0       1           0             35            4               2   \n9           0       1           0             35            4               2   \n10          1       0           1             48            2               2   \n11          1       0           1             48            2               2   \n12          1       0           1             48            2               2   \n13          1       0           1             48            2               2   \n14          1       0           1             48            2               2   \n\n    riftHeraldKills  towerKills  win  gameDurationCluster  ...  \\\nid                                                         ...   \n0                 1           6    0                    1  ...   \n1                 1           6    0                    1  ...   \n2                 1           6    0                    1  ...   \n3                 1           6    0                    1  ...   \n4                 1           6    0                    1  ...   \n5                 1           9    1                    1  ...   \n6                 1           9    1                    1  ...   \n7                 1           9    1                    1  ...   \n8                 1           9    1                    1  ...   \n9                 1           9    1                    1  ...   \n10                1           9    1                    2  ...   \n11                1           9    1                    2  ...   \n12                1           9    1                    2  ...   \n13                1           9    1                    2  ...   \n14                1           9    1                    2  ...   \n\n    championId_711  championId_777  championId_875  championId_876  \\\nid                                                                   \n0            False           False           False           False   \n1            False           False           False           False   \n2            False           False           False           False   \n3            False           False           False           False   \n4            False           False           False           False   \n5            False           False           False           False   \n6            False           False           False           False   \n7            False           False           False           False   \n8            False           False           False           False   \n9            False           False           False           False   \n10           False            True           False           False   \n11           False           False           False           False   \n12           False           False           False           False   \n13           False           False           False           False   \n14           False           False           False           False   \n\n    championId_887  championId_888  championId_895  championId_897  \\\nid                                                                   \n0            False           False           False           False   \n1            False           False           False           False   \n2            False           False           False           False   \n3            False           False           False           False   \n4            False           False           False           False   \n5            False           False           False           False   \n6            False           False           False           False   \n7            False           False           False           False   \n8            False           False           False           False   \n9            False           False           False           False   \n10           False           False           False           False   \n11           False           False           False           False   \n12           False           False           False           False   \n13           False           False           False           False   \n14           False           False           False           False   \n\n    championId_902  championId_950  \nid                                  \n0            False           False  \n1            False           False  \n2            False           False  \n3            False           False  \n4            False           False  \n5            False           False  \n6            False           False  \n7            False           False  \n8            False           False  \n9            False           False  \n10           False           False  \n11           False           False  \n12           False           False  \n13           False           False  \n14           False           False  \n\n[15 rows x 360 columns]",
      "text/html": "<div>\n<style scoped>\n    .dataframe tbody tr th:only-of-type {\n        vertical-align: middle;\n    }\n\n    .dataframe tbody tr th {\n        vertical-align: top;\n    }\n\n    .dataframe thead th {\n        text-align: right;\n    }\n</style>\n<table border=\"1\" class=\"dataframe\">\n  <thead>\n    <tr style=\"text-align: right;\">\n      <th></th>\n      <th>matchId_x</th>\n      <th>sideId</th>\n      <th>baronKills</th>\n      <th>championKills</th>\n      <th>dragonKills</th>\n      <th>inhibitorKills</th>\n      <th>riftHeraldKills</th>\n      <th>towerKills</th>\n      <th>win</th>\n      <th>gameDurationCluster</th>\n      <th>...</th>\n      <th>championId_711</th>\n      <th>championId_777</th>\n      <th>championId_875</th>\n      <th>championId_876</th>\n      <th>championId_887</th>\n      <th>championId_888</th>\n      <th>championId_895</th>\n      <th>championId_897</th>\n      <th>championId_902</th>\n      <th>championId_950</th>\n    </tr>\n    <tr>\n      <th>id</th>\n      <th></th>\n      <th></th>\n      <th></th>\n      <th></th>\n      <th></th>\n      <th></th>\n      <th></th>\n      <th></th>\n      <th></th>\n      <th></th>\n      <th></th>\n      <th></th>\n      <th></th>\n      <th></th>\n      <th></th>\n      <th></th>\n      <th></th>\n      <th></th>\n      <th></th>\n      <th></th>\n      <th></th>\n    </tr>\n  </thead>\n  <tbody>\n    <tr>\n      <th>0</th>\n      <td>0</td>\n      <td>0</td>\n      <td>1</td>\n      <td>18</td>\n      <td>0</td>\n      <td>1</td>\n      <td>1</td>\n      <td>6</td>\n      <td>0</td>\n      <td>1</td>\n      <td>...</td>\n      <td>False</td>\n      <td>False</td>\n      <td>False</td>\n      <td>False</td>\n      <td>False</td>\n      <td>False</td>\n      <td>False</td>\n      <td>False</td>\n      <td>False</td>\n      <td>False</td>\n    </tr>\n    <tr>\n      <th>1</th>\n      <td>0</td>\n      <td>0</td>\n      <td>1</td>\n      <td>18</td>\n      <td>0</td>\n      <td>1</td>\n      <td>1</td>\n      <td>6</td>\n      <td>0</td>\n      <td>1</td>\n      <td>...</td>\n      <td>False</td>\n      <td>False</td>\n      <td>False</td>\n      <td>False</td>\n      <td>False</td>\n      <td>False</td>\n      <td>False</td>\n      <td>False</td>\n      <td>False</td>\n      <td>False</td>\n    </tr>\n    <tr>\n      <th>2</th>\n      <td>0</td>\n      <td>0</td>\n      <td>1</td>\n      <td>18</td>\n      <td>0</td>\n      <td>1</td>\n      <td>1</td>\n      <td>6</td>\n      <td>0</td>\n      <td>1</td>\n      <td>...</td>\n      <td>False</td>\n      <td>False</td>\n      <td>False</td>\n      <td>False</td>\n      <td>False</td>\n      <td>False</td>\n      <td>False</td>\n      <td>False</td>\n      <td>False</td>\n      <td>False</td>\n    </tr>\n    <tr>\n      <th>3</th>\n      <td>0</td>\n      <td>0</td>\n      <td>1</td>\n      <td>18</td>\n      <td>0</td>\n      <td>1</td>\n      <td>1</td>\n      <td>6</td>\n      <td>0</td>\n      <td>1</td>\n      <td>...</td>\n      <td>False</td>\n      <td>False</td>\n      <td>False</td>\n      <td>False</td>\n      <td>False</td>\n      <td>False</td>\n      <td>False</td>\n      <td>False</td>\n      <td>False</td>\n      <td>False</td>\n    </tr>\n    <tr>\n      <th>4</th>\n      <td>0</td>\n      <td>0</td>\n      <td>1</td>\n      <td>18</td>\n      <td>0</td>\n      <td>1</td>\n      <td>1</td>\n      <td>6</td>\n      <td>0</td>\n      <td>1</td>\n      <td>...</td>\n      <td>False</td>\n      <td>False</td>\n      <td>False</td>\n      <td>False</td>\n      <td>False</td>\n      <td>False</td>\n      <td>False</td>\n      <td>False</td>\n      <td>False</td>\n      <td>False</td>\n    </tr>\n    <tr>\n      <th>5</th>\n      <td>0</td>\n      <td>1</td>\n      <td>0</td>\n      <td>35</td>\n      <td>4</td>\n      <td>2</td>\n      <td>1</td>\n      <td>9</td>\n      <td>1</td>\n      <td>1</td>\n      <td>...</td>\n      <td>False</td>\n      <td>False</td>\n      <td>False</td>\n      <td>False</td>\n      <td>False</td>\n      <td>False</td>\n      <td>False</td>\n      <td>False</td>\n      <td>False</td>\n      <td>False</td>\n    </tr>\n    <tr>\n      <th>6</th>\n      <td>0</td>\n      <td>1</td>\n      <td>0</td>\n      <td>35</td>\n      <td>4</td>\n      <td>2</td>\n      <td>1</td>\n      <td>9</td>\n      <td>1</td>\n      <td>1</td>\n      <td>...</td>\n      <td>False</td>\n      <td>False</td>\n      <td>False</td>\n      <td>False</td>\n      <td>False</td>\n      <td>False</td>\n      <td>False</td>\n      <td>False</td>\n      <td>False</td>\n      <td>False</td>\n    </tr>\n    <tr>\n      <th>7</th>\n      <td>0</td>\n      <td>1</td>\n      <td>0</td>\n      <td>35</td>\n      <td>4</td>\n      <td>2</td>\n      <td>1</td>\n      <td>9</td>\n      <td>1</td>\n      <td>1</td>\n      <td>...</td>\n      <td>False</td>\n      <td>False</td>\n      <td>False</td>\n      <td>False</td>\n      <td>False</td>\n      <td>False</td>\n      <td>False</td>\n      <td>False</td>\n      <td>False</td>\n      <td>False</td>\n    </tr>\n    <tr>\n      <th>8</th>\n      <td>0</td>\n      <td>1</td>\n      <td>0</td>\n      <td>35</td>\n      <td>4</td>\n      <td>2</td>\n      <td>1</td>\n      <td>9</td>\n      <td>1</td>\n      <td>1</td>\n      <td>...</td>\n      <td>False</td>\n      <td>False</td>\n      <td>False</td>\n      <td>False</td>\n      <td>False</td>\n      <td>False</td>\n      <td>False</td>\n      <td>False</td>\n      <td>False</td>\n      <td>False</td>\n    </tr>\n    <tr>\n      <th>9</th>\n      <td>0</td>\n      <td>1</td>\n      <td>0</td>\n      <td>35</td>\n      <td>4</td>\n      <td>2</td>\n      <td>1</td>\n      <td>9</td>\n      <td>1</td>\n      <td>1</td>\n      <td>...</td>\n      <td>False</td>\n      <td>False</td>\n      <td>False</td>\n      <td>False</td>\n      <td>False</td>\n      <td>False</td>\n      <td>False</td>\n      <td>False</td>\n      <td>False</td>\n      <td>False</td>\n    </tr>\n    <tr>\n      <th>10</th>\n      <td>1</td>\n      <td>0</td>\n      <td>1</td>\n      <td>48</td>\n      <td>2</td>\n      <td>2</td>\n      <td>1</td>\n      <td>9</td>\n      <td>1</td>\n      <td>2</td>\n      <td>...</td>\n      <td>False</td>\n      <td>True</td>\n      <td>False</td>\n      <td>False</td>\n      <td>False</td>\n      <td>False</td>\n      <td>False</td>\n      <td>False</td>\n      <td>False</td>\n      <td>False</td>\n    </tr>\n    <tr>\n      <th>11</th>\n      <td>1</td>\n      <td>0</td>\n      <td>1</td>\n      <td>48</td>\n      <td>2</td>\n      <td>2</td>\n      <td>1</td>\n      <td>9</td>\n      <td>1</td>\n      <td>2</td>\n      <td>...</td>\n      <td>False</td>\n      <td>False</td>\n      <td>False</td>\n      <td>False</td>\n      <td>False</td>\n      <td>False</td>\n      <td>False</td>\n      <td>False</td>\n      <td>False</td>\n      <td>False</td>\n    </tr>\n    <tr>\n      <th>12</th>\n      <td>1</td>\n      <td>0</td>\n      <td>1</td>\n      <td>48</td>\n      <td>2</td>\n      <td>2</td>\n      <td>1</td>\n      <td>9</td>\n      <td>1</td>\n      <td>2</td>\n      <td>...</td>\n      <td>False</td>\n      <td>False</td>\n      <td>False</td>\n      <td>False</td>\n      <td>False</td>\n      <td>False</td>\n      <td>False</td>\n      <td>False</td>\n      <td>False</td>\n      <td>False</td>\n    </tr>\n    <tr>\n      <th>13</th>\n      <td>1</td>\n      <td>0</td>\n      <td>1</td>\n      <td>48</td>\n      <td>2</td>\n      <td>2</td>\n      <td>1</td>\n      <td>9</td>\n      <td>1</td>\n      <td>2</td>\n      <td>...</td>\n      <td>False</td>\n      <td>False</td>\n      <td>False</td>\n      <td>False</td>\n      <td>False</td>\n      <td>False</td>\n      <td>False</td>\n      <td>False</td>\n      <td>False</td>\n      <td>False</td>\n    </tr>\n    <tr>\n      <th>14</th>\n      <td>1</td>\n      <td>0</td>\n      <td>1</td>\n      <td>48</td>\n      <td>2</td>\n      <td>2</td>\n      <td>1</td>\n      <td>9</td>\n      <td>1</td>\n      <td>2</td>\n      <td>...</td>\n      <td>False</td>\n      <td>False</td>\n      <td>False</td>\n      <td>False</td>\n      <td>False</td>\n      <td>False</td>\n      <td>False</td>\n      <td>False</td>\n      <td>False</td>\n      <td>False</td>\n    </tr>\n  </tbody>\n</table>\n<p>15 rows × 360 columns</p>\n</div>"
     },
     "execution_count": 17,
     "metadata": {},
     "output_type": "execute_result"
    }
   ],
   "source": [
    "df_merge_all = pd.merge(df_merge_team_match,df_participant,how='inner',left_index=True,right_on='teamId')\n",
    "df_merge_all.head(15)"
   ],
   "metadata": {
    "collapsed": false,
    "ExecuteTime": {
     "end_time": "2023-11-08T03:21:38.104375Z",
     "start_time": "2023-11-08T03:21:37.076057Z"
    }
   },
   "id": "3aa9aa061969f8d4"
  },
  {
   "cell_type": "code",
   "execution_count": 18,
   "outputs": [
    {
     "data": {
      "text/plain": "         matchId  teamId  turn  gameEndedInSurrender  champExperience  kills  \\\nid                                                                             \n0              0       0     1                 False            13182      9   \n1              0       0     2                 False            12374      6   \n2              0       0     3                 False            13929      1   \n3              0       0     4                 False             9258      0   \n4              0       0     5                 False             8200      2   \n...          ...     ...   ...                   ...              ...    ...   \n1742835   174284  348567     6                 False            12639      2   \n1742836   174284  348567     7                 False            14069      8   \n1742837   174284  348567     8                 False            15519     10   \n1742838   174284  348567     9                 False            14381     11   \n1742839   174284  348567    10                 False            10741      0   \n\n         assists  deaths  Position_BOTTOM  Position_JUNGLE  ...  \\\nid                                                          ...   \n0              2       2            False            False  ...   \n1              3      10            False             True  ...   \n2              3       6            False            False  ...   \n3              4       8             True            False  ...   \n4              9       9            False            False  ...   \n...          ...     ...              ...              ...  ...   \n1742835        4       6            False            False  ...   \n1742836        7       5            False             True  ...   \n1742837        4       1            False            False  ...   \n1742838        5       3             True            False  ...   \n1742839       23       6            False            False  ...   \n\n         championId_711  championId_777  championId_875  championId_876  \\\nid                                                                        \n0                 False           False           False           False   \n1                 False           False           False           False   \n2                 False           False           False           False   \n3                 False           False           False           False   \n4                 False           False           False           False   \n...                 ...             ...             ...             ...   \n1742835           False           False           False           False   \n1742836           False           False           False           False   \n1742837           False           False           False           False   \n1742838           False           False           False           False   \n1742839           False           False           False           False   \n\n         championId_887  championId_888  championId_895  championId_897  \\\nid                                                                        \n0                 False           False           False           False   \n1                 False           False           False           False   \n2                 False           False           False           False   \n3                 False           False           False           False   \n4                 False           False           False           False   \n...                 ...             ...             ...             ...   \n1742835           False           False           False           False   \n1742836           False           False           False           False   \n1742837           False           False           False           False   \n1742838           False           False           False           False   \n1742839           False           False           False           False   \n\n         championId_902  championId_950  \nid                                       \n0                 False           False  \n1                 False           False  \n2                 False           False  \n3                 False           False  \n4                 False           False  \n...                 ...             ...  \n1742835           False           False  \n1742836           False           False  \n1742837           False           False  \n1742838           False           False  \n1742839           False           False  \n\n[1740287 rows x 344 columns]",
      "text/html": "<div>\n<style scoped>\n    .dataframe tbody tr th:only-of-type {\n        vertical-align: middle;\n    }\n\n    .dataframe tbody tr th {\n        vertical-align: top;\n    }\n\n    .dataframe thead th {\n        text-align: right;\n    }\n</style>\n<table border=\"1\" class=\"dataframe\">\n  <thead>\n    <tr style=\"text-align: right;\">\n      <th></th>\n      <th>matchId</th>\n      <th>teamId</th>\n      <th>turn</th>\n      <th>gameEndedInSurrender</th>\n      <th>champExperience</th>\n      <th>kills</th>\n      <th>assists</th>\n      <th>deaths</th>\n      <th>Position_BOTTOM</th>\n      <th>Position_JUNGLE</th>\n      <th>...</th>\n      <th>championId_711</th>\n      <th>championId_777</th>\n      <th>championId_875</th>\n      <th>championId_876</th>\n      <th>championId_887</th>\n      <th>championId_888</th>\n      <th>championId_895</th>\n      <th>championId_897</th>\n      <th>championId_902</th>\n      <th>championId_950</th>\n    </tr>\n    <tr>\n      <th>id</th>\n      <th></th>\n      <th></th>\n      <th></th>\n      <th></th>\n      <th></th>\n      <th></th>\n      <th></th>\n      <th></th>\n      <th></th>\n      <th></th>\n      <th></th>\n      <th></th>\n      <th></th>\n      <th></th>\n      <th></th>\n      <th></th>\n      <th></th>\n      <th></th>\n      <th></th>\n      <th></th>\n      <th></th>\n    </tr>\n  </thead>\n  <tbody>\n    <tr>\n      <th>0</th>\n      <td>0</td>\n      <td>0</td>\n      <td>1</td>\n      <td>False</td>\n      <td>13182</td>\n      <td>9</td>\n      <td>2</td>\n      <td>2</td>\n      <td>False</td>\n      <td>False</td>\n      <td>...</td>\n      <td>False</td>\n      <td>False</td>\n      <td>False</td>\n      <td>False</td>\n      <td>False</td>\n      <td>False</td>\n      <td>False</td>\n      <td>False</td>\n      <td>False</td>\n      <td>False</td>\n    </tr>\n    <tr>\n      <th>1</th>\n      <td>0</td>\n      <td>0</td>\n      <td>2</td>\n      <td>False</td>\n      <td>12374</td>\n      <td>6</td>\n      <td>3</td>\n      <td>10</td>\n      <td>False</td>\n      <td>True</td>\n      <td>...</td>\n      <td>False</td>\n      <td>False</td>\n      <td>False</td>\n      <td>False</td>\n      <td>False</td>\n      <td>False</td>\n      <td>False</td>\n      <td>False</td>\n      <td>False</td>\n      <td>False</td>\n    </tr>\n    <tr>\n      <th>2</th>\n      <td>0</td>\n      <td>0</td>\n      <td>3</td>\n      <td>False</td>\n      <td>13929</td>\n      <td>1</td>\n      <td>3</td>\n      <td>6</td>\n      <td>False</td>\n      <td>False</td>\n      <td>...</td>\n      <td>False</td>\n      <td>False</td>\n      <td>False</td>\n      <td>False</td>\n      <td>False</td>\n      <td>False</td>\n      <td>False</td>\n      <td>False</td>\n      <td>False</td>\n      <td>False</td>\n    </tr>\n    <tr>\n      <th>3</th>\n      <td>0</td>\n      <td>0</td>\n      <td>4</td>\n      <td>False</td>\n      <td>9258</td>\n      <td>0</td>\n      <td>4</td>\n      <td>8</td>\n      <td>True</td>\n      <td>False</td>\n      <td>...</td>\n      <td>False</td>\n      <td>False</td>\n      <td>False</td>\n      <td>False</td>\n      <td>False</td>\n      <td>False</td>\n      <td>False</td>\n      <td>False</td>\n      <td>False</td>\n      <td>False</td>\n    </tr>\n    <tr>\n      <th>4</th>\n      <td>0</td>\n      <td>0</td>\n      <td>5</td>\n      <td>False</td>\n      <td>8200</td>\n      <td>2</td>\n      <td>9</td>\n      <td>9</td>\n      <td>False</td>\n      <td>False</td>\n      <td>...</td>\n      <td>False</td>\n      <td>False</td>\n      <td>False</td>\n      <td>False</td>\n      <td>False</td>\n      <td>False</td>\n      <td>False</td>\n      <td>False</td>\n      <td>False</td>\n      <td>False</td>\n    </tr>\n    <tr>\n      <th>...</th>\n      <td>...</td>\n      <td>...</td>\n      <td>...</td>\n      <td>...</td>\n      <td>...</td>\n      <td>...</td>\n      <td>...</td>\n      <td>...</td>\n      <td>...</td>\n      <td>...</td>\n      <td>...</td>\n      <td>...</td>\n      <td>...</td>\n      <td>...</td>\n      <td>...</td>\n      <td>...</td>\n      <td>...</td>\n      <td>...</td>\n      <td>...</td>\n      <td>...</td>\n      <td>...</td>\n    </tr>\n    <tr>\n      <th>1742835</th>\n      <td>174284</td>\n      <td>348567</td>\n      <td>6</td>\n      <td>False</td>\n      <td>12639</td>\n      <td>2</td>\n      <td>4</td>\n      <td>6</td>\n      <td>False</td>\n      <td>False</td>\n      <td>...</td>\n      <td>False</td>\n      <td>False</td>\n      <td>False</td>\n      <td>False</td>\n      <td>False</td>\n      <td>False</td>\n      <td>False</td>\n      <td>False</td>\n      <td>False</td>\n      <td>False</td>\n    </tr>\n    <tr>\n      <th>1742836</th>\n      <td>174284</td>\n      <td>348567</td>\n      <td>7</td>\n      <td>False</td>\n      <td>14069</td>\n      <td>8</td>\n      <td>7</td>\n      <td>5</td>\n      <td>False</td>\n      <td>True</td>\n      <td>...</td>\n      <td>False</td>\n      <td>False</td>\n      <td>False</td>\n      <td>False</td>\n      <td>False</td>\n      <td>False</td>\n      <td>False</td>\n      <td>False</td>\n      <td>False</td>\n      <td>False</td>\n    </tr>\n    <tr>\n      <th>1742837</th>\n      <td>174284</td>\n      <td>348567</td>\n      <td>8</td>\n      <td>False</td>\n      <td>15519</td>\n      <td>10</td>\n      <td>4</td>\n      <td>1</td>\n      <td>False</td>\n      <td>False</td>\n      <td>...</td>\n      <td>False</td>\n      <td>False</td>\n      <td>False</td>\n      <td>False</td>\n      <td>False</td>\n      <td>False</td>\n      <td>False</td>\n      <td>False</td>\n      <td>False</td>\n      <td>False</td>\n    </tr>\n    <tr>\n      <th>1742838</th>\n      <td>174284</td>\n      <td>348567</td>\n      <td>9</td>\n      <td>False</td>\n      <td>14381</td>\n      <td>11</td>\n      <td>5</td>\n      <td>3</td>\n      <td>True</td>\n      <td>False</td>\n      <td>...</td>\n      <td>False</td>\n      <td>False</td>\n      <td>False</td>\n      <td>False</td>\n      <td>False</td>\n      <td>False</td>\n      <td>False</td>\n      <td>False</td>\n      <td>False</td>\n      <td>False</td>\n    </tr>\n    <tr>\n      <th>1742839</th>\n      <td>174284</td>\n      <td>348567</td>\n      <td>10</td>\n      <td>False</td>\n      <td>10741</td>\n      <td>0</td>\n      <td>23</td>\n      <td>6</td>\n      <td>False</td>\n      <td>False</td>\n      <td>...</td>\n      <td>False</td>\n      <td>False</td>\n      <td>False</td>\n      <td>False</td>\n      <td>False</td>\n      <td>False</td>\n      <td>False</td>\n      <td>False</td>\n      <td>False</td>\n      <td>False</td>\n    </tr>\n  </tbody>\n</table>\n<p>1740287 rows × 344 columns</p>\n</div>"
     },
     "execution_count": 18,
     "metadata": {},
     "output_type": "execute_result"
    }
   ],
   "source": [
    "df_participant"
   ],
   "metadata": {
    "collapsed": false,
    "ExecuteTime": {
     "end_time": "2023-11-08T03:21:38.357405200Z",
     "start_time": "2023-11-08T03:21:38.104375Z"
    }
   },
   "id": "64616b8498a59094"
  },
  {
   "cell_type": "code",
   "execution_count": 18,
   "outputs": [],
   "source": [],
   "metadata": {
    "collapsed": false,
    "ExecuteTime": {
     "end_time": "2023-11-08T03:21:38.358405300Z",
     "start_time": "2023-11-08T03:21:38.338405Z"
    }
   },
   "id": "802b16e9285e2484"
  },
  {
   "cell_type": "markdown",
   "source": [
    "# transform data for model "
   ],
   "metadata": {
    "collapsed": false
   },
   "id": "3ba7464118a612f"
  },
  {
   "cell_type": "code",
   "execution_count": 22,
   "outputs": [
    {
     "data": {
      "text/plain": "         matchId  teamId  turn  gameEndedInSurrender  champExperience  kills  \\\nid                                                                             \n0              0       0     1                 False            13182      9   \n1              0       0     2                 False            12374      6   \n2              0       0     3                 False            13929      1   \n3              0       0     4                 False             9258      0   \n4              0       0     5                 False             8200      2   \n...          ...     ...   ...                   ...              ...    ...   \n1742835   174284  348567     6                 False            12639      2   \n1742836   174284  348567     7                 False            14069      8   \n1742837   174284  348567     8                 False            15519     10   \n1742838   174284  348567     9                 False            14381     11   \n1742839   174284  348567    10                 False            10741      0   \n\n         assists  deaths  Position_BOTTOM  Position_JUNGLE  ...  \\\nid                                                          ...   \n0              2       2            False            False  ...   \n1              3      10            False             True  ...   \n2              3       6            False            False  ...   \n3              4       8             True            False  ...   \n4              9       9            False            False  ...   \n...          ...     ...              ...              ...  ...   \n1742835        4       6            False            False  ...   \n1742836        7       5            False             True  ...   \n1742837        4       1            False            False  ...   \n1742838        5       3             True            False  ...   \n1742839       23       6            False            False  ...   \n\n         championId_711  championId_777  championId_875  championId_876  \\\nid                                                                        \n0                 False           False           False           False   \n1                 False           False           False           False   \n2                 False           False           False           False   \n3                 False           False           False           False   \n4                 False           False           False           False   \n...                 ...             ...             ...             ...   \n1742835           False           False           False           False   \n1742836           False           False           False           False   \n1742837           False           False           False           False   \n1742838           False           False           False           False   \n1742839           False           False           False           False   \n\n         championId_887  championId_888  championId_895  championId_897  \\\nid                                                                        \n0                 False           False           False           False   \n1                 False           False           False           False   \n2                 False           False           False           False   \n3                 False           False           False           False   \n4                 False           False           False           False   \n...                 ...             ...             ...             ...   \n1742835           False           False           False           False   \n1742836           False           False           False           False   \n1742837           False           False           False           False   \n1742838           False           False           False           False   \n1742839           False           False           False           False   \n\n         championId_902  championId_950  \nid                                       \n0                 False           False  \n1                 False           False  \n2                 False           False  \n3                 False           False  \n4                 False           False  \n...                 ...             ...  \n1742835           False           False  \n1742836           False           False  \n1742837           False           False  \n1742838           False           False  \n1742839           False           False  \n\n[1740287 rows x 344 columns]",
      "text/html": "<div>\n<style scoped>\n    .dataframe tbody tr th:only-of-type {\n        vertical-align: middle;\n    }\n\n    .dataframe tbody tr th {\n        vertical-align: top;\n    }\n\n    .dataframe thead th {\n        text-align: right;\n    }\n</style>\n<table border=\"1\" class=\"dataframe\">\n  <thead>\n    <tr style=\"text-align: right;\">\n      <th></th>\n      <th>matchId</th>\n      <th>teamId</th>\n      <th>turn</th>\n      <th>gameEndedInSurrender</th>\n      <th>champExperience</th>\n      <th>kills</th>\n      <th>assists</th>\n      <th>deaths</th>\n      <th>Position_BOTTOM</th>\n      <th>Position_JUNGLE</th>\n      <th>...</th>\n      <th>championId_711</th>\n      <th>championId_777</th>\n      <th>championId_875</th>\n      <th>championId_876</th>\n      <th>championId_887</th>\n      <th>championId_888</th>\n      <th>championId_895</th>\n      <th>championId_897</th>\n      <th>championId_902</th>\n      <th>championId_950</th>\n    </tr>\n    <tr>\n      <th>id</th>\n      <th></th>\n      <th></th>\n      <th></th>\n      <th></th>\n      <th></th>\n      <th></th>\n      <th></th>\n      <th></th>\n      <th></th>\n      <th></th>\n      <th></th>\n      <th></th>\n      <th></th>\n      <th></th>\n      <th></th>\n      <th></th>\n      <th></th>\n      <th></th>\n      <th></th>\n      <th></th>\n      <th></th>\n    </tr>\n  </thead>\n  <tbody>\n    <tr>\n      <th>0</th>\n      <td>0</td>\n      <td>0</td>\n      <td>1</td>\n      <td>False</td>\n      <td>13182</td>\n      <td>9</td>\n      <td>2</td>\n      <td>2</td>\n      <td>False</td>\n      <td>False</td>\n      <td>...</td>\n      <td>False</td>\n      <td>False</td>\n      <td>False</td>\n      <td>False</td>\n      <td>False</td>\n      <td>False</td>\n      <td>False</td>\n      <td>False</td>\n      <td>False</td>\n      <td>False</td>\n    </tr>\n    <tr>\n      <th>1</th>\n      <td>0</td>\n      <td>0</td>\n      <td>2</td>\n      <td>False</td>\n      <td>12374</td>\n      <td>6</td>\n      <td>3</td>\n      <td>10</td>\n      <td>False</td>\n      <td>True</td>\n      <td>...</td>\n      <td>False</td>\n      <td>False</td>\n      <td>False</td>\n      <td>False</td>\n      <td>False</td>\n      <td>False</td>\n      <td>False</td>\n      <td>False</td>\n      <td>False</td>\n      <td>False</td>\n    </tr>\n    <tr>\n      <th>2</th>\n      <td>0</td>\n      <td>0</td>\n      <td>3</td>\n      <td>False</td>\n      <td>13929</td>\n      <td>1</td>\n      <td>3</td>\n      <td>6</td>\n      <td>False</td>\n      <td>False</td>\n      <td>...</td>\n      <td>False</td>\n      <td>False</td>\n      <td>False</td>\n      <td>False</td>\n      <td>False</td>\n      <td>False</td>\n      <td>False</td>\n      <td>False</td>\n      <td>False</td>\n      <td>False</td>\n    </tr>\n    <tr>\n      <th>3</th>\n      <td>0</td>\n      <td>0</td>\n      <td>4</td>\n      <td>False</td>\n      <td>9258</td>\n      <td>0</td>\n      <td>4</td>\n      <td>8</td>\n      <td>True</td>\n      <td>False</td>\n      <td>...</td>\n      <td>False</td>\n      <td>False</td>\n      <td>False</td>\n      <td>False</td>\n      <td>False</td>\n      <td>False</td>\n      <td>False</td>\n      <td>False</td>\n      <td>False</td>\n      <td>False</td>\n    </tr>\n    <tr>\n      <th>4</th>\n      <td>0</td>\n      <td>0</td>\n      <td>5</td>\n      <td>False</td>\n      <td>8200</td>\n      <td>2</td>\n      <td>9</td>\n      <td>9</td>\n      <td>False</td>\n      <td>False</td>\n      <td>...</td>\n      <td>False</td>\n      <td>False</td>\n      <td>False</td>\n      <td>False</td>\n      <td>False</td>\n      <td>False</td>\n      <td>False</td>\n      <td>False</td>\n      <td>False</td>\n      <td>False</td>\n    </tr>\n    <tr>\n      <th>...</th>\n      <td>...</td>\n      <td>...</td>\n      <td>...</td>\n      <td>...</td>\n      <td>...</td>\n      <td>...</td>\n      <td>...</td>\n      <td>...</td>\n      <td>...</td>\n      <td>...</td>\n      <td>...</td>\n      <td>...</td>\n      <td>...</td>\n      <td>...</td>\n      <td>...</td>\n      <td>...</td>\n      <td>...</td>\n      <td>...</td>\n      <td>...</td>\n      <td>...</td>\n      <td>...</td>\n    </tr>\n    <tr>\n      <th>1742835</th>\n      <td>174284</td>\n      <td>348567</td>\n      <td>6</td>\n      <td>False</td>\n      <td>12639</td>\n      <td>2</td>\n      <td>4</td>\n      <td>6</td>\n      <td>False</td>\n      <td>False</td>\n      <td>...</td>\n      <td>False</td>\n      <td>False</td>\n      <td>False</td>\n      <td>False</td>\n      <td>False</td>\n      <td>False</td>\n      <td>False</td>\n      <td>False</td>\n      <td>False</td>\n      <td>False</td>\n    </tr>\n    <tr>\n      <th>1742836</th>\n      <td>174284</td>\n      <td>348567</td>\n      <td>7</td>\n      <td>False</td>\n      <td>14069</td>\n      <td>8</td>\n      <td>7</td>\n      <td>5</td>\n      <td>False</td>\n      <td>True</td>\n      <td>...</td>\n      <td>False</td>\n      <td>False</td>\n      <td>False</td>\n      <td>False</td>\n      <td>False</td>\n      <td>False</td>\n      <td>False</td>\n      <td>False</td>\n      <td>False</td>\n      <td>False</td>\n    </tr>\n    <tr>\n      <th>1742837</th>\n      <td>174284</td>\n      <td>348567</td>\n      <td>8</td>\n      <td>False</td>\n      <td>15519</td>\n      <td>10</td>\n      <td>4</td>\n      <td>1</td>\n      <td>False</td>\n      <td>False</td>\n      <td>...</td>\n      <td>False</td>\n      <td>False</td>\n      <td>False</td>\n      <td>False</td>\n      <td>False</td>\n      <td>False</td>\n      <td>False</td>\n      <td>False</td>\n      <td>False</td>\n      <td>False</td>\n    </tr>\n    <tr>\n      <th>1742838</th>\n      <td>174284</td>\n      <td>348567</td>\n      <td>9</td>\n      <td>False</td>\n      <td>14381</td>\n      <td>11</td>\n      <td>5</td>\n      <td>3</td>\n      <td>True</td>\n      <td>False</td>\n      <td>...</td>\n      <td>False</td>\n      <td>False</td>\n      <td>False</td>\n      <td>False</td>\n      <td>False</td>\n      <td>False</td>\n      <td>False</td>\n      <td>False</td>\n      <td>False</td>\n      <td>False</td>\n    </tr>\n    <tr>\n      <th>1742839</th>\n      <td>174284</td>\n      <td>348567</td>\n      <td>10</td>\n      <td>False</td>\n      <td>10741</td>\n      <td>0</td>\n      <td>23</td>\n      <td>6</td>\n      <td>False</td>\n      <td>False</td>\n      <td>...</td>\n      <td>False</td>\n      <td>False</td>\n      <td>False</td>\n      <td>False</td>\n      <td>False</td>\n      <td>False</td>\n      <td>False</td>\n      <td>False</td>\n      <td>False</td>\n      <td>False</td>\n    </tr>\n  </tbody>\n</table>\n<p>1740287 rows × 344 columns</p>\n</div>"
     },
     "execution_count": 22,
     "metadata": {},
     "output_type": "execute_result"
    }
   ],
   "source": [],
   "metadata": {
    "collapsed": false,
    "ExecuteTime": {
     "end_time": "2023-11-08T03:22:57.477306600Z",
     "start_time": "2023-11-08T03:22:56.871874800Z"
    }
   },
   "id": "df40108619c1deb2"
  },
  {
   "cell_type": "code",
   "execution_count": null,
   "outputs": [],
   "source": [
    "df_team"
   ],
   "metadata": {
    "collapsed": false
   },
   "id": "276cd333d76308da"
  },
  {
   "cell_type": "code",
   "execution_count": 26,
   "outputs": [],
   "source": [
    "matchIds= df_match.index.tolist()"
   ],
   "metadata": {
    "collapsed": false,
    "ExecuteTime": {
     "end_time": "2023-11-08T03:25:48.307834200Z",
     "start_time": "2023-11-08T03:25:48.293831100Z"
    }
   },
   "id": "795a90fae551f1ef"
  },
  {
   "cell_type": "code",
   "execution_count": null,
   "outputs": [],
   "source": [
    "for i in matchIds:\n",
    "\n",
    "    "
   ],
   "metadata": {
    "collapsed": false
   },
   "id": "58883ff3048b5125"
  },
  {
   "cell_type": "code",
   "execution_count": 33,
   "outputs": [
    {
     "data": {
      "text/plain": "  matchId teamId turn gameEndedInSurrender champExperience kills assists  \\\n0       0      0    1                False           13182     9       2   \n\n  deaths Position_BOTTOM Position_JUNGLE  ... championId_711 championId_777  \\\n0      2           False           False  ...          False          False   \n\n  championId_875 championId_876 championId_887 championId_888 championId_895  \\\n0          False          False          False          False          False   \n\n  championId_897 championId_902 championId_950  \n0          False          False          False  \n\n[1 rows x 344 columns]",
      "text/html": "<div>\n<style scoped>\n    .dataframe tbody tr th:only-of-type {\n        vertical-align: middle;\n    }\n\n    .dataframe tbody tr th {\n        vertical-align: top;\n    }\n\n    .dataframe thead th {\n        text-align: right;\n    }\n</style>\n<table border=\"1\" class=\"dataframe\">\n  <thead>\n    <tr style=\"text-align: right;\">\n      <th></th>\n      <th>matchId</th>\n      <th>teamId</th>\n      <th>turn</th>\n      <th>gameEndedInSurrender</th>\n      <th>champExperience</th>\n      <th>kills</th>\n      <th>assists</th>\n      <th>deaths</th>\n      <th>Position_BOTTOM</th>\n      <th>Position_JUNGLE</th>\n      <th>...</th>\n      <th>championId_711</th>\n      <th>championId_777</th>\n      <th>championId_875</th>\n      <th>championId_876</th>\n      <th>championId_887</th>\n      <th>championId_888</th>\n      <th>championId_895</th>\n      <th>championId_897</th>\n      <th>championId_902</th>\n      <th>championId_950</th>\n    </tr>\n  </thead>\n  <tbody>\n    <tr>\n      <th>0</th>\n      <td>0</td>\n      <td>0</td>\n      <td>1</td>\n      <td>False</td>\n      <td>13182</td>\n      <td>9</td>\n      <td>2</td>\n      <td>2</td>\n      <td>False</td>\n      <td>False</td>\n      <td>...</td>\n      <td>False</td>\n      <td>False</td>\n      <td>False</td>\n      <td>False</td>\n      <td>False</td>\n      <td>False</td>\n      <td>False</td>\n      <td>False</td>\n      <td>False</td>\n      <td>False</td>\n    </tr>\n  </tbody>\n</table>\n<p>1 rows × 344 columns</p>\n</div>"
     },
     "execution_count": 33,
     "metadata": {},
     "output_type": "execute_result"
    }
   ],
   "source": [
    "df_participant.iloc[0].to_frame().T"
   ],
   "metadata": {
    "collapsed": false,
    "ExecuteTime": {
     "end_time": "2023-11-08T03:45:53.661401100Z",
     "start_time": "2023-11-08T03:45:53.646889900Z"
    }
   },
   "id": "e8f0236358b6bdb1"
  },
  {
   "cell_type": "code",
   "execution_count": null,
   "outputs": [],
   "source": [
    "df_match"
   ],
   "metadata": {
    "collapsed": false
   },
   "id": "2968a571361778ea"
  }
 ],
 "metadata": {
  "kernelspec": {
   "display_name": "Python 3",
   "language": "python",
   "name": "python3"
  },
  "language_info": {
   "codemirror_mode": {
    "name": "ipython",
    "version": 2
   },
   "file_extension": ".py",
   "mimetype": "text/x-python",
   "name": "python",
   "nbconvert_exporter": "python",
   "pygments_lexer": "ipython2",
   "version": "2.7.6"
  }
 },
 "nbformat": 4,
 "nbformat_minor": 5
}
